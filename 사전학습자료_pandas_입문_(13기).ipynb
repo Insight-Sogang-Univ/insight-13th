{
  "cells": [
    {
      "cell_type": "markdown",
      "metadata": {
        "id": "lF_4S3oY52DU"
      },
      "source": [
        "# Pandas란?\n",
        "- 데이터 분석에 특화된 파이썬 라이브러리\n",
        "- 행과 열로 이루어진 데이터 객체를 만들어 다룰 수 있게 되며, 보다 안정적으로 대용량의 데이터들을 처리하는데 매우 편리한 도구\n",
        "- Numpy의 확장판으로, `Numpy 기능` + `구조화 된 데이터 처리 기능`을 보유함"
      ]
    },
    {
      "cell_type": "markdown",
      "metadata": {
        "id": "irR0FmKH52DX"
      },
      "source": [
        "## Pandas의 주요 데이터 구조\n",
        "\n",
        "<img src = 'https://dandyrilla.github.io/images/2017-08-12/fig0.png'>\n",
        "\n",
        "|이름|차원|설명|\n",
        "|:-----------:|:-----------:|:-----------:|\n",
        "|Series|1차원|균일한 유형의 배열로 표시된 1차원 데이터|\n",
        "|DataFrame|2차원|인덱스가 같은 하나 이상의 Series가 모여진 2차원 표 형식의 데이터|\n",
        "\n",
        "> Pandas의 핵심은 DataFrame!"
      ]
    },
    {
      "cell_type": "markdown",
      "metadata": {
        "id": "pQePm2fE52DY"
      },
      "source": [
        "# DataFrame 생성"
      ]
    },
    {
      "cell_type": "markdown",
      "metadata": {
        "id": "Ujd5-cH152DY"
      },
      "source": [
        "## 라이브러리 불러오기"
      ]
    },
    {
      "cell_type": "code",
      "execution_count": 1,
      "metadata": {
        "ExecuteTime": {
          "end_time": "2024-09-09T03:11:49.158397Z",
          "start_time": "2024-09-09T03:11:48.542588Z"
        },
        "id": "-MLkTA-152DZ"
      },
      "outputs": [],
      "source": [
        "import pandas as pd"
      ]
    },
    {
      "cell_type": "markdown",
      "metadata": {
        "id": "sObl_MMd52Da"
      },
      "source": [
        "## 데이터프레임 만들기"
      ]
    },
    {
      "cell_type": "code",
      "execution_count": 2,
      "metadata": {
        "ExecuteTime": {
          "end_time": "2024-09-09T03:11:50.185158Z",
          "start_time": "2024-09-09T03:11:50.172048Z"
        },
        "colab": {
          "base_uri": "https://localhost:8080/",
          "height": 53
        },
        "id": "skRdOisg52Da",
        "outputId": "ab6fbcc1-5685-4255-afb7-0a6c68952f9e"
      },
      "outputs": [
        {
          "output_type": "execute_result",
          "data": {
            "text/plain": [
              "Empty DataFrame\n",
              "Columns: []\n",
              "Index: []"
            ],
            "text/html": [
              "\n",
              "  <div id=\"df-ca8a9831-449c-42d5-8080-8fb3307ddf8f\" class=\"colab-df-container\">\n",
              "    <div>\n",
              "<style scoped>\n",
              "    .dataframe tbody tr th:only-of-type {\n",
              "        vertical-align: middle;\n",
              "    }\n",
              "\n",
              "    .dataframe tbody tr th {\n",
              "        vertical-align: top;\n",
              "    }\n",
              "\n",
              "    .dataframe thead th {\n",
              "        text-align: right;\n",
              "    }\n",
              "</style>\n",
              "<table border=\"1\" class=\"dataframe\">\n",
              "  <thead>\n",
              "    <tr style=\"text-align: right;\">\n",
              "      <th></th>\n",
              "    </tr>\n",
              "  </thead>\n",
              "  <tbody>\n",
              "  </tbody>\n",
              "</table>\n",
              "</div>\n",
              "    <div class=\"colab-df-buttons\">\n",
              "\n",
              "  <div class=\"colab-df-container\">\n",
              "    <button class=\"colab-df-convert\" onclick=\"convertToInteractive('df-ca8a9831-449c-42d5-8080-8fb3307ddf8f')\"\n",
              "            title=\"Convert this dataframe to an interactive table.\"\n",
              "            style=\"display:none;\">\n",
              "\n",
              "  <svg xmlns=\"http://www.w3.org/2000/svg\" height=\"24px\" viewBox=\"0 -960 960 960\">\n",
              "    <path d=\"M120-120v-720h720v720H120Zm60-500h600v-160H180v160Zm220 220h160v-160H400v160Zm0 220h160v-160H400v160ZM180-400h160v-160H180v160Zm440 0h160v-160H620v160ZM180-180h160v-160H180v160Zm440 0h160v-160H620v160Z\"/>\n",
              "  </svg>\n",
              "    </button>\n",
              "\n",
              "  <style>\n",
              "    .colab-df-container {\n",
              "      display:flex;\n",
              "      gap: 12px;\n",
              "    }\n",
              "\n",
              "    .colab-df-convert {\n",
              "      background-color: #E8F0FE;\n",
              "      border: none;\n",
              "      border-radius: 50%;\n",
              "      cursor: pointer;\n",
              "      display: none;\n",
              "      fill: #1967D2;\n",
              "      height: 32px;\n",
              "      padding: 0 0 0 0;\n",
              "      width: 32px;\n",
              "    }\n",
              "\n",
              "    .colab-df-convert:hover {\n",
              "      background-color: #E2EBFA;\n",
              "      box-shadow: 0px 1px 2px rgba(60, 64, 67, 0.3), 0px 1px 3px 1px rgba(60, 64, 67, 0.15);\n",
              "      fill: #174EA6;\n",
              "    }\n",
              "\n",
              "    .colab-df-buttons div {\n",
              "      margin-bottom: 4px;\n",
              "    }\n",
              "\n",
              "    [theme=dark] .colab-df-convert {\n",
              "      background-color: #3B4455;\n",
              "      fill: #D2E3FC;\n",
              "    }\n",
              "\n",
              "    [theme=dark] .colab-df-convert:hover {\n",
              "      background-color: #434B5C;\n",
              "      box-shadow: 0px 1px 3px 1px rgba(0, 0, 0, 0.15);\n",
              "      filter: drop-shadow(0px 1px 2px rgba(0, 0, 0, 0.3));\n",
              "      fill: #FFFFFF;\n",
              "    }\n",
              "  </style>\n",
              "\n",
              "    <script>\n",
              "      const buttonEl =\n",
              "        document.querySelector('#df-ca8a9831-449c-42d5-8080-8fb3307ddf8f button.colab-df-convert');\n",
              "      buttonEl.style.display =\n",
              "        google.colab.kernel.accessAllowed ? 'block' : 'none';\n",
              "\n",
              "      async function convertToInteractive(key) {\n",
              "        const element = document.querySelector('#df-ca8a9831-449c-42d5-8080-8fb3307ddf8f');\n",
              "        const dataTable =\n",
              "          await google.colab.kernel.invokeFunction('convertToInteractive',\n",
              "                                                    [key], {});\n",
              "        if (!dataTable) return;\n",
              "\n",
              "        const docLinkHtml = 'Like what you see? Visit the ' +\n",
              "          '<a target=\"_blank\" href=https://colab.research.google.com/notebooks/data_table.ipynb>data table notebook</a>'\n",
              "          + ' to learn more about interactive tables.';\n",
              "        element.innerHTML = '';\n",
              "        dataTable['output_type'] = 'display_data';\n",
              "        await google.colab.output.renderOutput(dataTable, element);\n",
              "        const docLink = document.createElement('div');\n",
              "        docLink.innerHTML = docLinkHtml;\n",
              "        element.appendChild(docLink);\n",
              "      }\n",
              "    </script>\n",
              "  </div>\n",
              "\n",
              "\n",
              "    </div>\n",
              "  </div>\n"
            ],
            "application/vnd.google.colaboratory.intrinsic+json": {
              "type": "dataframe",
              "summary": "{\n  \"name\": \"pd\",\n  \"rows\": 0,\n  \"fields\": []\n}"
            }
          },
          "metadata": {},
          "execution_count": 2
        }
      ],
      "source": [
        "# 괄호 안에서 Shift + Tab을 눌러보세요!\n",
        "pd.DataFrame()"
      ]
    },
    {
      "cell_type": "markdown",
      "metadata": {
        "id": "8zElkzN852Dc"
      },
      "source": [
        "**DataFrame의 속성값**\n",
        "```python\n",
        "pd.DataFrame(data = None, index = None, columns = None, dtype = None, copy = False)\n",
        "```\n",
        "- data : DataFrame을 생성할 데이터\n",
        "- index : index에 대한 정보, 미입력시 0부터 순차적으로 부여 (Optional)\n",
        "- columns : 열에 대한 이름값, 미입력시 0부터 순차적으로 부여 (Optional)\n",
        "- dtype : 각 column의 데이터 타입 명시, 미입력시 자체적으로 판단 (Optional)"
      ]
    },
    {
      "cell_type": "markdown",
      "metadata": {
        "id": "zd6xEReq52Dc"
      },
      "source": [
        "##### 2차원 리스트로 데이터프레임 만들기"
      ]
    },
    {
      "cell_type": "code",
      "execution_count": null,
      "metadata": {
        "ExecuteTime": {
          "end_time": "2024-09-09T03:12:02.187385Z",
          "start_time": "2024-09-09T03:12:02.159006Z"
        },
        "id": "fF0BX72052Dc",
        "outputId": "8c0893f6-4002-44e6-e905-2405d12e7015"
      },
      "outputs": [
        {
          "data": {
            "text/html": [
              "<div>\n",
              "<style scoped>\n",
              "    .dataframe tbody tr th:only-of-type {\n",
              "        vertical-align: middle;\n",
              "    }\n",
              "\n",
              "    .dataframe tbody tr th {\n",
              "        vertical-align: top;\n",
              "    }\n",
              "\n",
              "    .dataframe thead th {\n",
              "        text-align: right;\n",
              "    }\n",
              "</style>\n",
              "<table border=\"1\" class=\"dataframe\">\n",
              "  <thead>\n",
              "    <tr style=\"text-align: right;\">\n",
              "      <th></th>\n",
              "      <th>학번</th>\n",
              "      <th>전공</th>\n",
              "      <th>복수전공</th>\n",
              "      <th>역할</th>\n",
              "    </tr>\n",
              "    <tr>\n",
              "      <th>이름</th>\n",
              "      <th></th>\n",
              "      <th></th>\n",
              "      <th></th>\n",
              "      <th></th>\n",
              "    </tr>\n",
              "  </thead>\n",
              "  <tbody>\n",
              "    <tr>\n",
              "      <th>민지</th>\n",
              "      <td>15</td>\n",
              "      <td>커뮤</td>\n",
              "      <td>AI</td>\n",
              "      <td>회장</td>\n",
              "    </tr>\n",
              "    <tr>\n",
              "      <th>다니엘</th>\n",
              "      <td>16</td>\n",
              "      <td>경영</td>\n",
              "      <td>심리</td>\n",
              "      <td>교육팀장</td>\n",
              "    </tr>\n",
              "    <tr>\n",
              "      <th>하니</th>\n",
              "      <td>17</td>\n",
              "      <td>경영</td>\n",
              "      <td>빅사</td>\n",
              "      <td>교육팀원</td>\n",
              "    </tr>\n",
              "    <tr>\n",
              "      <th>해린</th>\n",
              "      <td>19</td>\n",
              "      <td>경영</td>\n",
              "      <td>빅사</td>\n",
              "      <td>교육팀원</td>\n",
              "    </tr>\n",
              "    <tr>\n",
              "      <th>혜인</th>\n",
              "      <td>16</td>\n",
              "      <td>경제</td>\n",
              "      <td>빅사</td>\n",
              "      <td>교육팀원</td>\n",
              "    </tr>\n",
              "  </tbody>\n",
              "</table>\n",
              "</div>"
            ],
            "text/plain": [
              "     학번  전공 복수전공    역할\n",
              "이름                    \n",
              "민지   15  커뮤   AI    회장\n",
              "다니엘  16  경영   심리  교육팀장\n",
              "하니   17  경영   빅사  교육팀원\n",
              "해린   19  경영   빅사  교육팀원\n",
              "혜인   16  경제   빅사  교육팀원"
            ]
          },
          "execution_count": 3,
          "metadata": {},
          "output_type": "execute_result"
        }
      ],
      "source": [
        "lst = [['민지', 15, '커뮤', 'AI', '회장'], ['다니엘', 16, '경영', '심리', '교육팀장'],\n",
        "       ['하니', 17, '경영', '빅사', '교육팀원'], ['해린', 19, '경영', '빅사', '교육팀원'],\n",
        "       ['혜인', 16, '경제', '빅사', '교육팀원']]\n",
        "\n",
        "df = pd.DataFrame(lst, columns=['이름', '학번', '전공', '복수전공', '역할'])\n",
        "df = df.set_index('이름')\n",
        "\n",
        "df"
      ]
    },
    {
      "cell_type": "markdown",
      "metadata": {
        "id": "Go1F4yUI52Dd"
      },
      "source": [
        "##### 사전으로 데이터프레임 만들기"
      ]
    },
    {
      "cell_type": "code",
      "execution_count": null,
      "metadata": {
        "ExecuteTime": {
          "end_time": "2024-09-09T03:12:03.124472Z",
          "start_time": "2024-09-09T03:12:03.112247Z"
        },
        "id": "C-k3jDpq52Dd",
        "outputId": "02d28d7c-470e-4392-8ae7-28df2d58ae1b"
      },
      "outputs": [
        {
          "data": {
            "text/html": [
              "<div>\n",
              "<style scoped>\n",
              "    .dataframe tbody tr th:only-of-type {\n",
              "        vertical-align: middle;\n",
              "    }\n",
              "\n",
              "    .dataframe tbody tr th {\n",
              "        vertical-align: top;\n",
              "    }\n",
              "\n",
              "    .dataframe thead th {\n",
              "        text-align: right;\n",
              "    }\n",
              "</style>\n",
              "<table border=\"1\" class=\"dataframe\">\n",
              "  <thead>\n",
              "    <tr style=\"text-align: right;\">\n",
              "      <th></th>\n",
              "      <th>학번</th>\n",
              "      <th>전공</th>\n",
              "      <th>복수전공</th>\n",
              "      <th>역할</th>\n",
              "    </tr>\n",
              "    <tr>\n",
              "      <th>이름</th>\n",
              "      <th></th>\n",
              "      <th></th>\n",
              "      <th></th>\n",
              "      <th></th>\n",
              "    </tr>\n",
              "  </thead>\n",
              "  <tbody>\n",
              "    <tr>\n",
              "      <th>민지</th>\n",
              "      <td>15</td>\n",
              "      <td>커뮤</td>\n",
              "      <td>AI</td>\n",
              "      <td>회장</td>\n",
              "    </tr>\n",
              "    <tr>\n",
              "      <th>다니엘</th>\n",
              "      <td>16</td>\n",
              "      <td>경영</td>\n",
              "      <td>심리</td>\n",
              "      <td>교육팀장</td>\n",
              "    </tr>\n",
              "    <tr>\n",
              "      <th>하니</th>\n",
              "      <td>17</td>\n",
              "      <td>경영</td>\n",
              "      <td>빅사</td>\n",
              "      <td>교육팀원</td>\n",
              "    </tr>\n",
              "    <tr>\n",
              "      <th>해린</th>\n",
              "      <td>19</td>\n",
              "      <td>경영</td>\n",
              "      <td>빅사</td>\n",
              "      <td>교육팀원</td>\n",
              "    </tr>\n",
              "    <tr>\n",
              "      <th>혜인</th>\n",
              "      <td>16</td>\n",
              "      <td>경제</td>\n",
              "      <td>빅사</td>\n",
              "      <td>교육팀원</td>\n",
              "    </tr>\n",
              "  </tbody>\n",
              "</table>\n",
              "</div>"
            ],
            "text/plain": [
              "     학번  전공 복수전공    역할\n",
              "이름                    \n",
              "민지   15  커뮤   AI    회장\n",
              "다니엘  16  경영   심리  교육팀장\n",
              "하니   17  경영   빅사  교육팀원\n",
              "해린   19  경영   빅사  교육팀원\n",
              "혜인   16  경제   빅사  교육팀원"
            ]
          },
          "execution_count": 4,
          "metadata": {},
          "output_type": "execute_result"
        }
      ],
      "source": [
        "dic = {\n",
        "    '이름': ['민지', '다니엘', '하니', '해린', '혜인'],\n",
        "    '학번': [15, 16, 17, 19, 16],\n",
        "    '전공': ['커뮤', '경영', '경영', '경영', '경제'],\n",
        "    '복수전공': ['AI', '심리', '빅사', '빅사', '빅사'],\n",
        "    '역할': ['회장', '교육팀장', '교육팀원', '교육팀원', '교육팀원']\n",
        "}\n",
        "\n",
        "df2 = pd.DataFrame(dic)\n",
        "df2 = df2.set_index('이름')\n",
        "\n",
        "df2"
      ]
    },
    {
      "cell_type": "markdown",
      "metadata": {
        "id": "lpGccVMM52De"
      },
      "source": [
        "## 데이터프레임 타입 확인"
      ]
    },
    {
      "cell_type": "code",
      "execution_count": null,
      "metadata": {
        "ExecuteTime": {
          "end_time": "2024-09-09T03:12:03.591373Z",
          "start_time": "2024-09-09T03:12:03.585002Z"
        },
        "id": "dzMhpoe_52De",
        "outputId": "930f1d10-82b9-44f2-af92-ada27e85da4f"
      },
      "outputs": [
        {
          "data": {
            "text/plain": [
              "pandas.core.frame.DataFrame"
            ]
          },
          "execution_count": 5,
          "metadata": {},
          "output_type": "execute_result"
        }
      ],
      "source": [
        "type(df)"
      ]
    },
    {
      "cell_type": "code",
      "execution_count": null,
      "metadata": {
        "ExecuteTime": {
          "end_time": "2024-09-09T03:12:03.918104Z",
          "start_time": "2024-09-09T03:12:03.911793Z"
        },
        "id": "DMb7NQ1F52De",
        "outputId": "5b9d8873-83ef-41ad-d890-5f7be277ee85"
      },
      "outputs": [
        {
          "data": {
            "text/plain": [
              "학번       int64\n",
              "전공      object\n",
              "복수전공    object\n",
              "역할      object\n",
              "dtype: object"
            ]
          },
          "execution_count": 6,
          "metadata": {},
          "output_type": "execute_result"
        }
      ],
      "source": [
        "# 컬럼별 데이터 타입 확인\n",
        "# 각 컬럼은 다양한 데이터 타입으로 구성되며, 같은 컬럼의 데이터 타입은 동일하다\n",
        "df.dtypes"
      ]
    },
    {
      "cell_type": "markdown",
      "metadata": {
        "id": "s89SmlKA52Df"
      },
      "source": [
        "# DataFrame 접근"
      ]
    },
    {
      "cell_type": "markdown",
      "metadata": {
        "id": "F7hLsKvm52Df"
      },
      "source": [
        "## head, tail로 접근하기"
      ]
    },
    {
      "cell_type": "markdown",
      "metadata": {
        "id": "20xTAjZ952Df"
      },
      "source": [
        "- `head(개수)` : 위에서부터 개수만큼의 데이터 출력\n",
        "- `tail(개수)` : 밑에서부터 개수만큼의 데이터 출력"
      ]
    },
    {
      "cell_type": "code",
      "execution_count": null,
      "metadata": {
        "ExecuteTime": {
          "end_time": "2024-09-09T03:12:04.694371Z",
          "start_time": "2024-09-09T03:12:04.687753Z"
        },
        "id": "RFt55Ab152Df",
        "outputId": "40aaf121-97d0-4aa2-c5e0-901fe620b0c7"
      },
      "outputs": [
        {
          "data": {
            "text/html": [
              "<div>\n",
              "<style scoped>\n",
              "    .dataframe tbody tr th:only-of-type {\n",
              "        vertical-align: middle;\n",
              "    }\n",
              "\n",
              "    .dataframe tbody tr th {\n",
              "        vertical-align: top;\n",
              "    }\n",
              "\n",
              "    .dataframe thead th {\n",
              "        text-align: right;\n",
              "    }\n",
              "</style>\n",
              "<table border=\"1\" class=\"dataframe\">\n",
              "  <thead>\n",
              "    <tr style=\"text-align: right;\">\n",
              "      <th></th>\n",
              "      <th>학번</th>\n",
              "      <th>전공</th>\n",
              "      <th>복수전공</th>\n",
              "      <th>역할</th>\n",
              "    </tr>\n",
              "    <tr>\n",
              "      <th>이름</th>\n",
              "      <th></th>\n",
              "      <th></th>\n",
              "      <th></th>\n",
              "      <th></th>\n",
              "    </tr>\n",
              "  </thead>\n",
              "  <tbody>\n",
              "    <tr>\n",
              "      <th>민지</th>\n",
              "      <td>15</td>\n",
              "      <td>커뮤</td>\n",
              "      <td>AI</td>\n",
              "      <td>회장</td>\n",
              "    </tr>\n",
              "    <tr>\n",
              "      <th>다니엘</th>\n",
              "      <td>16</td>\n",
              "      <td>경영</td>\n",
              "      <td>심리</td>\n",
              "      <td>교육팀장</td>\n",
              "    </tr>\n",
              "    <tr>\n",
              "      <th>하니</th>\n",
              "      <td>17</td>\n",
              "      <td>경영</td>\n",
              "      <td>빅사</td>\n",
              "      <td>교육팀원</td>\n",
              "    </tr>\n",
              "  </tbody>\n",
              "</table>\n",
              "</div>"
            ],
            "text/plain": [
              "     학번  전공 복수전공    역할\n",
              "이름                    \n",
              "민지   15  커뮤   AI    회장\n",
              "다니엘  16  경영   심리  교육팀장\n",
              "하니   17  경영   빅사  교육팀원"
            ]
          },
          "execution_count": 7,
          "metadata": {},
          "output_type": "execute_result"
        }
      ],
      "source": [
        "df.head(3)"
      ]
    },
    {
      "cell_type": "code",
      "execution_count": null,
      "metadata": {
        "ExecuteTime": {
          "end_time": "2024-09-09T03:12:04.889468Z",
          "start_time": "2024-09-09T03:12:04.880126Z"
        },
        "id": "w6nLZQ7z52Df",
        "outputId": "12cc9675-c43b-4233-d486-e603bb970443"
      },
      "outputs": [
        {
          "data": {
            "text/html": [
              "<div>\n",
              "<style scoped>\n",
              "    .dataframe tbody tr th:only-of-type {\n",
              "        vertical-align: middle;\n",
              "    }\n",
              "\n",
              "    .dataframe tbody tr th {\n",
              "        vertical-align: top;\n",
              "    }\n",
              "\n",
              "    .dataframe thead th {\n",
              "        text-align: right;\n",
              "    }\n",
              "</style>\n",
              "<table border=\"1\" class=\"dataframe\">\n",
              "  <thead>\n",
              "    <tr style=\"text-align: right;\">\n",
              "      <th></th>\n",
              "      <th>학번</th>\n",
              "      <th>전공</th>\n",
              "      <th>복수전공</th>\n",
              "      <th>역할</th>\n",
              "    </tr>\n",
              "    <tr>\n",
              "      <th>이름</th>\n",
              "      <th></th>\n",
              "      <th></th>\n",
              "      <th></th>\n",
              "      <th></th>\n",
              "    </tr>\n",
              "  </thead>\n",
              "  <tbody>\n",
              "    <tr>\n",
              "      <th>민지</th>\n",
              "      <td>15</td>\n",
              "      <td>커뮤</td>\n",
              "      <td>AI</td>\n",
              "      <td>회장</td>\n",
              "    </tr>\n",
              "    <tr>\n",
              "      <th>다니엘</th>\n",
              "      <td>16</td>\n",
              "      <td>경영</td>\n",
              "      <td>심리</td>\n",
              "      <td>교육팀장</td>\n",
              "    </tr>\n",
              "    <tr>\n",
              "      <th>하니</th>\n",
              "      <td>17</td>\n",
              "      <td>경영</td>\n",
              "      <td>빅사</td>\n",
              "      <td>교육팀원</td>\n",
              "    </tr>\n",
              "    <tr>\n",
              "      <th>해린</th>\n",
              "      <td>19</td>\n",
              "      <td>경영</td>\n",
              "      <td>빅사</td>\n",
              "      <td>교육팀원</td>\n",
              "    </tr>\n",
              "    <tr>\n",
              "      <th>혜인</th>\n",
              "      <td>16</td>\n",
              "      <td>경제</td>\n",
              "      <td>빅사</td>\n",
              "      <td>교육팀원</td>\n",
              "    </tr>\n",
              "  </tbody>\n",
              "</table>\n",
              "</div>"
            ],
            "text/plain": [
              "     학번  전공 복수전공    역할\n",
              "이름                    \n",
              "민지   15  커뮤   AI    회장\n",
              "다니엘  16  경영   심리  교육팀장\n",
              "하니   17  경영   빅사  교육팀원\n",
              "해린   19  경영   빅사  교육팀원\n",
              "혜인   16  경제   빅사  교육팀원"
            ]
          },
          "execution_count": 8,
          "metadata": {},
          "output_type": "execute_result"
        }
      ],
      "source": [
        "df.tail() #개수를 쓰지 않을 경우 5개만 출력"
      ]
    },
    {
      "cell_type": "markdown",
      "metadata": {
        "id": "L0bhJtl552Dg"
      },
      "source": [
        "## 행명, 열명으로 접근하기: loc\n",
        ": `df.loc['행명', '열명']`\n",
        "\n",
        "행: row / 열: column\n",
        "\n",
        "|접근 방법|사용 방법|\n",
        "|:--------------------------:|:-----------:|\n",
        "|행명|`df.loc[\"row4\"]`|\n",
        "|행명 리스트|`df.loc[[\"row3\", \"row4\", \"row5\"]]`|\n",
        "|행명 슬라이싱|`df[\"row3\" : \"row5\"]`|\n",
        "|열명|`df.loc[ : , \"col1\"]`|`df[\"col1\"]`|\n",
        "|열명 리스트|`df.loc[ : , [\"col3\", \"col4\", \"col5\"]` or `df[[\"col3\", \"col4\", \"col5\"]]`|\n",
        "|열명 슬라이싱|`df.loc[ : , [\"col3\" : \"col5\"]`|"
      ]
    },
    {
      "cell_type": "markdown",
      "metadata": {
        "id": "00ENabYv52Dg"
      },
      "source": [
        "##### 값 1개 인덱싱"
      ]
    },
    {
      "cell_type": "code",
      "execution_count": null,
      "metadata": {
        "ExecuteTime": {
          "end_time": "2024-09-09T03:12:05.435711Z",
          "start_time": "2024-09-09T03:12:05.430650Z"
        },
        "id": "nxmEgPb_52Dg",
        "outputId": "5e9f48e4-512e-4a79-b114-ef353545053a"
      },
      "outputs": [
        {
          "data": {
            "text/plain": [
              "'교육팀장'"
            ]
          },
          "execution_count": 9,
          "metadata": {},
          "output_type": "execute_result"
        }
      ],
      "source": [
        "df.loc['다니엘', '역할']"
      ]
    },
    {
      "cell_type": "code",
      "execution_count": null,
      "metadata": {
        "ExecuteTime": {
          "end_time": "2024-09-09T03:12:05.777358Z",
          "start_time": "2024-09-09T03:12:05.766014Z"
        },
        "id": "4mZ85gLI52Di",
        "outputId": "7c1cc5f8-5f44-459a-dd13-48ac878df823"
      },
      "outputs": [
        {
          "data": {
            "text/html": [
              "<div>\n",
              "<style scoped>\n",
              "    .dataframe tbody tr th:only-of-type {\n",
              "        vertical-align: middle;\n",
              "    }\n",
              "\n",
              "    .dataframe tbody tr th {\n",
              "        vertical-align: top;\n",
              "    }\n",
              "\n",
              "    .dataframe thead th {\n",
              "        text-align: right;\n",
              "    }\n",
              "</style>\n",
              "<table border=\"1\" class=\"dataframe\">\n",
              "  <thead>\n",
              "    <tr style=\"text-align: right;\">\n",
              "      <th></th>\n",
              "      <th>전공</th>\n",
              "    </tr>\n",
              "    <tr>\n",
              "      <th>이름</th>\n",
              "      <th></th>\n",
              "    </tr>\n",
              "  </thead>\n",
              "  <tbody>\n",
              "    <tr>\n",
              "      <th>민지</th>\n",
              "      <td>커뮤</td>\n",
              "    </tr>\n",
              "    <tr>\n",
              "      <th>다니엘</th>\n",
              "      <td>경영</td>\n",
              "    </tr>\n",
              "    <tr>\n",
              "      <th>하니</th>\n",
              "      <td>경영</td>\n",
              "    </tr>\n",
              "    <tr>\n",
              "      <th>해린</th>\n",
              "      <td>경영</td>\n",
              "    </tr>\n",
              "    <tr>\n",
              "      <th>혜인</th>\n",
              "      <td>경제</td>\n",
              "    </tr>\n",
              "  </tbody>\n",
              "</table>\n",
              "</div>"
            ],
            "text/plain": [
              "     전공\n",
              "이름     \n",
              "민지   커뮤\n",
              "다니엘  경영\n",
              "하니   경영\n",
              "해린   경영\n",
              "혜인   경제"
            ]
          },
          "execution_count": 10,
          "metadata": {},
          "output_type": "execute_result"
        }
      ],
      "source": [
        "df[['전공']]"
      ]
    },
    {
      "cell_type": "markdown",
      "metadata": {
        "id": "4eseH_Cx52Dj"
      },
      "source": [
        "##### 한 줄 인덱싱\n",
        "- 하나의 index만 조회 할 경우 Series Type으로 출력"
      ]
    },
    {
      "cell_type": "code",
      "execution_count": null,
      "metadata": {
        "ExecuteTime": {
          "end_time": "2024-09-09T03:12:06.152502Z",
          "start_time": "2024-09-09T03:12:06.146504Z"
        },
        "id": "N0NaN72352Dj",
        "outputId": "d1b3db29-c863-4185-eaf2-6ef1a2333203"
      },
      "outputs": [
        {
          "data": {
            "text/plain": [
              "학번        19\n",
              "전공        경영\n",
              "복수전공      빅사\n",
              "역할      교육팀원\n",
              "Name: 해린, dtype: object"
            ]
          },
          "execution_count": 11,
          "metadata": {},
          "output_type": "execute_result"
        }
      ],
      "source": [
        "# 행명으로 접근하기\n",
        "# 컬럼 전체를 지정한다는 의미로 : 를 입력함\n",
        "df.loc['해린', : ]  # df.loc['해린']"
      ]
    },
    {
      "cell_type": "code",
      "execution_count": null,
      "metadata": {
        "ExecuteTime": {
          "end_time": "2024-09-09T03:12:06.335743Z",
          "start_time": "2024-09-09T03:12:06.329331Z"
        },
        "id": "T-UnxWPW52Dk",
        "outputId": "691f68c0-23a5-42cd-d80a-f5e1f40e9a58"
      },
      "outputs": [
        {
          "data": {
            "text/plain": [
              "이름\n",
              "민지     커뮤\n",
              "다니엘    경영\n",
              "하니     경영\n",
              "해린     경영\n",
              "혜인     경제\n",
              "Name: 전공, dtype: object"
            ]
          },
          "execution_count": 12,
          "metadata": {},
          "output_type": "execute_result"
        }
      ],
      "source": [
        "# 열명으로 접근하기\n",
        "df.loc[ : , '전공']  #df['전공']  #df.전공"
      ]
    },
    {
      "cell_type": "markdown",
      "metadata": {
        "id": "7XWKgTB352Dl"
      },
      "source": [
        "##### 여러 줄 인덱싱\n",
        "- 여러 index를 조회 할 경우 DataFrame Type으로 출력"
      ]
    },
    {
      "cell_type": "code",
      "execution_count": null,
      "metadata": {
        "ExecuteTime": {
          "end_time": "2024-09-09T03:12:06.700981Z",
          "start_time": "2024-09-09T03:12:06.690719Z"
        },
        "id": "dE_Fa0td52Dl",
        "outputId": "05a138bb-557b-49a9-e364-43949d129b67"
      },
      "outputs": [
        {
          "data": {
            "text/html": [
              "<div>\n",
              "<style scoped>\n",
              "    .dataframe tbody tr th:only-of-type {\n",
              "        vertical-align: middle;\n",
              "    }\n",
              "\n",
              "    .dataframe tbody tr th {\n",
              "        vertical-align: top;\n",
              "    }\n",
              "\n",
              "    .dataframe thead th {\n",
              "        text-align: right;\n",
              "    }\n",
              "</style>\n",
              "<table border=\"1\" class=\"dataframe\">\n",
              "  <thead>\n",
              "    <tr style=\"text-align: right;\">\n",
              "      <th></th>\n",
              "      <th>학번</th>\n",
              "      <th>전공</th>\n",
              "      <th>복수전공</th>\n",
              "      <th>역할</th>\n",
              "    </tr>\n",
              "    <tr>\n",
              "      <th>이름</th>\n",
              "      <th></th>\n",
              "      <th></th>\n",
              "      <th></th>\n",
              "      <th></th>\n",
              "    </tr>\n",
              "  </thead>\n",
              "  <tbody>\n",
              "    <tr>\n",
              "      <th>해린</th>\n",
              "      <td>19</td>\n",
              "      <td>경영</td>\n",
              "      <td>빅사</td>\n",
              "      <td>교육팀원</td>\n",
              "    </tr>\n",
              "    <tr>\n",
              "      <th>혜인</th>\n",
              "      <td>16</td>\n",
              "      <td>경제</td>\n",
              "      <td>빅사</td>\n",
              "      <td>교육팀원</td>\n",
              "    </tr>\n",
              "  </tbody>\n",
              "</table>\n",
              "</div>"
            ],
            "text/plain": [
              "    학번  전공 복수전공    역할\n",
              "이름                   \n",
              "해린  19  경영   빅사  교육팀원\n",
              "혜인  16  경제   빅사  교육팀원"
            ]
          },
          "execution_count": 13,
          "metadata": {},
          "output_type": "execute_result"
        }
      ],
      "source": [
        "df.loc[['해린', '혜인'], : ]  #df.loc[['해린', '혜인']]"
      ]
    },
    {
      "cell_type": "code",
      "execution_count": null,
      "metadata": {
        "ExecuteTime": {
          "end_time": "2024-09-09T03:12:06.900376Z",
          "start_time": "2024-09-09T03:12:06.890724Z"
        },
        "id": "aPx3yjRk52Dl",
        "outputId": "24258faf-d049-4e29-864c-bbf361cd7321"
      },
      "outputs": [
        {
          "data": {
            "text/html": [
              "<div>\n",
              "<style scoped>\n",
              "    .dataframe tbody tr th:only-of-type {\n",
              "        vertical-align: middle;\n",
              "    }\n",
              "\n",
              "    .dataframe tbody tr th {\n",
              "        vertical-align: top;\n",
              "    }\n",
              "\n",
              "    .dataframe thead th {\n",
              "        text-align: right;\n",
              "    }\n",
              "</style>\n",
              "<table border=\"1\" class=\"dataframe\">\n",
              "  <thead>\n",
              "    <tr style=\"text-align: right;\">\n",
              "      <th></th>\n",
              "      <th>전공</th>\n",
              "      <th>복수전공</th>\n",
              "    </tr>\n",
              "    <tr>\n",
              "      <th>이름</th>\n",
              "      <th></th>\n",
              "      <th></th>\n",
              "    </tr>\n",
              "  </thead>\n",
              "  <tbody>\n",
              "    <tr>\n",
              "      <th>민지</th>\n",
              "      <td>커뮤</td>\n",
              "      <td>AI</td>\n",
              "    </tr>\n",
              "    <tr>\n",
              "      <th>다니엘</th>\n",
              "      <td>경영</td>\n",
              "      <td>심리</td>\n",
              "    </tr>\n",
              "    <tr>\n",
              "      <th>하니</th>\n",
              "      <td>경영</td>\n",
              "      <td>빅사</td>\n",
              "    </tr>\n",
              "    <tr>\n",
              "      <th>해린</th>\n",
              "      <td>경영</td>\n",
              "      <td>빅사</td>\n",
              "    </tr>\n",
              "    <tr>\n",
              "      <th>혜인</th>\n",
              "      <td>경제</td>\n",
              "      <td>빅사</td>\n",
              "    </tr>\n",
              "  </tbody>\n",
              "</table>\n",
              "</div>"
            ],
            "text/plain": [
              "     전공 복수전공\n",
              "이름          \n",
              "민지   커뮤   AI\n",
              "다니엘  경영   심리\n",
              "하니   경영   빅사\n",
              "해린   경영   빅사\n",
              "혜인   경제   빅사"
            ]
          },
          "execution_count": 14,
          "metadata": {},
          "output_type": "execute_result"
        }
      ],
      "source": [
        "df.loc[ : , ['전공', '복수전공']]  #df[['전공', '복수전공']]"
      ]
    },
    {
      "cell_type": "markdown",
      "metadata": {
        "id": "T-4AlLKv52Dm"
      },
      "source": [
        "##### 슬라이싱"
      ]
    },
    {
      "cell_type": "code",
      "execution_count": null,
      "metadata": {
        "ExecuteTime": {
          "end_time": "2024-09-09T03:12:07.273553Z",
          "start_time": "2024-09-09T03:12:07.262733Z"
        },
        "id": "XE6w0RkE52Dm",
        "outputId": "6f80107f-0d02-4a61-b976-4e02f81a2eab"
      },
      "outputs": [
        {
          "data": {
            "text/html": [
              "<div>\n",
              "<style scoped>\n",
              "    .dataframe tbody tr th:only-of-type {\n",
              "        vertical-align: middle;\n",
              "    }\n",
              "\n",
              "    .dataframe tbody tr th {\n",
              "        vertical-align: top;\n",
              "    }\n",
              "\n",
              "    .dataframe thead th {\n",
              "        text-align: right;\n",
              "    }\n",
              "</style>\n",
              "<table border=\"1\" class=\"dataframe\">\n",
              "  <thead>\n",
              "    <tr style=\"text-align: right;\">\n",
              "      <th></th>\n",
              "      <th>학번</th>\n",
              "      <th>전공</th>\n",
              "      <th>복수전공</th>\n",
              "      <th>역할</th>\n",
              "    </tr>\n",
              "    <tr>\n",
              "      <th>이름</th>\n",
              "      <th></th>\n",
              "      <th></th>\n",
              "      <th></th>\n",
              "      <th></th>\n",
              "    </tr>\n",
              "  </thead>\n",
              "  <tbody>\n",
              "    <tr>\n",
              "      <th>하니</th>\n",
              "      <td>17</td>\n",
              "      <td>경영</td>\n",
              "      <td>빅사</td>\n",
              "      <td>교육팀원</td>\n",
              "    </tr>\n",
              "    <tr>\n",
              "      <th>해린</th>\n",
              "      <td>19</td>\n",
              "      <td>경영</td>\n",
              "      <td>빅사</td>\n",
              "      <td>교육팀원</td>\n",
              "    </tr>\n",
              "    <tr>\n",
              "      <th>혜인</th>\n",
              "      <td>16</td>\n",
              "      <td>경제</td>\n",
              "      <td>빅사</td>\n",
              "      <td>교육팀원</td>\n",
              "    </tr>\n",
              "  </tbody>\n",
              "</table>\n",
              "</div>"
            ],
            "text/plain": [
              "    학번  전공 복수전공    역할\n",
              "이름                   \n",
              "하니  17  경영   빅사  교육팀원\n",
              "해린  19  경영   빅사  교육팀원\n",
              "혜인  16  경제   빅사  교육팀원"
            ]
          },
          "execution_count": 15,
          "metadata": {},
          "output_type": "execute_result"
        }
      ],
      "source": [
        "df.loc['하니' : '혜인', : ]  #df.loc['하니' : '혜인']  #df['하니' : '혜인']"
      ]
    },
    {
      "cell_type": "code",
      "execution_count": null,
      "metadata": {
        "ExecuteTime": {
          "end_time": "2024-09-09T03:12:07.472590Z",
          "start_time": "2024-09-09T03:12:07.463291Z"
        },
        "id": "EgOMejuY52Dm",
        "outputId": "c89cbe98-682c-4ae4-8eb5-55c1f763f5e0"
      },
      "outputs": [
        {
          "data": {
            "text/html": [
              "<div>\n",
              "<style scoped>\n",
              "    .dataframe tbody tr th:only-of-type {\n",
              "        vertical-align: middle;\n",
              "    }\n",
              "\n",
              "    .dataframe tbody tr th {\n",
              "        vertical-align: top;\n",
              "    }\n",
              "\n",
              "    .dataframe thead th {\n",
              "        text-align: right;\n",
              "    }\n",
              "</style>\n",
              "<table border=\"1\" class=\"dataframe\">\n",
              "  <thead>\n",
              "    <tr style=\"text-align: right;\">\n",
              "      <th></th>\n",
              "      <th>학번</th>\n",
              "      <th>전공</th>\n",
              "      <th>복수전공</th>\n",
              "    </tr>\n",
              "    <tr>\n",
              "      <th>이름</th>\n",
              "      <th></th>\n",
              "      <th></th>\n",
              "      <th></th>\n",
              "    </tr>\n",
              "  </thead>\n",
              "  <tbody>\n",
              "    <tr>\n",
              "      <th>민지</th>\n",
              "      <td>15</td>\n",
              "      <td>커뮤</td>\n",
              "      <td>AI</td>\n",
              "    </tr>\n",
              "    <tr>\n",
              "      <th>다니엘</th>\n",
              "      <td>16</td>\n",
              "      <td>경영</td>\n",
              "      <td>심리</td>\n",
              "    </tr>\n",
              "    <tr>\n",
              "      <th>하니</th>\n",
              "      <td>17</td>\n",
              "      <td>경영</td>\n",
              "      <td>빅사</td>\n",
              "    </tr>\n",
              "    <tr>\n",
              "      <th>해린</th>\n",
              "      <td>19</td>\n",
              "      <td>경영</td>\n",
              "      <td>빅사</td>\n",
              "    </tr>\n",
              "    <tr>\n",
              "      <th>혜인</th>\n",
              "      <td>16</td>\n",
              "      <td>경제</td>\n",
              "      <td>빅사</td>\n",
              "    </tr>\n",
              "  </tbody>\n",
              "</table>\n",
              "</div>"
            ],
            "text/plain": [
              "     학번  전공 복수전공\n",
              "이름              \n",
              "민지   15  커뮤   AI\n",
              "다니엘  16  경영   심리\n",
              "하니   17  경영   빅사\n",
              "해린   19  경영   빅사\n",
              "혜인   16  경제   빅사"
            ]
          },
          "execution_count": 16,
          "metadata": {},
          "output_type": "execute_result"
        }
      ],
      "source": [
        "df.loc[:, '학번' : '복수전공']"
      ]
    },
    {
      "cell_type": "markdown",
      "metadata": {
        "ExecuteTime": {
          "end_time": "2021-08-15T15:56:57.423585Z",
          "start_time": "2021-08-15T15:56:57.413620Z"
        },
        "id": "05uY8aJT52Dn"
      },
      "source": [
        "## 위치 번호로 접근하기: iloc\n",
        ": `df.iloc['행번호', '열번호']`"
      ]
    },
    {
      "cell_type": "markdown",
      "metadata": {
        "id": "EeiKODR252Dn"
      },
      "source": [
        "|접근 방법|사용 방법|\n",
        "|:--------------------------:|:-----------:|\n",
        "|행 위치|`df.iloc[2]`|\n",
        "|행 위치 리스트|`df.iloc[[2, 6, 4]]`|\n",
        "|행 위치 슬라이싱|`df.iloc[2:5]` or `df[2:5]`|\n",
        "|열 위치|`df.iloc[ : , 3]`|\n",
        "|열 위치 리스트|`df.iloc[ : , [3, 2, 5]]`|\n",
        "|열 위치 슬라이싱|`df.iloc[ : , 3:5]`|"
      ]
    },
    {
      "cell_type": "code",
      "execution_count": null,
      "metadata": {
        "ExecuteTime": {
          "end_time": "2024-09-09T03:12:08.078635Z",
          "start_time": "2024-09-09T03:12:08.070044Z"
        },
        "id": "iZhLVwbP52Dn",
        "outputId": "78905428-644f-47c4-b7aa-e7a4dba6441d"
      },
      "outputs": [
        {
          "data": {
            "text/html": [
              "<div>\n",
              "<style scoped>\n",
              "    .dataframe tbody tr th:only-of-type {\n",
              "        vertical-align: middle;\n",
              "    }\n",
              "\n",
              "    .dataframe tbody tr th {\n",
              "        vertical-align: top;\n",
              "    }\n",
              "\n",
              "    .dataframe thead th {\n",
              "        text-align: right;\n",
              "    }\n",
              "</style>\n",
              "<table border=\"1\" class=\"dataframe\">\n",
              "  <thead>\n",
              "    <tr style=\"text-align: right;\">\n",
              "      <th></th>\n",
              "      <th>학번</th>\n",
              "      <th>전공</th>\n",
              "      <th>복수전공</th>\n",
              "      <th>역할</th>\n",
              "    </tr>\n",
              "    <tr>\n",
              "      <th>이름</th>\n",
              "      <th></th>\n",
              "      <th></th>\n",
              "      <th></th>\n",
              "      <th></th>\n",
              "    </tr>\n",
              "  </thead>\n",
              "  <tbody>\n",
              "    <tr>\n",
              "      <th>민지</th>\n",
              "      <td>15</td>\n",
              "      <td>커뮤</td>\n",
              "      <td>AI</td>\n",
              "      <td>회장</td>\n",
              "    </tr>\n",
              "    <tr>\n",
              "      <th>다니엘</th>\n",
              "      <td>16</td>\n",
              "      <td>경영</td>\n",
              "      <td>심리</td>\n",
              "      <td>교육팀장</td>\n",
              "    </tr>\n",
              "    <tr>\n",
              "      <th>하니</th>\n",
              "      <td>17</td>\n",
              "      <td>경영</td>\n",
              "      <td>빅사</td>\n",
              "      <td>교육팀원</td>\n",
              "    </tr>\n",
              "    <tr>\n",
              "      <th>해린</th>\n",
              "      <td>19</td>\n",
              "      <td>경영</td>\n",
              "      <td>빅사</td>\n",
              "      <td>교육팀원</td>\n",
              "    </tr>\n",
              "    <tr>\n",
              "      <th>혜인</th>\n",
              "      <td>16</td>\n",
              "      <td>경제</td>\n",
              "      <td>빅사</td>\n",
              "      <td>교육팀원</td>\n",
              "    </tr>\n",
              "  </tbody>\n",
              "</table>\n",
              "</div>"
            ],
            "text/plain": [
              "     학번  전공 복수전공    역할\n",
              "이름                    \n",
              "민지   15  커뮤   AI    회장\n",
              "다니엘  16  경영   심리  교육팀장\n",
              "하니   17  경영   빅사  교육팀원\n",
              "해린   19  경영   빅사  교육팀원\n",
              "혜인   16  경제   빅사  교육팀원"
            ]
          },
          "execution_count": 17,
          "metadata": {},
          "output_type": "execute_result"
        }
      ],
      "source": [
        "df"
      ]
    },
    {
      "cell_type": "markdown",
      "metadata": {
        "id": "6qsE8o7r52Do"
      },
      "source": [
        "##### 0번 row, 3번 column에 해당하는 값 출력"
      ]
    },
    {
      "cell_type": "code",
      "execution_count": null,
      "metadata": {
        "ExecuteTime": {
          "end_time": "2024-09-09T03:12:08.398584Z",
          "start_time": "2024-09-09T03:12:08.393366Z"
        },
        "id": "wJ65E_4e52Do",
        "outputId": "6b4139a2-8740-4dd9-a490-25036c3c4909"
      },
      "outputs": [
        {
          "data": {
            "text/plain": [
              "'회장'"
            ]
          },
          "execution_count": 18,
          "metadata": {},
          "output_type": "execute_result"
        }
      ],
      "source": [
        "df.iloc[0, 3]"
      ]
    },
    {
      "cell_type": "markdown",
      "metadata": {
        "id": "lXkej65j52Do"
      },
      "source": [
        "##### 1번과 3번 row, 1번과 2번 column에 해당하는 데이터 출력"
      ]
    },
    {
      "cell_type": "code",
      "execution_count": null,
      "metadata": {
        "ExecuteTime": {
          "end_time": "2024-09-09T03:12:08.636286Z",
          "start_time": "2024-09-09T03:12:08.628439Z"
        },
        "id": "sgYVPM9-52Du",
        "outputId": "a86718b9-1e15-4da3-f7a3-72c7bfb1f903"
      },
      "outputs": [
        {
          "data": {
            "text/html": [
              "<div>\n",
              "<style scoped>\n",
              "    .dataframe tbody tr th:only-of-type {\n",
              "        vertical-align: middle;\n",
              "    }\n",
              "\n",
              "    .dataframe tbody tr th {\n",
              "        vertical-align: top;\n",
              "    }\n",
              "\n",
              "    .dataframe thead th {\n",
              "        text-align: right;\n",
              "    }\n",
              "</style>\n",
              "<table border=\"1\" class=\"dataframe\">\n",
              "  <thead>\n",
              "    <tr style=\"text-align: right;\">\n",
              "      <th></th>\n",
              "      <th>전공</th>\n",
              "      <th>복수전공</th>\n",
              "    </tr>\n",
              "    <tr>\n",
              "      <th>이름</th>\n",
              "      <th></th>\n",
              "      <th></th>\n",
              "    </tr>\n",
              "  </thead>\n",
              "  <tbody>\n",
              "    <tr>\n",
              "      <th>다니엘</th>\n",
              "      <td>경영</td>\n",
              "      <td>심리</td>\n",
              "    </tr>\n",
              "    <tr>\n",
              "      <th>해린</th>\n",
              "      <td>경영</td>\n",
              "      <td>빅사</td>\n",
              "    </tr>\n",
              "  </tbody>\n",
              "</table>\n",
              "</div>"
            ],
            "text/plain": [
              "     전공 복수전공\n",
              "이름          \n",
              "다니엘  경영   심리\n",
              "해린   경영   빅사"
            ]
          },
          "execution_count": 19,
          "metadata": {},
          "output_type": "execute_result"
        }
      ],
      "source": [
        "df.iloc[[1, 3], [1, 2]]"
      ]
    },
    {
      "cell_type": "markdown",
      "metadata": {
        "id": "1jJynigO52Du"
      },
      "source": [
        "##### 2번 ~ 마지막 row, 0번 ~ 2번 col에 해당하는 데이터 출력"
      ]
    },
    {
      "cell_type": "code",
      "execution_count": null,
      "metadata": {
        "ExecuteTime": {
          "end_time": "2024-09-09T03:12:09.052693Z",
          "start_time": "2024-09-09T03:12:09.043262Z"
        },
        "id": "ucbjwfCc52Du",
        "outputId": "7cd5c948-f329-4bbd-871e-8e6469db08a1"
      },
      "outputs": [
        {
          "data": {
            "text/html": [
              "<div>\n",
              "<style scoped>\n",
              "    .dataframe tbody tr th:only-of-type {\n",
              "        vertical-align: middle;\n",
              "    }\n",
              "\n",
              "    .dataframe tbody tr th {\n",
              "        vertical-align: top;\n",
              "    }\n",
              "\n",
              "    .dataframe thead th {\n",
              "        text-align: right;\n",
              "    }\n",
              "</style>\n",
              "<table border=\"1\" class=\"dataframe\">\n",
              "  <thead>\n",
              "    <tr style=\"text-align: right;\">\n",
              "      <th></th>\n",
              "      <th>학번</th>\n",
              "      <th>전공</th>\n",
              "      <th>복수전공</th>\n",
              "    </tr>\n",
              "    <tr>\n",
              "      <th>이름</th>\n",
              "      <th></th>\n",
              "      <th></th>\n",
              "      <th></th>\n",
              "    </tr>\n",
              "  </thead>\n",
              "  <tbody>\n",
              "    <tr>\n",
              "      <th>하니</th>\n",
              "      <td>17</td>\n",
              "      <td>경영</td>\n",
              "      <td>빅사</td>\n",
              "    </tr>\n",
              "    <tr>\n",
              "      <th>해린</th>\n",
              "      <td>19</td>\n",
              "      <td>경영</td>\n",
              "      <td>빅사</td>\n",
              "    </tr>\n",
              "    <tr>\n",
              "      <th>혜인</th>\n",
              "      <td>16</td>\n",
              "      <td>경제</td>\n",
              "      <td>빅사</td>\n",
              "    </tr>\n",
              "  </tbody>\n",
              "</table>\n",
              "</div>"
            ],
            "text/plain": [
              "    학번  전공 복수전공\n",
              "이름             \n",
              "하니  17  경영   빅사\n",
              "해린  19  경영   빅사\n",
              "혜인  16  경제   빅사"
            ]
          },
          "execution_count": 20,
          "metadata": {},
          "output_type": "execute_result"
        }
      ],
      "source": [
        "# 연속된 데이터 출력 --> 슬라이싱 활용\n",
        "\n",
        "df.iloc[2:, 0:3]"
      ]
    },
    {
      "cell_type": "markdown",
      "metadata": {
        "id": "59lY1Lul52Dv"
      },
      "source": [
        "## 과제 12\n",
        "12. 레드벨벳 멤버의 데이터프레임(df)에서 연속된 여러 줄을 찾는 과제입니다.<br/>\n",
        "    '다니엘'부터 '혜인'까지의 '학번'과 '역할'만을 확인할 수 있도록 출력해보세요! <br/>\n",
        "    (인덱싱과 슬라이싱 모두 사용)"
      ]
    },
    {
      "cell_type": "code",
      "execution_count": 7,
      "metadata": {
        "ExecuteTime": {
          "end_time": "2024-09-09T03:12:09.431820Z",
          "start_time": "2024-09-09T03:12:09.424442Z"
        },
        "scrolled": true,
        "colab": {
          "base_uri": "https://localhost:8080/",
          "height": 206
        },
        "id": "Q_FbY44_52Dv",
        "outputId": "c6ff4502-f507-4603-ac10-8f8ada3c5dd6"
      },
      "outputs": [
        {
          "output_type": "execute_result",
          "data": {
            "text/plain": [
              "     학번    역할\n",
              "이름           \n",
              "다니엘  16  교육팀장\n",
              "하니   17  교육팀원\n",
              "해린   19  교육팀원\n",
              "혜인   16  교육팀원"
            ],
            "text/html": [
              "\n",
              "  <div id=\"df-b355eb89-f7fa-4d9e-9c7b-73f3d0abad0b\" class=\"colab-df-container\">\n",
              "    <div>\n",
              "<style scoped>\n",
              "    .dataframe tbody tr th:only-of-type {\n",
              "        vertical-align: middle;\n",
              "    }\n",
              "\n",
              "    .dataframe tbody tr th {\n",
              "        vertical-align: top;\n",
              "    }\n",
              "\n",
              "    .dataframe thead th {\n",
              "        text-align: right;\n",
              "    }\n",
              "</style>\n",
              "<table border=\"1\" class=\"dataframe\">\n",
              "  <thead>\n",
              "    <tr style=\"text-align: right;\">\n",
              "      <th></th>\n",
              "      <th>학번</th>\n",
              "      <th>역할</th>\n",
              "    </tr>\n",
              "    <tr>\n",
              "      <th>이름</th>\n",
              "      <th></th>\n",
              "      <th></th>\n",
              "    </tr>\n",
              "  </thead>\n",
              "  <tbody>\n",
              "    <tr>\n",
              "      <th>다니엘</th>\n",
              "      <td>16</td>\n",
              "      <td>교육팀장</td>\n",
              "    </tr>\n",
              "    <tr>\n",
              "      <th>하니</th>\n",
              "      <td>17</td>\n",
              "      <td>교육팀원</td>\n",
              "    </tr>\n",
              "    <tr>\n",
              "      <th>해린</th>\n",
              "      <td>19</td>\n",
              "      <td>교육팀원</td>\n",
              "    </tr>\n",
              "    <tr>\n",
              "      <th>혜인</th>\n",
              "      <td>16</td>\n",
              "      <td>교육팀원</td>\n",
              "    </tr>\n",
              "  </tbody>\n",
              "</table>\n",
              "</div>\n",
              "    <div class=\"colab-df-buttons\">\n",
              "\n",
              "  <div class=\"colab-df-container\">\n",
              "    <button class=\"colab-df-convert\" onclick=\"convertToInteractive('df-b355eb89-f7fa-4d9e-9c7b-73f3d0abad0b')\"\n",
              "            title=\"Convert this dataframe to an interactive table.\"\n",
              "            style=\"display:none;\">\n",
              "\n",
              "  <svg xmlns=\"http://www.w3.org/2000/svg\" height=\"24px\" viewBox=\"0 -960 960 960\">\n",
              "    <path d=\"M120-120v-720h720v720H120Zm60-500h600v-160H180v160Zm220 220h160v-160H400v160Zm0 220h160v-160H400v160ZM180-400h160v-160H180v160Zm440 0h160v-160H620v160ZM180-180h160v-160H180v160Zm440 0h160v-160H620v160Z\"/>\n",
              "  </svg>\n",
              "    </button>\n",
              "\n",
              "  <style>\n",
              "    .colab-df-container {\n",
              "      display:flex;\n",
              "      gap: 12px;\n",
              "    }\n",
              "\n",
              "    .colab-df-convert {\n",
              "      background-color: #E8F0FE;\n",
              "      border: none;\n",
              "      border-radius: 50%;\n",
              "      cursor: pointer;\n",
              "      display: none;\n",
              "      fill: #1967D2;\n",
              "      height: 32px;\n",
              "      padding: 0 0 0 0;\n",
              "      width: 32px;\n",
              "    }\n",
              "\n",
              "    .colab-df-convert:hover {\n",
              "      background-color: #E2EBFA;\n",
              "      box-shadow: 0px 1px 2px rgba(60, 64, 67, 0.3), 0px 1px 3px 1px rgba(60, 64, 67, 0.15);\n",
              "      fill: #174EA6;\n",
              "    }\n",
              "\n",
              "    .colab-df-buttons div {\n",
              "      margin-bottom: 4px;\n",
              "    }\n",
              "\n",
              "    [theme=dark] .colab-df-convert {\n",
              "      background-color: #3B4455;\n",
              "      fill: #D2E3FC;\n",
              "    }\n",
              "\n",
              "    [theme=dark] .colab-df-convert:hover {\n",
              "      background-color: #434B5C;\n",
              "      box-shadow: 0px 1px 3px 1px rgba(0, 0, 0, 0.15);\n",
              "      filter: drop-shadow(0px 1px 2px rgba(0, 0, 0, 0.3));\n",
              "      fill: #FFFFFF;\n",
              "    }\n",
              "  </style>\n",
              "\n",
              "    <script>\n",
              "      const buttonEl =\n",
              "        document.querySelector('#df-b355eb89-f7fa-4d9e-9c7b-73f3d0abad0b button.colab-df-convert');\n",
              "      buttonEl.style.display =\n",
              "        google.colab.kernel.accessAllowed ? 'block' : 'none';\n",
              "\n",
              "      async function convertToInteractive(key) {\n",
              "        const element = document.querySelector('#df-b355eb89-f7fa-4d9e-9c7b-73f3d0abad0b');\n",
              "        const dataTable =\n",
              "          await google.colab.kernel.invokeFunction('convertToInteractive',\n",
              "                                                    [key], {});\n",
              "        if (!dataTable) return;\n",
              "\n",
              "        const docLinkHtml = 'Like what you see? Visit the ' +\n",
              "          '<a target=\"_blank\" href=https://colab.research.google.com/notebooks/data_table.ipynb>data table notebook</a>'\n",
              "          + ' to learn more about interactive tables.';\n",
              "        element.innerHTML = '';\n",
              "        dataTable['output_type'] = 'display_data';\n",
              "        await google.colab.output.renderOutput(dataTable, element);\n",
              "        const docLink = document.createElement('div');\n",
              "        docLink.innerHTML = docLinkHtml;\n",
              "        element.appendChild(docLink);\n",
              "      }\n",
              "    </script>\n",
              "  </div>\n",
              "\n",
              "\n",
              "<div id=\"df-70540191-9103-42cc-9739-d7d56711ef8c\">\n",
              "  <button class=\"colab-df-quickchart\" onclick=\"quickchart('df-70540191-9103-42cc-9739-d7d56711ef8c')\"\n",
              "            title=\"Suggest charts\"\n",
              "            style=\"display:none;\">\n",
              "\n",
              "<svg xmlns=\"http://www.w3.org/2000/svg\" height=\"24px\"viewBox=\"0 0 24 24\"\n",
              "     width=\"24px\">\n",
              "    <g>\n",
              "        <path d=\"M19 3H5c-1.1 0-2 .9-2 2v14c0 1.1.9 2 2 2h14c1.1 0 2-.9 2-2V5c0-1.1-.9-2-2-2zM9 17H7v-7h2v7zm4 0h-2V7h2v10zm4 0h-2v-4h2v4z\"/>\n",
              "    </g>\n",
              "</svg>\n",
              "  </button>\n",
              "\n",
              "<style>\n",
              "  .colab-df-quickchart {\n",
              "      --bg-color: #E8F0FE;\n",
              "      --fill-color: #1967D2;\n",
              "      --hover-bg-color: #E2EBFA;\n",
              "      --hover-fill-color: #174EA6;\n",
              "      --disabled-fill-color: #AAA;\n",
              "      --disabled-bg-color: #DDD;\n",
              "  }\n",
              "\n",
              "  [theme=dark] .colab-df-quickchart {\n",
              "      --bg-color: #3B4455;\n",
              "      --fill-color: #D2E3FC;\n",
              "      --hover-bg-color: #434B5C;\n",
              "      --hover-fill-color: #FFFFFF;\n",
              "      --disabled-bg-color: #3B4455;\n",
              "      --disabled-fill-color: #666;\n",
              "  }\n",
              "\n",
              "  .colab-df-quickchart {\n",
              "    background-color: var(--bg-color);\n",
              "    border: none;\n",
              "    border-radius: 50%;\n",
              "    cursor: pointer;\n",
              "    display: none;\n",
              "    fill: var(--fill-color);\n",
              "    height: 32px;\n",
              "    padding: 0;\n",
              "    width: 32px;\n",
              "  }\n",
              "\n",
              "  .colab-df-quickchart:hover {\n",
              "    background-color: var(--hover-bg-color);\n",
              "    box-shadow: 0 1px 2px rgba(60, 64, 67, 0.3), 0 1px 3px 1px rgba(60, 64, 67, 0.15);\n",
              "    fill: var(--button-hover-fill-color);\n",
              "  }\n",
              "\n",
              "  .colab-df-quickchart-complete:disabled,\n",
              "  .colab-df-quickchart-complete:disabled:hover {\n",
              "    background-color: var(--disabled-bg-color);\n",
              "    fill: var(--disabled-fill-color);\n",
              "    box-shadow: none;\n",
              "  }\n",
              "\n",
              "  .colab-df-spinner {\n",
              "    border: 2px solid var(--fill-color);\n",
              "    border-color: transparent;\n",
              "    border-bottom-color: var(--fill-color);\n",
              "    animation:\n",
              "      spin 1s steps(1) infinite;\n",
              "  }\n",
              "\n",
              "  @keyframes spin {\n",
              "    0% {\n",
              "      border-color: transparent;\n",
              "      border-bottom-color: var(--fill-color);\n",
              "      border-left-color: var(--fill-color);\n",
              "    }\n",
              "    20% {\n",
              "      border-color: transparent;\n",
              "      border-left-color: var(--fill-color);\n",
              "      border-top-color: var(--fill-color);\n",
              "    }\n",
              "    30% {\n",
              "      border-color: transparent;\n",
              "      border-left-color: var(--fill-color);\n",
              "      border-top-color: var(--fill-color);\n",
              "      border-right-color: var(--fill-color);\n",
              "    }\n",
              "    40% {\n",
              "      border-color: transparent;\n",
              "      border-right-color: var(--fill-color);\n",
              "      border-top-color: var(--fill-color);\n",
              "    }\n",
              "    60% {\n",
              "      border-color: transparent;\n",
              "      border-right-color: var(--fill-color);\n",
              "    }\n",
              "    80% {\n",
              "      border-color: transparent;\n",
              "      border-right-color: var(--fill-color);\n",
              "      border-bottom-color: var(--fill-color);\n",
              "    }\n",
              "    90% {\n",
              "      border-color: transparent;\n",
              "      border-bottom-color: var(--fill-color);\n",
              "    }\n",
              "  }\n",
              "</style>\n",
              "\n",
              "  <script>\n",
              "    async function quickchart(key) {\n",
              "      const quickchartButtonEl =\n",
              "        document.querySelector('#' + key + ' button');\n",
              "      quickchartButtonEl.disabled = true;  // To prevent multiple clicks.\n",
              "      quickchartButtonEl.classList.add('colab-df-spinner');\n",
              "      try {\n",
              "        const charts = await google.colab.kernel.invokeFunction(\n",
              "            'suggestCharts', [key], {});\n",
              "      } catch (error) {\n",
              "        console.error('Error during call to suggestCharts:', error);\n",
              "      }\n",
              "      quickchartButtonEl.classList.remove('colab-df-spinner');\n",
              "      quickchartButtonEl.classList.add('colab-df-quickchart-complete');\n",
              "    }\n",
              "    (() => {\n",
              "      let quickchartButtonEl =\n",
              "        document.querySelector('#df-70540191-9103-42cc-9739-d7d56711ef8c button');\n",
              "      quickchartButtonEl.style.display =\n",
              "        google.colab.kernel.accessAllowed ? 'block' : 'none';\n",
              "    })();\n",
              "  </script>\n",
              "</div>\n",
              "\n",
              "    </div>\n",
              "  </div>\n"
            ],
            "application/vnd.google.colaboratory.intrinsic+json": {
              "type": "dataframe",
              "summary": "{\n  \"name\": \"df\",\n  \"rows\": 4,\n  \"fields\": [\n    {\n      \"column\": \"\\uc774\\ub984\",\n      \"properties\": {\n        \"dtype\": \"string\",\n        \"num_unique_values\": 4,\n        \"samples\": [\n          \"\\ud558\\ub2c8\",\n          \"\\ud61c\\uc778\",\n          \"\\ub2e4\\ub2c8\\uc5d8\"\n        ],\n        \"semantic_type\": \"\",\n        \"description\": \"\"\n      }\n    },\n    {\n      \"column\": \"\\ud559\\ubc88\",\n      \"properties\": {\n        \"dtype\": \"number\",\n        \"std\": 1,\n        \"min\": 16,\n        \"max\": 19,\n        \"num_unique_values\": 3,\n        \"samples\": [\n          16,\n          17,\n          19\n        ],\n        \"semantic_type\": \"\",\n        \"description\": \"\"\n      }\n    },\n    {\n      \"column\": \"\\uc5ed\\ud560\",\n      \"properties\": {\n        \"dtype\": \"string\",\n        \"num_unique_values\": 2,\n        \"samples\": [\n          \"\\uad50\\uc721\\ud300\\uc6d0\",\n          \"\\uad50\\uc721\\ud300\\uc7a5\"\n        ],\n        \"semantic_type\": \"\",\n        \"description\": \"\"\n      }\n    }\n  ]\n}"
            }
          },
          "metadata": {},
          "execution_count": 7
        }
      ],
      "source": [
        "import pandas as pd\n",
        "\n",
        "lst = [['민지', 15, '커뮤', 'AI', '회장'], ['다니엘', 16, '경영', '심리', '교육팀장'],\n",
        "       ['하니', 17, '경영', '빅사', '교육팀원'], ['해린', 19, '경영', '빅사', '교육팀원'],\n",
        "       ['혜인', 16, '경제', '빅사', '교육팀원']]\n",
        "\n",
        "df = pd.DataFrame(lst, columns=['이름', '학번', '전공', '복수전공', '역할'])\n",
        "df = df.set_index('이름')\n",
        "\n",
        "df.loc['다니엘':'혜인',['학번', '역할']]"
      ]
    },
    {
      "cell_type": "markdown",
      "metadata": {
        "id": "eA9ry76z52Dv"
      },
      "source": [
        "# DataFrame 수정/추가/삭제"
      ]
    },
    {
      "cell_type": "markdown",
      "metadata": {
        "id": "On5-ZbrC52Dv"
      },
      "source": [
        "## 수정"
      ]
    },
    {
      "cell_type": "markdown",
      "metadata": {
        "id": "6olPvqZQ52Dv"
      },
      "source": [
        "##### 값 1개 수정"
      ]
    },
    {
      "cell_type": "code",
      "execution_count": null,
      "metadata": {
        "ExecuteTime": {
          "end_time": "2024-09-09T03:12:10.204718Z",
          "start_time": "2024-09-09T03:12:10.199468Z"
        },
        "id": "yMsVGPLU52Dw",
        "outputId": "f3cc1535-47a5-41e9-d852-7df3130ebae1"
      },
      "outputs": [
        {
          "data": {
            "text/plain": [
              "'회장'"
            ]
          },
          "execution_count": 22,
          "metadata": {},
          "output_type": "execute_result"
        }
      ],
      "source": [
        "df_new = df.copy()\n",
        "df_new.loc['민지', '역할']"
      ]
    },
    {
      "cell_type": "code",
      "execution_count": null,
      "metadata": {
        "ExecuteTime": {
          "end_time": "2024-09-09T03:12:10.386761Z",
          "start_time": "2024-09-09T03:12:10.378547Z"
        },
        "id": "KeyBpkOh52Dw",
        "outputId": "70c2f5dc-c865-412b-d6d5-e532bd747d82"
      },
      "outputs": [
        {
          "data": {
            "text/html": [
              "<div>\n",
              "<style scoped>\n",
              "    .dataframe tbody tr th:only-of-type {\n",
              "        vertical-align: middle;\n",
              "    }\n",
              "\n",
              "    .dataframe tbody tr th {\n",
              "        vertical-align: top;\n",
              "    }\n",
              "\n",
              "    .dataframe thead th {\n",
              "        text-align: right;\n",
              "    }\n",
              "</style>\n",
              "<table border=\"1\" class=\"dataframe\">\n",
              "  <thead>\n",
              "    <tr style=\"text-align: right;\">\n",
              "      <th></th>\n",
              "      <th>학번</th>\n",
              "      <th>전공</th>\n",
              "      <th>복수전공</th>\n",
              "      <th>역할</th>\n",
              "    </tr>\n",
              "    <tr>\n",
              "      <th>이름</th>\n",
              "      <th></th>\n",
              "      <th></th>\n",
              "      <th></th>\n",
              "      <th></th>\n",
              "    </tr>\n",
              "  </thead>\n",
              "  <tbody>\n",
              "    <tr>\n",
              "      <th>민지</th>\n",
              "      <td>15</td>\n",
              "      <td>커뮤</td>\n",
              "      <td>AI</td>\n",
              "      <td>인싸</td>\n",
              "    </tr>\n",
              "    <tr>\n",
              "      <th>다니엘</th>\n",
              "      <td>16</td>\n",
              "      <td>경영</td>\n",
              "      <td>심리</td>\n",
              "      <td>교육팀장</td>\n",
              "    </tr>\n",
              "    <tr>\n",
              "      <th>하니</th>\n",
              "      <td>17</td>\n",
              "      <td>경영</td>\n",
              "      <td>빅사</td>\n",
              "      <td>교육팀원</td>\n",
              "    </tr>\n",
              "    <tr>\n",
              "      <th>해린</th>\n",
              "      <td>19</td>\n",
              "      <td>경영</td>\n",
              "      <td>빅사</td>\n",
              "      <td>교육팀원</td>\n",
              "    </tr>\n",
              "    <tr>\n",
              "      <th>혜인</th>\n",
              "      <td>16</td>\n",
              "      <td>경제</td>\n",
              "      <td>빅사</td>\n",
              "      <td>교육팀원</td>\n",
              "    </tr>\n",
              "  </tbody>\n",
              "</table>\n",
              "</div>"
            ],
            "text/plain": [
              "     학번  전공 복수전공    역할\n",
              "이름                    \n",
              "민지   15  커뮤   AI    인싸\n",
              "다니엘  16  경영   심리  교육팀장\n",
              "하니   17  경영   빅사  교육팀원\n",
              "해린   19  경영   빅사  교육팀원\n",
              "혜인   16  경제   빅사  교육팀원"
            ]
          },
          "execution_count": 23,
          "metadata": {},
          "output_type": "execute_result"
        }
      ],
      "source": [
        "df_new.loc['민지', '역할'] = '인싸'\n",
        "df_new"
      ]
    },
    {
      "cell_type": "markdown",
      "metadata": {
        "id": "Xe6XDHo052Dw"
      },
      "source": [
        "###### 한 줄 수정"
      ]
    },
    {
      "cell_type": "code",
      "execution_count": null,
      "metadata": {
        "ExecuteTime": {
          "end_time": "2024-09-09T03:12:11.078418Z",
          "start_time": "2024-09-09T03:12:11.069499Z"
        },
        "id": "9GYJTYXx52Dw",
        "outputId": "445a1cb7-d890-43b5-fdbd-2d75bf459d56"
      },
      "outputs": [
        {
          "data": {
            "text/html": [
              "<div>\n",
              "<style scoped>\n",
              "    .dataframe tbody tr th:only-of-type {\n",
              "        vertical-align: middle;\n",
              "    }\n",
              "\n",
              "    .dataframe tbody tr th {\n",
              "        vertical-align: top;\n",
              "    }\n",
              "\n",
              "    .dataframe thead th {\n",
              "        text-align: right;\n",
              "    }\n",
              "</style>\n",
              "<table border=\"1\" class=\"dataframe\">\n",
              "  <thead>\n",
              "    <tr style=\"text-align: right;\">\n",
              "      <th></th>\n",
              "      <th>학번</th>\n",
              "      <th>전공</th>\n",
              "      <th>복수전공</th>\n",
              "      <th>역할</th>\n",
              "    </tr>\n",
              "    <tr>\n",
              "      <th>이름</th>\n",
              "      <th></th>\n",
              "      <th></th>\n",
              "      <th></th>\n",
              "      <th></th>\n",
              "    </tr>\n",
              "  </thead>\n",
              "  <tbody>\n",
              "    <tr>\n",
              "      <th>민지</th>\n",
              "      <td>21</td>\n",
              "      <td>아텍</td>\n",
              "      <td>컴공</td>\n",
              "      <td>인싸이더</td>\n",
              "    </tr>\n",
              "    <tr>\n",
              "      <th>다니엘</th>\n",
              "      <td>16</td>\n",
              "      <td>경영</td>\n",
              "      <td>심리</td>\n",
              "      <td>교육팀장</td>\n",
              "    </tr>\n",
              "    <tr>\n",
              "      <th>하니</th>\n",
              "      <td>17</td>\n",
              "      <td>경영</td>\n",
              "      <td>빅사</td>\n",
              "      <td>교육팀원</td>\n",
              "    </tr>\n",
              "    <tr>\n",
              "      <th>해린</th>\n",
              "      <td>19</td>\n",
              "      <td>경영</td>\n",
              "      <td>빅사</td>\n",
              "      <td>교육팀원</td>\n",
              "    </tr>\n",
              "    <tr>\n",
              "      <th>혜인</th>\n",
              "      <td>16</td>\n",
              "      <td>경제</td>\n",
              "      <td>빅사</td>\n",
              "      <td>교육팀원</td>\n",
              "    </tr>\n",
              "  </tbody>\n",
              "</table>\n",
              "</div>"
            ],
            "text/plain": [
              "     학번  전공 복수전공    역할\n",
              "이름                    \n",
              "민지   21  아텍   컴공  인싸이더\n",
              "다니엘  16  경영   심리  교육팀장\n",
              "하니   17  경영   빅사  교육팀원\n",
              "해린   19  경영   빅사  교육팀원\n",
              "혜인   16  경제   빅사  교육팀원"
            ]
          },
          "execution_count": 24,
          "metadata": {},
          "output_type": "execute_result"
        }
      ],
      "source": [
        "df_new.loc['민지'] = [21, '아텍', '컴공', '인싸이더']\n",
        "df_new"
      ]
    },
    {
      "cell_type": "code",
      "execution_count": null,
      "metadata": {
        "ExecuteTime": {
          "end_time": "2024-09-09T03:12:11.305112Z",
          "start_time": "2024-09-09T03:12:11.295557Z"
        },
        "id": "zy3so6Jt52Dx",
        "outputId": "cb1d95d6-0aad-4256-e640-f2fe1ba22891"
      },
      "outputs": [
        {
          "data": {
            "text/html": [
              "<div>\n",
              "<style scoped>\n",
              "    .dataframe tbody tr th:only-of-type {\n",
              "        vertical-align: middle;\n",
              "    }\n",
              "\n",
              "    .dataframe tbody tr th {\n",
              "        vertical-align: top;\n",
              "    }\n",
              "\n",
              "    .dataframe thead th {\n",
              "        text-align: right;\n",
              "    }\n",
              "</style>\n",
              "<table border=\"1\" class=\"dataframe\">\n",
              "  <thead>\n",
              "    <tr style=\"text-align: right;\">\n",
              "      <th></th>\n",
              "      <th>학번</th>\n",
              "      <th>전공</th>\n",
              "      <th>복수전공</th>\n",
              "      <th>역할</th>\n",
              "    </tr>\n",
              "    <tr>\n",
              "      <th>이름</th>\n",
              "      <th></th>\n",
              "      <th></th>\n",
              "      <th></th>\n",
              "      <th></th>\n",
              "    </tr>\n",
              "  </thead>\n",
              "  <tbody>\n",
              "    <tr>\n",
              "      <th>민지</th>\n",
              "      <td>21</td>\n",
              "      <td>아텍</td>\n",
              "      <td>컴공</td>\n",
              "      <td>5기</td>\n",
              "    </tr>\n",
              "    <tr>\n",
              "      <th>다니엘</th>\n",
              "      <td>16</td>\n",
              "      <td>경영</td>\n",
              "      <td>심리</td>\n",
              "      <td>5기</td>\n",
              "    </tr>\n",
              "    <tr>\n",
              "      <th>하니</th>\n",
              "      <td>17</td>\n",
              "      <td>경영</td>\n",
              "      <td>빅사</td>\n",
              "      <td>5기</td>\n",
              "    </tr>\n",
              "    <tr>\n",
              "      <th>해린</th>\n",
              "      <td>19</td>\n",
              "      <td>경영</td>\n",
              "      <td>빅사</td>\n",
              "      <td>5기</td>\n",
              "    </tr>\n",
              "    <tr>\n",
              "      <th>혜인</th>\n",
              "      <td>16</td>\n",
              "      <td>경제</td>\n",
              "      <td>빅사</td>\n",
              "      <td>5기</td>\n",
              "    </tr>\n",
              "  </tbody>\n",
              "</table>\n",
              "</div>"
            ],
            "text/plain": [
              "     학번  전공 복수전공  역할\n",
              "이름                  \n",
              "민지   21  아텍   컴공  5기\n",
              "다니엘  16  경영   심리  5기\n",
              "하니   17  경영   빅사  5기\n",
              "해린   19  경영   빅사  5기\n",
              "혜인   16  경제   빅사  5기"
            ]
          },
          "execution_count": 25,
          "metadata": {},
          "output_type": "execute_result"
        }
      ],
      "source": [
        "# 역할 column의 모든 값을 동일하게 바꾸기\n",
        "df_new.loc[ : , '역할'] = '5기'\n",
        "df_new"
      ]
    },
    {
      "cell_type": "markdown",
      "metadata": {
        "id": "6lDDWetD52Dx"
      },
      "source": [
        "###### 여러 줄 수정"
      ]
    },
    {
      "cell_type": "code",
      "execution_count": null,
      "metadata": {
        "ExecuteTime": {
          "end_time": "2024-09-09T03:12:11.717699Z",
          "start_time": "2024-09-09T03:12:11.708009Z"
        },
        "id": "sGDWtITR52Dy",
        "outputId": "ea21905a-5c84-4910-bcec-d2e1f0789100"
      },
      "outputs": [
        {
          "name": "stderr",
          "output_type": "stream",
          "text": [
            "/var/folders/w6/w5v7qzc97fs0__4pl944xbtm0000gn/T/ipykernel_77018/4123467466.py:1: FutureWarning: Setting an item of incompatible dtype is deprecated and will raise in a future error of pandas. Value '-' has dtype incompatible with int64, please explicitly cast to a compatible dtype first.\n",
            "  df_new.loc[['민지', '다니엘']] = \"-\"\n"
          ]
        },
        {
          "data": {
            "text/html": [
              "<div>\n",
              "<style scoped>\n",
              "    .dataframe tbody tr th:only-of-type {\n",
              "        vertical-align: middle;\n",
              "    }\n",
              "\n",
              "    .dataframe tbody tr th {\n",
              "        vertical-align: top;\n",
              "    }\n",
              "\n",
              "    .dataframe thead th {\n",
              "        text-align: right;\n",
              "    }\n",
              "</style>\n",
              "<table border=\"1\" class=\"dataframe\">\n",
              "  <thead>\n",
              "    <tr style=\"text-align: right;\">\n",
              "      <th></th>\n",
              "      <th>학번</th>\n",
              "      <th>전공</th>\n",
              "      <th>복수전공</th>\n",
              "      <th>역할</th>\n",
              "    </tr>\n",
              "    <tr>\n",
              "      <th>이름</th>\n",
              "      <th></th>\n",
              "      <th></th>\n",
              "      <th></th>\n",
              "      <th></th>\n",
              "    </tr>\n",
              "  </thead>\n",
              "  <tbody>\n",
              "    <tr>\n",
              "      <th>민지</th>\n",
              "      <td>-</td>\n",
              "      <td>-</td>\n",
              "      <td>-</td>\n",
              "      <td>-</td>\n",
              "    </tr>\n",
              "    <tr>\n",
              "      <th>다니엘</th>\n",
              "      <td>-</td>\n",
              "      <td>-</td>\n",
              "      <td>-</td>\n",
              "      <td>-</td>\n",
              "    </tr>\n",
              "    <tr>\n",
              "      <th>하니</th>\n",
              "      <td>17</td>\n",
              "      <td>경영</td>\n",
              "      <td>빅사</td>\n",
              "      <td>5기</td>\n",
              "    </tr>\n",
              "    <tr>\n",
              "      <th>해린</th>\n",
              "      <td>19</td>\n",
              "      <td>경영</td>\n",
              "      <td>빅사</td>\n",
              "      <td>5기</td>\n",
              "    </tr>\n",
              "    <tr>\n",
              "      <th>혜인</th>\n",
              "      <td>16</td>\n",
              "      <td>경제</td>\n",
              "      <td>빅사</td>\n",
              "      <td>5기</td>\n",
              "    </tr>\n",
              "  </tbody>\n",
              "</table>\n",
              "</div>"
            ],
            "text/plain": [
              "     학번  전공 복수전공  역할\n",
              "이름                  \n",
              "민지    -   -    -   -\n",
              "다니엘   -   -    -   -\n",
              "하니   17  경영   빅사  5기\n",
              "해린   19  경영   빅사  5기\n",
              "혜인   16  경제   빅사  5기"
            ]
          },
          "execution_count": 26,
          "metadata": {},
          "output_type": "execute_result"
        }
      ],
      "source": [
        "df_new.loc[['민지', '다니엘']] = \"-\"\n",
        "df_new"
      ]
    },
    {
      "cell_type": "code",
      "execution_count": null,
      "metadata": {
        "ExecuteTime": {
          "end_time": "2024-09-09T03:12:11.919943Z",
          "start_time": "2024-09-09T03:12:11.911483Z"
        },
        "id": "GlZimHqM52Dy",
        "outputId": "a7b8632b-5da3-4fe3-c075-27d911867480"
      },
      "outputs": [
        {
          "data": {
            "text/html": [
              "<div>\n",
              "<style scoped>\n",
              "    .dataframe tbody tr th:only-of-type {\n",
              "        vertical-align: middle;\n",
              "    }\n",
              "\n",
              "    .dataframe tbody tr th {\n",
              "        vertical-align: top;\n",
              "    }\n",
              "\n",
              "    .dataframe thead th {\n",
              "        text-align: right;\n",
              "    }\n",
              "</style>\n",
              "<table border=\"1\" class=\"dataframe\">\n",
              "  <thead>\n",
              "    <tr style=\"text-align: right;\">\n",
              "      <th></th>\n",
              "      <th>학번</th>\n",
              "      <th>전공</th>\n",
              "      <th>복수전공</th>\n",
              "      <th>역할</th>\n",
              "    </tr>\n",
              "    <tr>\n",
              "      <th>이름</th>\n",
              "      <th></th>\n",
              "      <th></th>\n",
              "      <th></th>\n",
              "      <th></th>\n",
              "    </tr>\n",
              "  </thead>\n",
              "  <tbody>\n",
              "    <tr>\n",
              "      <th>민지</th>\n",
              "      <td>-</td>\n",
              "      <td>-</td>\n",
              "      <td>?</td>\n",
              "      <td>?</td>\n",
              "    </tr>\n",
              "    <tr>\n",
              "      <th>다니엘</th>\n",
              "      <td>-</td>\n",
              "      <td>-</td>\n",
              "      <td>?</td>\n",
              "      <td>?</td>\n",
              "    </tr>\n",
              "    <tr>\n",
              "      <th>하니</th>\n",
              "      <td>17</td>\n",
              "      <td>경영</td>\n",
              "      <td>?</td>\n",
              "      <td>?</td>\n",
              "    </tr>\n",
              "    <tr>\n",
              "      <th>해린</th>\n",
              "      <td>19</td>\n",
              "      <td>경영</td>\n",
              "      <td>?</td>\n",
              "      <td>?</td>\n",
              "    </tr>\n",
              "    <tr>\n",
              "      <th>혜인</th>\n",
              "      <td>16</td>\n",
              "      <td>경제</td>\n",
              "      <td>?</td>\n",
              "      <td>?</td>\n",
              "    </tr>\n",
              "  </tbody>\n",
              "</table>\n",
              "</div>"
            ],
            "text/plain": [
              "     학번  전공 복수전공 역할\n",
              "이름                 \n",
              "민지    -   -    ?  ?\n",
              "다니엘   -   -    ?  ?\n",
              "하니   17  경영    ?  ?\n",
              "해린   19  경영    ?  ?\n",
              "혜인   16  경제    ?  ?"
            ]
          },
          "execution_count": 27,
          "metadata": {},
          "output_type": "execute_result"
        }
      ],
      "source": [
        "df_new[['복수전공', '역할']] = \"?\"\n",
        "df_new"
      ]
    },
    {
      "cell_type": "markdown",
      "metadata": {
        "id": "raSJkyBf52Dy"
      },
      "source": [
        "##### 위치 번호로 값 수정"
      ]
    },
    {
      "cell_type": "code",
      "execution_count": null,
      "metadata": {
        "ExecuteTime": {
          "end_time": "2024-09-09T03:12:12.530010Z",
          "start_time": "2024-09-09T03:12:12.520987Z"
        },
        "id": "Wru2krPo52Dz",
        "outputId": "9190e264-1d1c-45dc-f2b0-23aae57faaf9"
      },
      "outputs": [
        {
          "data": {
            "text/html": [
              "<div>\n",
              "<style scoped>\n",
              "    .dataframe tbody tr th:only-of-type {\n",
              "        vertical-align: middle;\n",
              "    }\n",
              "\n",
              "    .dataframe tbody tr th {\n",
              "        vertical-align: top;\n",
              "    }\n",
              "\n",
              "    .dataframe thead th {\n",
              "        text-align: right;\n",
              "    }\n",
              "</style>\n",
              "<table border=\"1\" class=\"dataframe\">\n",
              "  <thead>\n",
              "    <tr style=\"text-align: right;\">\n",
              "      <th></th>\n",
              "      <th>학번</th>\n",
              "      <th>전공</th>\n",
              "      <th>복수전공</th>\n",
              "      <th>역할</th>\n",
              "    </tr>\n",
              "    <tr>\n",
              "      <th>이름</th>\n",
              "      <th></th>\n",
              "      <th></th>\n",
              "      <th></th>\n",
              "      <th></th>\n",
              "    </tr>\n",
              "  </thead>\n",
              "  <tbody>\n",
              "    <tr>\n",
              "      <th>민지</th>\n",
              "      <td>-</td>\n",
              "      <td>-</td>\n",
              "      <td>#</td>\n",
              "      <td>#</td>\n",
              "    </tr>\n",
              "    <tr>\n",
              "      <th>다니엘</th>\n",
              "      <td>-</td>\n",
              "      <td>-</td>\n",
              "      <td>#</td>\n",
              "      <td>#</td>\n",
              "    </tr>\n",
              "    <tr>\n",
              "      <th>하니</th>\n",
              "      <td>17</td>\n",
              "      <td>경영</td>\n",
              "      <td>?</td>\n",
              "      <td>?</td>\n",
              "    </tr>\n",
              "    <tr>\n",
              "      <th>해린</th>\n",
              "      <td>19</td>\n",
              "      <td>경영</td>\n",
              "      <td>?</td>\n",
              "      <td>?</td>\n",
              "    </tr>\n",
              "    <tr>\n",
              "      <th>혜인</th>\n",
              "      <td>16</td>\n",
              "      <td>경제</td>\n",
              "      <td>?</td>\n",
              "      <td>?</td>\n",
              "    </tr>\n",
              "  </tbody>\n",
              "</table>\n",
              "</div>"
            ],
            "text/plain": [
              "     학번  전공 복수전공 역할\n",
              "이름                 \n",
              "민지    -   -    #  #\n",
              "다니엘   -   -    #  #\n",
              "하니   17  경영    ?  ?\n",
              "해린   19  경영    ?  ?\n",
              "혜인   16  경제    ?  ?"
            ]
          },
          "execution_count": 28,
          "metadata": {},
          "output_type": "execute_result"
        }
      ],
      "source": [
        "df_new.iloc[[0, 1], [2, 3]] = \"#\"\n",
        "df_new"
      ]
    },
    {
      "cell_type": "markdown",
      "metadata": {
        "id": "5zmZhBSp52Dz"
      },
      "source": [
        "## 추가\n"
      ]
    },
    {
      "cell_type": "code",
      "execution_count": null,
      "metadata": {
        "ExecuteTime": {
          "end_time": "2024-09-09T03:12:15.437800Z",
          "start_time": "2024-09-09T03:12:15.434024Z"
        },
        "id": "PEO0pqLj52D0"
      },
      "outputs": [],
      "source": [
        "df_new2 = df.copy()"
      ]
    },
    {
      "cell_type": "markdown",
      "metadata": {
        "id": "29pL4olm52D0"
      },
      "source": [
        "###### row 추가"
      ]
    },
    {
      "cell_type": "code",
      "execution_count": null,
      "metadata": {
        "ExecuteTime": {
          "end_time": "2024-09-09T03:12:16.129591Z",
          "start_time": "2024-09-09T03:12:16.117088Z"
        },
        "id": "80j0TbAY52D0",
        "outputId": "42d6a44e-b5f1-4716-e0c9-406f1cfb9d02"
      },
      "outputs": [
        {
          "data": {
            "text/html": [
              "<div>\n",
              "<style scoped>\n",
              "    .dataframe tbody tr th:only-of-type {\n",
              "        vertical-align: middle;\n",
              "    }\n",
              "\n",
              "    .dataframe tbody tr th {\n",
              "        vertical-align: top;\n",
              "    }\n",
              "\n",
              "    .dataframe thead th {\n",
              "        text-align: right;\n",
              "    }\n",
              "</style>\n",
              "<table border=\"1\" class=\"dataframe\">\n",
              "  <thead>\n",
              "    <tr style=\"text-align: right;\">\n",
              "      <th></th>\n",
              "      <th>학번</th>\n",
              "      <th>전공</th>\n",
              "      <th>복수전공</th>\n",
              "      <th>역할</th>\n",
              "    </tr>\n",
              "    <tr>\n",
              "      <th>이름</th>\n",
              "      <th></th>\n",
              "      <th></th>\n",
              "      <th></th>\n",
              "      <th></th>\n",
              "    </tr>\n",
              "  </thead>\n",
              "  <tbody>\n",
              "    <tr>\n",
              "      <th>민지</th>\n",
              "      <td>15</td>\n",
              "      <td>커뮤</td>\n",
              "      <td>AI</td>\n",
              "      <td>회장</td>\n",
              "    </tr>\n",
              "    <tr>\n",
              "      <th>다니엘</th>\n",
              "      <td>16</td>\n",
              "      <td>경영</td>\n",
              "      <td>심리</td>\n",
              "      <td>교육팀장</td>\n",
              "    </tr>\n",
              "    <tr>\n",
              "      <th>하니</th>\n",
              "      <td>17</td>\n",
              "      <td>경영</td>\n",
              "      <td>빅사</td>\n",
              "      <td>교육팀원</td>\n",
              "    </tr>\n",
              "    <tr>\n",
              "      <th>해린</th>\n",
              "      <td>19</td>\n",
              "      <td>경영</td>\n",
              "      <td>빅사</td>\n",
              "      <td>교육팀원</td>\n",
              "    </tr>\n",
              "    <tr>\n",
              "      <th>혜인</th>\n",
              "      <td>16</td>\n",
              "      <td>경제</td>\n",
              "      <td>빅사</td>\n",
              "      <td>교육팀원</td>\n",
              "    </tr>\n",
              "    <tr>\n",
              "      <th>아이유</th>\n",
              "      <td>19</td>\n",
              "      <td>수학</td>\n",
              "      <td>-</td>\n",
              "      <td>부회장</td>\n",
              "    </tr>\n",
              "  </tbody>\n",
              "</table>\n",
              "</div>"
            ],
            "text/plain": [
              "     학번  전공 복수전공    역할\n",
              "이름                    \n",
              "민지   15  커뮤   AI    회장\n",
              "다니엘  16  경영   심리  교육팀장\n",
              "하니   17  경영   빅사  교육팀원\n",
              "해린   19  경영   빅사  교육팀원\n",
              "혜인   16  경제   빅사  교육팀원\n",
              "아이유  19  수학    -   부회장"
            ]
          },
          "execution_count": 30,
          "metadata": {},
          "output_type": "execute_result"
        }
      ],
      "source": [
        "# 없는 인덱스명으로 데이터를 넣으면, 새로운 row가 추가됨\n",
        "df_new2.loc['아이유'] = [19, '수학', '-', '부회장']\n",
        "df_new2"
      ]
    },
    {
      "cell_type": "markdown",
      "metadata": {
        "id": "WipMkS0U52D0"
      },
      "source": [
        "###### column 추가"
      ]
    },
    {
      "cell_type": "code",
      "execution_count": null,
      "metadata": {
        "ExecuteTime": {
          "end_time": "2024-09-09T03:12:16.574233Z",
          "start_time": "2024-09-09T03:12:16.564179Z"
        },
        "id": "NSSjqH8y52D1",
        "outputId": "0e1788c3-9340-4e0a-dfbe-331019cb462a"
      },
      "outputs": [
        {
          "data": {
            "text/html": [
              "<div>\n",
              "<style scoped>\n",
              "    .dataframe tbody tr th:only-of-type {\n",
              "        vertical-align: middle;\n",
              "    }\n",
              "\n",
              "    .dataframe tbody tr th {\n",
              "        vertical-align: top;\n",
              "    }\n",
              "\n",
              "    .dataframe thead th {\n",
              "        text-align: right;\n",
              "    }\n",
              "</style>\n",
              "<table border=\"1\" class=\"dataframe\">\n",
              "  <thead>\n",
              "    <tr style=\"text-align: right;\">\n",
              "      <th></th>\n",
              "      <th>학번</th>\n",
              "      <th>전공</th>\n",
              "      <th>복수전공</th>\n",
              "      <th>역할</th>\n",
              "      <th>기수</th>\n",
              "    </tr>\n",
              "    <tr>\n",
              "      <th>이름</th>\n",
              "      <th></th>\n",
              "      <th></th>\n",
              "      <th></th>\n",
              "      <th></th>\n",
              "      <th></th>\n",
              "    </tr>\n",
              "  </thead>\n",
              "  <tbody>\n",
              "    <tr>\n",
              "      <th>민지</th>\n",
              "      <td>15</td>\n",
              "      <td>커뮤</td>\n",
              "      <td>AI</td>\n",
              "      <td>회장</td>\n",
              "      <td>100기</td>\n",
              "    </tr>\n",
              "    <tr>\n",
              "      <th>다니엘</th>\n",
              "      <td>16</td>\n",
              "      <td>경영</td>\n",
              "      <td>심리</td>\n",
              "      <td>교육팀장</td>\n",
              "      <td>100기</td>\n",
              "    </tr>\n",
              "    <tr>\n",
              "      <th>하니</th>\n",
              "      <td>17</td>\n",
              "      <td>경영</td>\n",
              "      <td>빅사</td>\n",
              "      <td>교육팀원</td>\n",
              "      <td>100기</td>\n",
              "    </tr>\n",
              "    <tr>\n",
              "      <th>해린</th>\n",
              "      <td>19</td>\n",
              "      <td>경영</td>\n",
              "      <td>빅사</td>\n",
              "      <td>교육팀원</td>\n",
              "      <td>100기</td>\n",
              "    </tr>\n",
              "    <tr>\n",
              "      <th>혜인</th>\n",
              "      <td>16</td>\n",
              "      <td>경제</td>\n",
              "      <td>빅사</td>\n",
              "      <td>교육팀원</td>\n",
              "      <td>100기</td>\n",
              "    </tr>\n",
              "    <tr>\n",
              "      <th>아이유</th>\n",
              "      <td>19</td>\n",
              "      <td>수학</td>\n",
              "      <td>-</td>\n",
              "      <td>부회장</td>\n",
              "      <td>100기</td>\n",
              "    </tr>\n",
              "  </tbody>\n",
              "</table>\n",
              "</div>"
            ],
            "text/plain": [
              "     학번  전공 복수전공    역할    기수\n",
              "이름                          \n",
              "민지   15  커뮤   AI    회장  100기\n",
              "다니엘  16  경영   심리  교육팀장  100기\n",
              "하니   17  경영   빅사  교육팀원  100기\n",
              "해린   19  경영   빅사  교육팀원  100기\n",
              "혜인   16  경제   빅사  교육팀원  100기\n",
              "아이유  19  수학    -   부회장  100기"
            ]
          },
          "execution_count": 31,
          "metadata": {},
          "output_type": "execute_result"
        }
      ],
      "source": [
        "df_new2['기수'] = '100기'\n",
        "df_new2"
      ]
    },
    {
      "cell_type": "markdown",
      "metadata": {
        "id": "4rErFvxs52D1"
      },
      "source": [
        "## 삭제\n",
        "행 방향 axis=0 <br/>\n",
        "열 방향 axis=1"
      ]
    },
    {
      "cell_type": "code",
      "execution_count": null,
      "metadata": {
        "ExecuteTime": {
          "end_time": "2024-09-09T03:12:16.954517Z",
          "start_time": "2024-09-09T03:12:16.946195Z"
        },
        "id": "VyZGLBkv52D1",
        "outputId": "bbe8c680-c0c8-4128-a75a-63ae01f622c1"
      },
      "outputs": [
        {
          "data": {
            "text/html": [
              "<div>\n",
              "<style scoped>\n",
              "    .dataframe tbody tr th:only-of-type {\n",
              "        vertical-align: middle;\n",
              "    }\n",
              "\n",
              "    .dataframe tbody tr th {\n",
              "        vertical-align: top;\n",
              "    }\n",
              "\n",
              "    .dataframe thead th {\n",
              "        text-align: right;\n",
              "    }\n",
              "</style>\n",
              "<table border=\"1\" class=\"dataframe\">\n",
              "  <thead>\n",
              "    <tr style=\"text-align: right;\">\n",
              "      <th></th>\n",
              "      <th>학번</th>\n",
              "      <th>전공</th>\n",
              "      <th>복수전공</th>\n",
              "      <th>역할</th>\n",
              "      <th>기수</th>\n",
              "    </tr>\n",
              "    <tr>\n",
              "      <th>이름</th>\n",
              "      <th></th>\n",
              "      <th></th>\n",
              "      <th></th>\n",
              "      <th></th>\n",
              "      <th></th>\n",
              "    </tr>\n",
              "  </thead>\n",
              "  <tbody>\n",
              "    <tr>\n",
              "      <th>민지</th>\n",
              "      <td>15</td>\n",
              "      <td>커뮤</td>\n",
              "      <td>AI</td>\n",
              "      <td>회장</td>\n",
              "      <td>100기</td>\n",
              "    </tr>\n",
              "    <tr>\n",
              "      <th>다니엘</th>\n",
              "      <td>16</td>\n",
              "      <td>경영</td>\n",
              "      <td>심리</td>\n",
              "      <td>교육팀장</td>\n",
              "      <td>100기</td>\n",
              "    </tr>\n",
              "    <tr>\n",
              "      <th>하니</th>\n",
              "      <td>17</td>\n",
              "      <td>경영</td>\n",
              "      <td>빅사</td>\n",
              "      <td>교육팀원</td>\n",
              "      <td>100기</td>\n",
              "    </tr>\n",
              "    <tr>\n",
              "      <th>해린</th>\n",
              "      <td>19</td>\n",
              "      <td>경영</td>\n",
              "      <td>빅사</td>\n",
              "      <td>교육팀원</td>\n",
              "      <td>100기</td>\n",
              "    </tr>\n",
              "    <tr>\n",
              "      <th>혜인</th>\n",
              "      <td>16</td>\n",
              "      <td>경제</td>\n",
              "      <td>빅사</td>\n",
              "      <td>교육팀원</td>\n",
              "      <td>100기</td>\n",
              "    </tr>\n",
              "  </tbody>\n",
              "</table>\n",
              "</div>"
            ],
            "text/plain": [
              "     학번  전공 복수전공    역할    기수\n",
              "이름                          \n",
              "민지   15  커뮤   AI    회장  100기\n",
              "다니엘  16  경영   심리  교육팀장  100기\n",
              "하니   17  경영   빅사  교육팀원  100기\n",
              "해린   19  경영   빅사  교육팀원  100기\n",
              "혜인   16  경제   빅사  교육팀원  100기"
            ]
          },
          "execution_count": 32,
          "metadata": {},
          "output_type": "execute_result"
        }
      ],
      "source": [
        "df_new2.drop('아이유', axis = 0, inplace = True)  #inplace = False --> 기존의 df에 영향 X\n",
        "df_new2"
      ]
    },
    {
      "cell_type": "code",
      "execution_count": null,
      "metadata": {
        "ExecuteTime": {
          "end_time": "2024-09-09T03:12:17.123556Z",
          "start_time": "2024-09-09T03:12:17.113540Z"
        },
        "id": "2oJa2mcw52D2",
        "outputId": "59076a56-4bd5-42de-a174-9a7cd429b1c1"
      },
      "outputs": [
        {
          "data": {
            "text/html": [
              "<div>\n",
              "<style scoped>\n",
              "    .dataframe tbody tr th:only-of-type {\n",
              "        vertical-align: middle;\n",
              "    }\n",
              "\n",
              "    .dataframe tbody tr th {\n",
              "        vertical-align: top;\n",
              "    }\n",
              "\n",
              "    .dataframe thead th {\n",
              "        text-align: right;\n",
              "    }\n",
              "</style>\n",
              "<table border=\"1\" class=\"dataframe\">\n",
              "  <thead>\n",
              "    <tr style=\"text-align: right;\">\n",
              "      <th></th>\n",
              "      <th>학번</th>\n",
              "      <th>전공</th>\n",
              "      <th>역할</th>\n",
              "    </tr>\n",
              "    <tr>\n",
              "      <th>이름</th>\n",
              "      <th></th>\n",
              "      <th></th>\n",
              "      <th></th>\n",
              "    </tr>\n",
              "  </thead>\n",
              "  <tbody>\n",
              "    <tr>\n",
              "      <th>민지</th>\n",
              "      <td>15</td>\n",
              "      <td>커뮤</td>\n",
              "      <td>회장</td>\n",
              "    </tr>\n",
              "    <tr>\n",
              "      <th>다니엘</th>\n",
              "      <td>16</td>\n",
              "      <td>경영</td>\n",
              "      <td>교육팀장</td>\n",
              "    </tr>\n",
              "    <tr>\n",
              "      <th>하니</th>\n",
              "      <td>17</td>\n",
              "      <td>경영</td>\n",
              "      <td>교육팀원</td>\n",
              "    </tr>\n",
              "    <tr>\n",
              "      <th>해린</th>\n",
              "      <td>19</td>\n",
              "      <td>경영</td>\n",
              "      <td>교육팀원</td>\n",
              "    </tr>\n",
              "    <tr>\n",
              "      <th>혜인</th>\n",
              "      <td>16</td>\n",
              "      <td>경제</td>\n",
              "      <td>교육팀원</td>\n",
              "    </tr>\n",
              "  </tbody>\n",
              "</table>\n",
              "</div>"
            ],
            "text/plain": [
              "     학번  전공    역할\n",
              "이름               \n",
              "민지   15  커뮤    회장\n",
              "다니엘  16  경영  교육팀장\n",
              "하니   17  경영  교육팀원\n",
              "해린   19  경영  교육팀원\n",
              "혜인   16  경제  교육팀원"
            ]
          },
          "execution_count": 33,
          "metadata": {},
          "output_type": "execute_result"
        }
      ],
      "source": [
        "df_new2.drop(['복수전공', '기수'], axis = 1, inplace = True)\n",
        "df_new2"
      ]
    },
    {
      "cell_type": "code",
      "execution_count": null,
      "metadata": {
        "ExecuteTime": {
          "end_time": "2024-09-09T03:12:17.319110Z",
          "start_time": "2024-09-09T03:12:17.311494Z"
        },
        "id": "r48QY7fT52D2",
        "outputId": "f4ed6b56-6731-4f95-86e6-f8a41663a031"
      },
      "outputs": [
        {
          "data": {
            "text/html": [
              "<div>\n",
              "<style scoped>\n",
              "    .dataframe tbody tr th:only-of-type {\n",
              "        vertical-align: middle;\n",
              "    }\n",
              "\n",
              "    .dataframe tbody tr th {\n",
              "        vertical-align: top;\n",
              "    }\n",
              "\n",
              "    .dataframe thead th {\n",
              "        text-align: right;\n",
              "    }\n",
              "</style>\n",
              "<table border=\"1\" class=\"dataframe\">\n",
              "  <thead>\n",
              "    <tr style=\"text-align: right;\">\n",
              "      <th></th>\n",
              "      <th>학번</th>\n",
              "      <th>전공</th>\n",
              "    </tr>\n",
              "    <tr>\n",
              "      <th>이름</th>\n",
              "      <th></th>\n",
              "      <th></th>\n",
              "    </tr>\n",
              "  </thead>\n",
              "  <tbody>\n",
              "    <tr>\n",
              "      <th>민지</th>\n",
              "      <td>15</td>\n",
              "      <td>커뮤</td>\n",
              "    </tr>\n",
              "    <tr>\n",
              "      <th>다니엘</th>\n",
              "      <td>16</td>\n",
              "      <td>경영</td>\n",
              "    </tr>\n",
              "    <tr>\n",
              "      <th>하니</th>\n",
              "      <td>17</td>\n",
              "      <td>경영</td>\n",
              "    </tr>\n",
              "    <tr>\n",
              "      <th>해린</th>\n",
              "      <td>19</td>\n",
              "      <td>경영</td>\n",
              "    </tr>\n",
              "    <tr>\n",
              "      <th>혜인</th>\n",
              "      <td>16</td>\n",
              "      <td>경제</td>\n",
              "    </tr>\n",
              "  </tbody>\n",
              "</table>\n",
              "</div>"
            ],
            "text/plain": [
              "     학번  전공\n",
              "이름         \n",
              "민지   15  커뮤\n",
              "다니엘  16  경영\n",
              "하니   17  경영\n",
              "해린   19  경영\n",
              "혜인   16  경제"
            ]
          },
          "execution_count": 34,
          "metadata": {},
          "output_type": "execute_result"
        }
      ],
      "source": [
        "del df_new2['역할']\n",
        "df_new2"
      ]
    },
    {
      "cell_type": "markdown",
      "metadata": {
        "id": "LNynLTBv52D3"
      },
      "source": [
        "## 과제 13\n",
        "13. df_new3에 본인 포함 2명의 정보를 추가하고(행), 새로운 열을 만들어보자!"
      ]
    },
    {
      "cell_type": "code",
      "execution_count": 15,
      "metadata": {
        "colab": {
          "base_uri": "https://localhost:8080/",
          "height": 125
        },
        "id": "8HtSOFUY52D3",
        "outputId": "850f362c-2fe6-41ab-d72a-e0754e0cf818"
      },
      "outputs": [
        {
          "output_type": "execute_result",
          "data": {
            "text/plain": [
              "   이름  학번  전공\n",
              "0  종빈  20  미엔\n",
              "1  찬호  20  중문"
            ],
            "text/html": [
              "\n",
              "  <div id=\"df-c83a486f-3d46-4e1b-88ce-2a06d35fe722\" class=\"colab-df-container\">\n",
              "    <div>\n",
              "<style scoped>\n",
              "    .dataframe tbody tr th:only-of-type {\n",
              "        vertical-align: middle;\n",
              "    }\n",
              "\n",
              "    .dataframe tbody tr th {\n",
              "        vertical-align: top;\n",
              "    }\n",
              "\n",
              "    .dataframe thead th {\n",
              "        text-align: right;\n",
              "    }\n",
              "</style>\n",
              "<table border=\"1\" class=\"dataframe\">\n",
              "  <thead>\n",
              "    <tr style=\"text-align: right;\">\n",
              "      <th></th>\n",
              "      <th>이름</th>\n",
              "      <th>학번</th>\n",
              "      <th>전공</th>\n",
              "    </tr>\n",
              "  </thead>\n",
              "  <tbody>\n",
              "    <tr>\n",
              "      <th>0</th>\n",
              "      <td>종빈</td>\n",
              "      <td>20</td>\n",
              "      <td>미엔</td>\n",
              "    </tr>\n",
              "    <tr>\n",
              "      <th>1</th>\n",
              "      <td>찬호</td>\n",
              "      <td>20</td>\n",
              "      <td>중문</td>\n",
              "    </tr>\n",
              "  </tbody>\n",
              "</table>\n",
              "</div>\n",
              "    <div class=\"colab-df-buttons\">\n",
              "\n",
              "  <div class=\"colab-df-container\">\n",
              "    <button class=\"colab-df-convert\" onclick=\"convertToInteractive('df-c83a486f-3d46-4e1b-88ce-2a06d35fe722')\"\n",
              "            title=\"Convert this dataframe to an interactive table.\"\n",
              "            style=\"display:none;\">\n",
              "\n",
              "  <svg xmlns=\"http://www.w3.org/2000/svg\" height=\"24px\" viewBox=\"0 -960 960 960\">\n",
              "    <path d=\"M120-120v-720h720v720H120Zm60-500h600v-160H180v160Zm220 220h160v-160H400v160Zm0 220h160v-160H400v160ZM180-400h160v-160H180v160Zm440 0h160v-160H620v160ZM180-180h160v-160H180v160Zm440 0h160v-160H620v160Z\"/>\n",
              "  </svg>\n",
              "    </button>\n",
              "\n",
              "  <style>\n",
              "    .colab-df-container {\n",
              "      display:flex;\n",
              "      gap: 12px;\n",
              "    }\n",
              "\n",
              "    .colab-df-convert {\n",
              "      background-color: #E8F0FE;\n",
              "      border: none;\n",
              "      border-radius: 50%;\n",
              "      cursor: pointer;\n",
              "      display: none;\n",
              "      fill: #1967D2;\n",
              "      height: 32px;\n",
              "      padding: 0 0 0 0;\n",
              "      width: 32px;\n",
              "    }\n",
              "\n",
              "    .colab-df-convert:hover {\n",
              "      background-color: #E2EBFA;\n",
              "      box-shadow: 0px 1px 2px rgba(60, 64, 67, 0.3), 0px 1px 3px 1px rgba(60, 64, 67, 0.15);\n",
              "      fill: #174EA6;\n",
              "    }\n",
              "\n",
              "    .colab-df-buttons div {\n",
              "      margin-bottom: 4px;\n",
              "    }\n",
              "\n",
              "    [theme=dark] .colab-df-convert {\n",
              "      background-color: #3B4455;\n",
              "      fill: #D2E3FC;\n",
              "    }\n",
              "\n",
              "    [theme=dark] .colab-df-convert:hover {\n",
              "      background-color: #434B5C;\n",
              "      box-shadow: 0px 1px 3px 1px rgba(0, 0, 0, 0.15);\n",
              "      filter: drop-shadow(0px 1px 2px rgba(0, 0, 0, 0.3));\n",
              "      fill: #FFFFFF;\n",
              "    }\n",
              "  </style>\n",
              "\n",
              "    <script>\n",
              "      const buttonEl =\n",
              "        document.querySelector('#df-c83a486f-3d46-4e1b-88ce-2a06d35fe722 button.colab-df-convert');\n",
              "      buttonEl.style.display =\n",
              "        google.colab.kernel.accessAllowed ? 'block' : 'none';\n",
              "\n",
              "      async function convertToInteractive(key) {\n",
              "        const element = document.querySelector('#df-c83a486f-3d46-4e1b-88ce-2a06d35fe722');\n",
              "        const dataTable =\n",
              "          await google.colab.kernel.invokeFunction('convertToInteractive',\n",
              "                                                    [key], {});\n",
              "        if (!dataTable) return;\n",
              "\n",
              "        const docLinkHtml = 'Like what you see? Visit the ' +\n",
              "          '<a target=\"_blank\" href=https://colab.research.google.com/notebooks/data_table.ipynb>data table notebook</a>'\n",
              "          + ' to learn more about interactive tables.';\n",
              "        element.innerHTML = '';\n",
              "        dataTable['output_type'] = 'display_data';\n",
              "        await google.colab.output.renderOutput(dataTable, element);\n",
              "        const docLink = document.createElement('div');\n",
              "        docLink.innerHTML = docLinkHtml;\n",
              "        element.appendChild(docLink);\n",
              "      }\n",
              "    </script>\n",
              "  </div>\n",
              "\n",
              "\n",
              "<div id=\"df-6838b681-8928-41e3-8f5e-c537b5cbdce5\">\n",
              "  <button class=\"colab-df-quickchart\" onclick=\"quickchart('df-6838b681-8928-41e3-8f5e-c537b5cbdce5')\"\n",
              "            title=\"Suggest charts\"\n",
              "            style=\"display:none;\">\n",
              "\n",
              "<svg xmlns=\"http://www.w3.org/2000/svg\" height=\"24px\"viewBox=\"0 0 24 24\"\n",
              "     width=\"24px\">\n",
              "    <g>\n",
              "        <path d=\"M19 3H5c-1.1 0-2 .9-2 2v14c0 1.1.9 2 2 2h14c1.1 0 2-.9 2-2V5c0-1.1-.9-2-2-2zM9 17H7v-7h2v7zm4 0h-2V7h2v10zm4 0h-2v-4h2v4z\"/>\n",
              "    </g>\n",
              "</svg>\n",
              "  </button>\n",
              "\n",
              "<style>\n",
              "  .colab-df-quickchart {\n",
              "      --bg-color: #E8F0FE;\n",
              "      --fill-color: #1967D2;\n",
              "      --hover-bg-color: #E2EBFA;\n",
              "      --hover-fill-color: #174EA6;\n",
              "      --disabled-fill-color: #AAA;\n",
              "      --disabled-bg-color: #DDD;\n",
              "  }\n",
              "\n",
              "  [theme=dark] .colab-df-quickchart {\n",
              "      --bg-color: #3B4455;\n",
              "      --fill-color: #D2E3FC;\n",
              "      --hover-bg-color: #434B5C;\n",
              "      --hover-fill-color: #FFFFFF;\n",
              "      --disabled-bg-color: #3B4455;\n",
              "      --disabled-fill-color: #666;\n",
              "  }\n",
              "\n",
              "  .colab-df-quickchart {\n",
              "    background-color: var(--bg-color);\n",
              "    border: none;\n",
              "    border-radius: 50%;\n",
              "    cursor: pointer;\n",
              "    display: none;\n",
              "    fill: var(--fill-color);\n",
              "    height: 32px;\n",
              "    padding: 0;\n",
              "    width: 32px;\n",
              "  }\n",
              "\n",
              "  .colab-df-quickchart:hover {\n",
              "    background-color: var(--hover-bg-color);\n",
              "    box-shadow: 0 1px 2px rgba(60, 64, 67, 0.3), 0 1px 3px 1px rgba(60, 64, 67, 0.15);\n",
              "    fill: var(--button-hover-fill-color);\n",
              "  }\n",
              "\n",
              "  .colab-df-quickchart-complete:disabled,\n",
              "  .colab-df-quickchart-complete:disabled:hover {\n",
              "    background-color: var(--disabled-bg-color);\n",
              "    fill: var(--disabled-fill-color);\n",
              "    box-shadow: none;\n",
              "  }\n",
              "\n",
              "  .colab-df-spinner {\n",
              "    border: 2px solid var(--fill-color);\n",
              "    border-color: transparent;\n",
              "    border-bottom-color: var(--fill-color);\n",
              "    animation:\n",
              "      spin 1s steps(1) infinite;\n",
              "  }\n",
              "\n",
              "  @keyframes spin {\n",
              "    0% {\n",
              "      border-color: transparent;\n",
              "      border-bottom-color: var(--fill-color);\n",
              "      border-left-color: var(--fill-color);\n",
              "    }\n",
              "    20% {\n",
              "      border-color: transparent;\n",
              "      border-left-color: var(--fill-color);\n",
              "      border-top-color: var(--fill-color);\n",
              "    }\n",
              "    30% {\n",
              "      border-color: transparent;\n",
              "      border-left-color: var(--fill-color);\n",
              "      border-top-color: var(--fill-color);\n",
              "      border-right-color: var(--fill-color);\n",
              "    }\n",
              "    40% {\n",
              "      border-color: transparent;\n",
              "      border-right-color: var(--fill-color);\n",
              "      border-top-color: var(--fill-color);\n",
              "    }\n",
              "    60% {\n",
              "      border-color: transparent;\n",
              "      border-right-color: var(--fill-color);\n",
              "    }\n",
              "    80% {\n",
              "      border-color: transparent;\n",
              "      border-right-color: var(--fill-color);\n",
              "      border-bottom-color: var(--fill-color);\n",
              "    }\n",
              "    90% {\n",
              "      border-color: transparent;\n",
              "      border-bottom-color: var(--fill-color);\n",
              "    }\n",
              "  }\n",
              "</style>\n",
              "\n",
              "  <script>\n",
              "    async function quickchart(key) {\n",
              "      const quickchartButtonEl =\n",
              "        document.querySelector('#' + key + ' button');\n",
              "      quickchartButtonEl.disabled = true;  // To prevent multiple clicks.\n",
              "      quickchartButtonEl.classList.add('colab-df-spinner');\n",
              "      try {\n",
              "        const charts = await google.colab.kernel.invokeFunction(\n",
              "            'suggestCharts', [key], {});\n",
              "      } catch (error) {\n",
              "        console.error('Error during call to suggestCharts:', error);\n",
              "      }\n",
              "      quickchartButtonEl.classList.remove('colab-df-spinner');\n",
              "      quickchartButtonEl.classList.add('colab-df-quickchart-complete');\n",
              "    }\n",
              "    (() => {\n",
              "      let quickchartButtonEl =\n",
              "        document.querySelector('#df-6838b681-8928-41e3-8f5e-c537b5cbdce5 button');\n",
              "      quickchartButtonEl.style.display =\n",
              "        google.colab.kernel.accessAllowed ? 'block' : 'none';\n",
              "    })();\n",
              "  </script>\n",
              "</div>\n",
              "\n",
              "  <div id=\"id_d9cd04fd-468b-464a-9f6a-9e838e1778b2\">\n",
              "    <style>\n",
              "      .colab-df-generate {\n",
              "        background-color: #E8F0FE;\n",
              "        border: none;\n",
              "        border-radius: 50%;\n",
              "        cursor: pointer;\n",
              "        display: none;\n",
              "        fill: #1967D2;\n",
              "        height: 32px;\n",
              "        padding: 0 0 0 0;\n",
              "        width: 32px;\n",
              "      }\n",
              "\n",
              "      .colab-df-generate:hover {\n",
              "        background-color: #E2EBFA;\n",
              "        box-shadow: 0px 1px 2px rgba(60, 64, 67, 0.3), 0px 1px 3px 1px rgba(60, 64, 67, 0.15);\n",
              "        fill: #174EA6;\n",
              "      }\n",
              "\n",
              "      [theme=dark] .colab-df-generate {\n",
              "        background-color: #3B4455;\n",
              "        fill: #D2E3FC;\n",
              "      }\n",
              "\n",
              "      [theme=dark] .colab-df-generate:hover {\n",
              "        background-color: #434B5C;\n",
              "        box-shadow: 0px 1px 3px 1px rgba(0, 0, 0, 0.15);\n",
              "        filter: drop-shadow(0px 1px 2px rgba(0, 0, 0, 0.3));\n",
              "        fill: #FFFFFF;\n",
              "      }\n",
              "    </style>\n",
              "    <button class=\"colab-df-generate\" onclick=\"generateWithVariable('df_new3')\"\n",
              "            title=\"Generate code using this dataframe.\"\n",
              "            style=\"display:none;\">\n",
              "\n",
              "  <svg xmlns=\"http://www.w3.org/2000/svg\" height=\"24px\"viewBox=\"0 0 24 24\"\n",
              "       width=\"24px\">\n",
              "    <path d=\"M7,19H8.4L18.45,9,17,7.55,7,17.6ZM5,21V16.75L18.45,3.32a2,2,0,0,1,2.83,0l1.4,1.43a1.91,1.91,0,0,1,.58,1.4,1.91,1.91,0,0,1-.58,1.4L9.25,21ZM18.45,9,17,7.55Zm-12,3A5.31,5.31,0,0,0,4.9,8.1,5.31,5.31,0,0,0,1,6.5,5.31,5.31,0,0,0,4.9,4.9,5.31,5.31,0,0,0,6.5,1,5.31,5.31,0,0,0,8.1,4.9,5.31,5.31,0,0,0,12,6.5,5.46,5.46,0,0,0,6.5,12Z\"/>\n",
              "  </svg>\n",
              "    </button>\n",
              "    <script>\n",
              "      (() => {\n",
              "      const buttonEl =\n",
              "        document.querySelector('#id_d9cd04fd-468b-464a-9f6a-9e838e1778b2 button.colab-df-generate');\n",
              "      buttonEl.style.display =\n",
              "        google.colab.kernel.accessAllowed ? 'block' : 'none';\n",
              "\n",
              "      buttonEl.onclick = () => {\n",
              "        google.colab.notebook.generateWithVariable('df_new3');\n",
              "      }\n",
              "      })();\n",
              "    </script>\n",
              "  </div>\n",
              "\n",
              "    </div>\n",
              "  </div>\n"
            ],
            "application/vnd.google.colaboratory.intrinsic+json": {
              "type": "dataframe",
              "variable_name": "df_new3",
              "summary": "{\n  \"name\": \"df_new3\",\n  \"rows\": 2,\n  \"fields\": [\n    {\n      \"column\": \"\\uc774\\ub984\",\n      \"properties\": {\n        \"dtype\": \"string\",\n        \"num_unique_values\": 2,\n        \"samples\": [\n          \"\\ucc2c\\ud638\",\n          \"\\uc885\\ube48\"\n        ],\n        \"semantic_type\": \"\",\n        \"description\": \"\"\n      }\n    },\n    {\n      \"column\": \"\\ud559\\ubc88\",\n      \"properties\": {\n        \"dtype\": \"number\",\n        \"std\": 0,\n        \"min\": 20,\n        \"max\": 20,\n        \"num_unique_values\": 1,\n        \"samples\": [\n          20\n        ],\n        \"semantic_type\": \"\",\n        \"description\": \"\"\n      }\n    },\n    {\n      \"column\": \"\\uc804\\uacf5\",\n      \"properties\": {\n        \"dtype\": \"string\",\n        \"num_unique_values\": 2,\n        \"samples\": [\n          \"\\uc911\\ubb38\"\n        ],\n        \"semantic_type\": \"\",\n        \"description\": \"\"\n      }\n    }\n  ]\n}"
            }
          },
          "metadata": {},
          "execution_count": 15
        }
      ],
      "source": [
        "import pandas as pd\n",
        "\n",
        "new3 = [['종빈', 20, '미엔'],['찬호', 20, '중문']]\n",
        "df_new3 = pd.DataFrame(new3, columns=['이름', '학번', '전공'])\n",
        "df_new = df_new3.set_index('이름')\n",
        "\n",
        "df_new3"
      ]
    },
    {
      "cell_type": "code",
      "source": [
        "df_new3['학회'] = '인사이트'\n",
        "\n",
        "df_new3"
      ],
      "metadata": {
        "colab": {
          "base_uri": "https://localhost:8080/",
          "height": 125
        },
        "id": "NtsNsiiyEVWd",
        "outputId": "b40920d2-844a-43b5-8c9c-50f68526e612"
      },
      "execution_count": 16,
      "outputs": [
        {
          "output_type": "execute_result",
          "data": {
            "text/plain": [
              "   이름  학번  전공    학회\n",
              "0  종빈  20  미엔  인사이트\n",
              "1  찬호  20  중문  인사이트"
            ],
            "text/html": [
              "\n",
              "  <div id=\"df-2dcc8092-f630-4940-aec4-9d15b28debf2\" class=\"colab-df-container\">\n",
              "    <div>\n",
              "<style scoped>\n",
              "    .dataframe tbody tr th:only-of-type {\n",
              "        vertical-align: middle;\n",
              "    }\n",
              "\n",
              "    .dataframe tbody tr th {\n",
              "        vertical-align: top;\n",
              "    }\n",
              "\n",
              "    .dataframe thead th {\n",
              "        text-align: right;\n",
              "    }\n",
              "</style>\n",
              "<table border=\"1\" class=\"dataframe\">\n",
              "  <thead>\n",
              "    <tr style=\"text-align: right;\">\n",
              "      <th></th>\n",
              "      <th>이름</th>\n",
              "      <th>학번</th>\n",
              "      <th>전공</th>\n",
              "      <th>학회</th>\n",
              "    </tr>\n",
              "  </thead>\n",
              "  <tbody>\n",
              "    <tr>\n",
              "      <th>0</th>\n",
              "      <td>종빈</td>\n",
              "      <td>20</td>\n",
              "      <td>미엔</td>\n",
              "      <td>인사이트</td>\n",
              "    </tr>\n",
              "    <tr>\n",
              "      <th>1</th>\n",
              "      <td>찬호</td>\n",
              "      <td>20</td>\n",
              "      <td>중문</td>\n",
              "      <td>인사이트</td>\n",
              "    </tr>\n",
              "  </tbody>\n",
              "</table>\n",
              "</div>\n",
              "    <div class=\"colab-df-buttons\">\n",
              "\n",
              "  <div class=\"colab-df-container\">\n",
              "    <button class=\"colab-df-convert\" onclick=\"convertToInteractive('df-2dcc8092-f630-4940-aec4-9d15b28debf2')\"\n",
              "            title=\"Convert this dataframe to an interactive table.\"\n",
              "            style=\"display:none;\">\n",
              "\n",
              "  <svg xmlns=\"http://www.w3.org/2000/svg\" height=\"24px\" viewBox=\"0 -960 960 960\">\n",
              "    <path d=\"M120-120v-720h720v720H120Zm60-500h600v-160H180v160Zm220 220h160v-160H400v160Zm0 220h160v-160H400v160ZM180-400h160v-160H180v160Zm440 0h160v-160H620v160ZM180-180h160v-160H180v160Zm440 0h160v-160H620v160Z\"/>\n",
              "  </svg>\n",
              "    </button>\n",
              "\n",
              "  <style>\n",
              "    .colab-df-container {\n",
              "      display:flex;\n",
              "      gap: 12px;\n",
              "    }\n",
              "\n",
              "    .colab-df-convert {\n",
              "      background-color: #E8F0FE;\n",
              "      border: none;\n",
              "      border-radius: 50%;\n",
              "      cursor: pointer;\n",
              "      display: none;\n",
              "      fill: #1967D2;\n",
              "      height: 32px;\n",
              "      padding: 0 0 0 0;\n",
              "      width: 32px;\n",
              "    }\n",
              "\n",
              "    .colab-df-convert:hover {\n",
              "      background-color: #E2EBFA;\n",
              "      box-shadow: 0px 1px 2px rgba(60, 64, 67, 0.3), 0px 1px 3px 1px rgba(60, 64, 67, 0.15);\n",
              "      fill: #174EA6;\n",
              "    }\n",
              "\n",
              "    .colab-df-buttons div {\n",
              "      margin-bottom: 4px;\n",
              "    }\n",
              "\n",
              "    [theme=dark] .colab-df-convert {\n",
              "      background-color: #3B4455;\n",
              "      fill: #D2E3FC;\n",
              "    }\n",
              "\n",
              "    [theme=dark] .colab-df-convert:hover {\n",
              "      background-color: #434B5C;\n",
              "      box-shadow: 0px 1px 3px 1px rgba(0, 0, 0, 0.15);\n",
              "      filter: drop-shadow(0px 1px 2px rgba(0, 0, 0, 0.3));\n",
              "      fill: #FFFFFF;\n",
              "    }\n",
              "  </style>\n",
              "\n",
              "    <script>\n",
              "      const buttonEl =\n",
              "        document.querySelector('#df-2dcc8092-f630-4940-aec4-9d15b28debf2 button.colab-df-convert');\n",
              "      buttonEl.style.display =\n",
              "        google.colab.kernel.accessAllowed ? 'block' : 'none';\n",
              "\n",
              "      async function convertToInteractive(key) {\n",
              "        const element = document.querySelector('#df-2dcc8092-f630-4940-aec4-9d15b28debf2');\n",
              "        const dataTable =\n",
              "          await google.colab.kernel.invokeFunction('convertToInteractive',\n",
              "                                                    [key], {});\n",
              "        if (!dataTable) return;\n",
              "\n",
              "        const docLinkHtml = 'Like what you see? Visit the ' +\n",
              "          '<a target=\"_blank\" href=https://colab.research.google.com/notebooks/data_table.ipynb>data table notebook</a>'\n",
              "          + ' to learn more about interactive tables.';\n",
              "        element.innerHTML = '';\n",
              "        dataTable['output_type'] = 'display_data';\n",
              "        await google.colab.output.renderOutput(dataTable, element);\n",
              "        const docLink = document.createElement('div');\n",
              "        docLink.innerHTML = docLinkHtml;\n",
              "        element.appendChild(docLink);\n",
              "      }\n",
              "    </script>\n",
              "  </div>\n",
              "\n",
              "\n",
              "<div id=\"df-b924cba8-d3e9-4389-b948-0ecbfb4c40f3\">\n",
              "  <button class=\"colab-df-quickchart\" onclick=\"quickchart('df-b924cba8-d3e9-4389-b948-0ecbfb4c40f3')\"\n",
              "            title=\"Suggest charts\"\n",
              "            style=\"display:none;\">\n",
              "\n",
              "<svg xmlns=\"http://www.w3.org/2000/svg\" height=\"24px\"viewBox=\"0 0 24 24\"\n",
              "     width=\"24px\">\n",
              "    <g>\n",
              "        <path d=\"M19 3H5c-1.1 0-2 .9-2 2v14c0 1.1.9 2 2 2h14c1.1 0 2-.9 2-2V5c0-1.1-.9-2-2-2zM9 17H7v-7h2v7zm4 0h-2V7h2v10zm4 0h-2v-4h2v4z\"/>\n",
              "    </g>\n",
              "</svg>\n",
              "  </button>\n",
              "\n",
              "<style>\n",
              "  .colab-df-quickchart {\n",
              "      --bg-color: #E8F0FE;\n",
              "      --fill-color: #1967D2;\n",
              "      --hover-bg-color: #E2EBFA;\n",
              "      --hover-fill-color: #174EA6;\n",
              "      --disabled-fill-color: #AAA;\n",
              "      --disabled-bg-color: #DDD;\n",
              "  }\n",
              "\n",
              "  [theme=dark] .colab-df-quickchart {\n",
              "      --bg-color: #3B4455;\n",
              "      --fill-color: #D2E3FC;\n",
              "      --hover-bg-color: #434B5C;\n",
              "      --hover-fill-color: #FFFFFF;\n",
              "      --disabled-bg-color: #3B4455;\n",
              "      --disabled-fill-color: #666;\n",
              "  }\n",
              "\n",
              "  .colab-df-quickchart {\n",
              "    background-color: var(--bg-color);\n",
              "    border: none;\n",
              "    border-radius: 50%;\n",
              "    cursor: pointer;\n",
              "    display: none;\n",
              "    fill: var(--fill-color);\n",
              "    height: 32px;\n",
              "    padding: 0;\n",
              "    width: 32px;\n",
              "  }\n",
              "\n",
              "  .colab-df-quickchart:hover {\n",
              "    background-color: var(--hover-bg-color);\n",
              "    box-shadow: 0 1px 2px rgba(60, 64, 67, 0.3), 0 1px 3px 1px rgba(60, 64, 67, 0.15);\n",
              "    fill: var(--button-hover-fill-color);\n",
              "  }\n",
              "\n",
              "  .colab-df-quickchart-complete:disabled,\n",
              "  .colab-df-quickchart-complete:disabled:hover {\n",
              "    background-color: var(--disabled-bg-color);\n",
              "    fill: var(--disabled-fill-color);\n",
              "    box-shadow: none;\n",
              "  }\n",
              "\n",
              "  .colab-df-spinner {\n",
              "    border: 2px solid var(--fill-color);\n",
              "    border-color: transparent;\n",
              "    border-bottom-color: var(--fill-color);\n",
              "    animation:\n",
              "      spin 1s steps(1) infinite;\n",
              "  }\n",
              "\n",
              "  @keyframes spin {\n",
              "    0% {\n",
              "      border-color: transparent;\n",
              "      border-bottom-color: var(--fill-color);\n",
              "      border-left-color: var(--fill-color);\n",
              "    }\n",
              "    20% {\n",
              "      border-color: transparent;\n",
              "      border-left-color: var(--fill-color);\n",
              "      border-top-color: var(--fill-color);\n",
              "    }\n",
              "    30% {\n",
              "      border-color: transparent;\n",
              "      border-left-color: var(--fill-color);\n",
              "      border-top-color: var(--fill-color);\n",
              "      border-right-color: var(--fill-color);\n",
              "    }\n",
              "    40% {\n",
              "      border-color: transparent;\n",
              "      border-right-color: var(--fill-color);\n",
              "      border-top-color: var(--fill-color);\n",
              "    }\n",
              "    60% {\n",
              "      border-color: transparent;\n",
              "      border-right-color: var(--fill-color);\n",
              "    }\n",
              "    80% {\n",
              "      border-color: transparent;\n",
              "      border-right-color: var(--fill-color);\n",
              "      border-bottom-color: var(--fill-color);\n",
              "    }\n",
              "    90% {\n",
              "      border-color: transparent;\n",
              "      border-bottom-color: var(--fill-color);\n",
              "    }\n",
              "  }\n",
              "</style>\n",
              "\n",
              "  <script>\n",
              "    async function quickchart(key) {\n",
              "      const quickchartButtonEl =\n",
              "        document.querySelector('#' + key + ' button');\n",
              "      quickchartButtonEl.disabled = true;  // To prevent multiple clicks.\n",
              "      quickchartButtonEl.classList.add('colab-df-spinner');\n",
              "      try {\n",
              "        const charts = await google.colab.kernel.invokeFunction(\n",
              "            'suggestCharts', [key], {});\n",
              "      } catch (error) {\n",
              "        console.error('Error during call to suggestCharts:', error);\n",
              "      }\n",
              "      quickchartButtonEl.classList.remove('colab-df-spinner');\n",
              "      quickchartButtonEl.classList.add('colab-df-quickchart-complete');\n",
              "    }\n",
              "    (() => {\n",
              "      let quickchartButtonEl =\n",
              "        document.querySelector('#df-b924cba8-d3e9-4389-b948-0ecbfb4c40f3 button');\n",
              "      quickchartButtonEl.style.display =\n",
              "        google.colab.kernel.accessAllowed ? 'block' : 'none';\n",
              "    })();\n",
              "  </script>\n",
              "</div>\n",
              "\n",
              "  <div id=\"id_b427f402-1490-4585-993e-8052fce5923d\">\n",
              "    <style>\n",
              "      .colab-df-generate {\n",
              "        background-color: #E8F0FE;\n",
              "        border: none;\n",
              "        border-radius: 50%;\n",
              "        cursor: pointer;\n",
              "        display: none;\n",
              "        fill: #1967D2;\n",
              "        height: 32px;\n",
              "        padding: 0 0 0 0;\n",
              "        width: 32px;\n",
              "      }\n",
              "\n",
              "      .colab-df-generate:hover {\n",
              "        background-color: #E2EBFA;\n",
              "        box-shadow: 0px 1px 2px rgba(60, 64, 67, 0.3), 0px 1px 3px 1px rgba(60, 64, 67, 0.15);\n",
              "        fill: #174EA6;\n",
              "      }\n",
              "\n",
              "      [theme=dark] .colab-df-generate {\n",
              "        background-color: #3B4455;\n",
              "        fill: #D2E3FC;\n",
              "      }\n",
              "\n",
              "      [theme=dark] .colab-df-generate:hover {\n",
              "        background-color: #434B5C;\n",
              "        box-shadow: 0px 1px 3px 1px rgba(0, 0, 0, 0.15);\n",
              "        filter: drop-shadow(0px 1px 2px rgba(0, 0, 0, 0.3));\n",
              "        fill: #FFFFFF;\n",
              "      }\n",
              "    </style>\n",
              "    <button class=\"colab-df-generate\" onclick=\"generateWithVariable('df_new3')\"\n",
              "            title=\"Generate code using this dataframe.\"\n",
              "            style=\"display:none;\">\n",
              "\n",
              "  <svg xmlns=\"http://www.w3.org/2000/svg\" height=\"24px\"viewBox=\"0 0 24 24\"\n",
              "       width=\"24px\">\n",
              "    <path d=\"M7,19H8.4L18.45,9,17,7.55,7,17.6ZM5,21V16.75L18.45,3.32a2,2,0,0,1,2.83,0l1.4,1.43a1.91,1.91,0,0,1,.58,1.4,1.91,1.91,0,0,1-.58,1.4L9.25,21ZM18.45,9,17,7.55Zm-12,3A5.31,5.31,0,0,0,4.9,8.1,5.31,5.31,0,0,0,1,6.5,5.31,5.31,0,0,0,4.9,4.9,5.31,5.31,0,0,0,6.5,1,5.31,5.31,0,0,0,8.1,4.9,5.31,5.31,0,0,0,12,6.5,5.46,5.46,0,0,0,6.5,12Z\"/>\n",
              "  </svg>\n",
              "    </button>\n",
              "    <script>\n",
              "      (() => {\n",
              "      const buttonEl =\n",
              "        document.querySelector('#id_b427f402-1490-4585-993e-8052fce5923d button.colab-df-generate');\n",
              "      buttonEl.style.display =\n",
              "        google.colab.kernel.accessAllowed ? 'block' : 'none';\n",
              "\n",
              "      buttonEl.onclick = () => {\n",
              "        google.colab.notebook.generateWithVariable('df_new3');\n",
              "      }\n",
              "      })();\n",
              "    </script>\n",
              "  </div>\n",
              "\n",
              "    </div>\n",
              "  </div>\n"
            ],
            "application/vnd.google.colaboratory.intrinsic+json": {
              "type": "dataframe",
              "variable_name": "df_new3",
              "summary": "{\n  \"name\": \"df_new3\",\n  \"rows\": 2,\n  \"fields\": [\n    {\n      \"column\": \"\\uc774\\ub984\",\n      \"properties\": {\n        \"dtype\": \"string\",\n        \"num_unique_values\": 2,\n        \"samples\": [\n          \"\\ucc2c\\ud638\",\n          \"\\uc885\\ube48\"\n        ],\n        \"semantic_type\": \"\",\n        \"description\": \"\"\n      }\n    },\n    {\n      \"column\": \"\\ud559\\ubc88\",\n      \"properties\": {\n        \"dtype\": \"number\",\n        \"std\": 0,\n        \"min\": 20,\n        \"max\": 20,\n        \"num_unique_values\": 1,\n        \"samples\": [\n          20\n        ],\n        \"semantic_type\": \"\",\n        \"description\": \"\"\n      }\n    },\n    {\n      \"column\": \"\\uc804\\uacf5\",\n      \"properties\": {\n        \"dtype\": \"string\",\n        \"num_unique_values\": 2,\n        \"samples\": [\n          \"\\uc911\\ubb38\"\n        ],\n        \"semantic_type\": \"\",\n        \"description\": \"\"\n      }\n    },\n    {\n      \"column\": \"\\ud559\\ud68c\",\n      \"properties\": {\n        \"dtype\": \"string\",\n        \"num_unique_values\": 1,\n        \"samples\": [\n          \"\\uc778\\uc0ac\\uc774\\ud2b8\"\n        ],\n        \"semantic_type\": \"\",\n        \"description\": \"\"\n      }\n    }\n  ]\n}"
            }
          },
          "metadata": {},
          "execution_count": 16
        }
      ]
    }
  ],
  "metadata": {
    "hide_input": false,
    "kernelspec": {
      "display_name": "Python 3 (ipykernel)",
      "language": "python",
      "name": "python3"
    },
    "language_info": {
      "codemirror_mode": {
        "name": "ipython",
        "version": 3
      },
      "file_extension": ".py",
      "mimetype": "text/x-python",
      "name": "python",
      "nbconvert_exporter": "python",
      "pygments_lexer": "ipython3",
      "version": "3.11.7"
    },
    "toc": {
      "base_numbering": 1,
      "nav_menu": {},
      "number_sections": true,
      "sideBar": true,
      "skip_h1_title": false,
      "title_cell": "Table of Contents",
      "title_sidebar": "Contents",
      "toc_cell": false,
      "toc_position": {
        "height": "calc(100% - 180px)",
        "left": "10px",
        "top": "150px",
        "width": "215.326px"
      },
      "toc_section_display": true,
      "toc_window_display": true
    },
    "varInspector": {
      "cols": {
        "lenName": 16,
        "lenType": 16,
        "lenVar": 40
      },
      "kernels_config": {
        "python": {
          "delete_cmd_postfix": "",
          "delete_cmd_prefix": "del ",
          "library": "var_list.py",
          "varRefreshCmd": "print(var_dic_list())"
        },
        "r": {
          "delete_cmd_postfix": ") ",
          "delete_cmd_prefix": "rm(",
          "library": "var_list.r",
          "varRefreshCmd": "cat(var_dic_list()) "
        }
      },
      "types_to_exclude": [
        "module",
        "function",
        "builtin_function_or_method",
        "instance",
        "_Feature"
      ],
      "window_display": false
    },
    "colab": {
      "provenance": []
    }
  },
  "nbformat": 4,
  "nbformat_minor": 0
}