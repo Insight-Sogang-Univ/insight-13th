{
 "cells": [
  {
   "cell_type": "markdown",
   "metadata": {},
   "source": [
    "# ⏰ 시계열 분석 (Time-series Analysis) - 딥러닝 과제"
   ]
  },
  {
   "cell_type": "code",
   "execution_count": 1,
   "metadata": {},
   "outputs": [],
   "source": [
    "%matplotlib inline\n",
    "\n",
    "# 시각화 기본 설정\n",
    "import matplotlib.pyplot as plt\n",
    "plt.rcParams['figure.figsize'] = (6, 3)\n",
    "\n",
    "# 데이터 분석에 필요한 라이브러리\n",
    "import pandas as pd\n",
    "import numpy as np\n",
    "\n",
    "# PyTorch 관련 라이브러리\n",
    "import torch\n",
    "import torch.nn as nn\n",
    "\n",
    "# 모델 학습 결과를 평가할 때 쓸 통계 라이브러리\n",
    "from scipy.stats import pearsonr, spearmanr"
   ]
  },
  {
   "cell_type": "code",
   "execution_count": 2,
   "metadata": {},
   "outputs": [],
   "source": [
    "import warnings\n",
    "warnings.filterwarnings(\"ignore\")\n",
    "\n",
    "import os\n",
    "import platform\n",
    "\n",
    "# 운영체제에 따라 폰트 설정\n",
    "if platform.system() == 'Windows':\n",
    "    plt.rc('font', family='Malgun Gothic')  # Windows 전용 폰트\n",
    "elif platform.system() == 'Darwin':\n",
    "    plt.rc('font', family='AppleGothic')  # macOS 전용 폰트\n",
    "else:\n",
    "    plt.rc('font', family='NanumGothic')  # 리눅스 또는 기타 환경\n",
    "plt.rc('axes', unicode_minus=False) # 마이너스 기호 깨짐 방지"
   ]
  },
  {
   "cell_type": "markdown",
   "metadata": {},
   "source": [
    "## 파라미터 세팅"
   ]
  },
  {
   "cell_type": "markdown",
   "metadata": {},
   "source": [
    "모델 구조, 학습 방식, 데이터 분할 등에 필요한 설정값을 정의합니다."
   ]
  },
  {
   "cell_type": "code",
   "execution_count": 3,
   "metadata": {},
   "outputs": [],
   "source": [
    "# 데이터셋 분할 비율 (학습 / 검증 / 테스트)\n",
    "DATA_SEGMENTS = { 'tr': 0.6, 'va': 0.2, 'tst': 0.2 }\n",
    "\n",
    "# 학습 조기 종료에 사용할 기준\n",
    "THRESHOLD_EPOCHS = 2  # 최소 반복 횟수\n",
    "COR_THRESHOLD = 0.005  # 상관계수 기준 성능 향상 여부 판단\n",
    "\n",
    "# 입력 시계열 구간 설정\n",
    "WIN = 24*7      # 입력 시계열 길이 (하루 단위 전력 사용량)\n",
    "H = 1       # 예측할 시계열 길이\n",
    "\n",
    "# 모델 구조 설정\n",
    "MODEL = 'rnn_model'\n",
    "RNN_UNITS = 128  # RNN의 은닉 노드 수\n",
    "SEASONAL_PERIOD = 24  # 하루 주기성 반영을 위한 파라미터\n",
    "\n",
    "# 학습 관련 설정\n",
    "GPU = 0\n",
    "BATCH_N = 1024\n",
    "LR = 0.0001\n",
    "DROP = 0.2\n",
    "N_EPOCHS = 30"
   ]
  },
  {
   "cell_type": "markdown",
   "metadata": {},
   "source": [
    "## 데이터 불러오기"
   ]
  },
  {
   "cell_type": "code",
   "execution_count": 4,
   "metadata": {},
   "outputs": [
    {
     "data": {
      "text/html": [
       "<div>\n",
       "<style scoped>\n",
       "    .dataframe tbody tr th:only-of-type {\n",
       "        vertical-align: middle;\n",
       "    }\n",
       "\n",
       "    .dataframe tbody tr th {\n",
       "        vertical-align: top;\n",
       "    }\n",
       "\n",
       "    .dataframe thead th {\n",
       "        text-align: right;\n",
       "    }\n",
       "</style>\n",
       "<table border=\"1\" class=\"dataframe\">\n",
       "  <thead>\n",
       "    <tr style=\"text-align: right;\">\n",
       "      <th></th>\n",
       "      <th>V1</th>\n",
       "      <th>V2</th>\n",
       "      <th>V3</th>\n",
       "      <th>V4</th>\n",
       "      <th>V5</th>\n",
       "      <th>V6</th>\n",
       "      <th>V7</th>\n",
       "      <th>V8</th>\n",
       "      <th>V9</th>\n",
       "      <th>V10</th>\n",
       "      <th>...</th>\n",
       "      <th>V312</th>\n",
       "      <th>V313</th>\n",
       "      <th>V314</th>\n",
       "      <th>V315</th>\n",
       "      <th>V316</th>\n",
       "      <th>V317</th>\n",
       "      <th>V318</th>\n",
       "      <th>V319</th>\n",
       "      <th>V320</th>\n",
       "      <th>V321</th>\n",
       "    </tr>\n",
       "  </thead>\n",
       "  <tbody>\n",
       "    <tr>\n",
       "      <th>0</th>\n",
       "      <td>14.0</td>\n",
       "      <td>69.0</td>\n",
       "      <td>234.0</td>\n",
       "      <td>415.0</td>\n",
       "      <td>215.0</td>\n",
       "      <td>1056.0</td>\n",
       "      <td>29.0</td>\n",
       "      <td>840.0</td>\n",
       "      <td>226.0</td>\n",
       "      <td>265.0</td>\n",
       "      <td>...</td>\n",
       "      <td>676.0</td>\n",
       "      <td>372.0</td>\n",
       "      <td>80100.0</td>\n",
       "      <td>4719.0</td>\n",
       "      <td>5002.0</td>\n",
       "      <td>48.0</td>\n",
       "      <td>38.0</td>\n",
       "      <td>1558.0</td>\n",
       "      <td>182.0</td>\n",
       "      <td>2162.0</td>\n",
       "    </tr>\n",
       "    <tr>\n",
       "      <th>1</th>\n",
       "      <td>18.0</td>\n",
       "      <td>92.0</td>\n",
       "      <td>312.0</td>\n",
       "      <td>556.0</td>\n",
       "      <td>292.0</td>\n",
       "      <td>1363.0</td>\n",
       "      <td>29.0</td>\n",
       "      <td>1102.0</td>\n",
       "      <td>271.0</td>\n",
       "      <td>340.0</td>\n",
       "      <td>...</td>\n",
       "      <td>805.0</td>\n",
       "      <td>452.0</td>\n",
       "      <td>95200.0</td>\n",
       "      <td>4643.0</td>\n",
       "      <td>6617.0</td>\n",
       "      <td>65.0</td>\n",
       "      <td>47.0</td>\n",
       "      <td>2177.0</td>\n",
       "      <td>253.0</td>\n",
       "      <td>2835.0</td>\n",
       "    </tr>\n",
       "    <tr>\n",
       "      <th>2</th>\n",
       "      <td>21.0</td>\n",
       "      <td>96.0</td>\n",
       "      <td>312.0</td>\n",
       "      <td>560.0</td>\n",
       "      <td>272.0</td>\n",
       "      <td>1240.0</td>\n",
       "      <td>29.0</td>\n",
       "      <td>1025.0</td>\n",
       "      <td>270.0</td>\n",
       "      <td>300.0</td>\n",
       "      <td>...</td>\n",
       "      <td>817.0</td>\n",
       "      <td>430.0</td>\n",
       "      <td>96600.0</td>\n",
       "      <td>4285.0</td>\n",
       "      <td>6571.0</td>\n",
       "      <td>64.0</td>\n",
       "      <td>43.0</td>\n",
       "      <td>2193.0</td>\n",
       "      <td>218.0</td>\n",
       "      <td>2764.0</td>\n",
       "    </tr>\n",
       "    <tr>\n",
       "      <th>3</th>\n",
       "      <td>20.0</td>\n",
       "      <td>92.0</td>\n",
       "      <td>312.0</td>\n",
       "      <td>443.0</td>\n",
       "      <td>213.0</td>\n",
       "      <td>845.0</td>\n",
       "      <td>24.0</td>\n",
       "      <td>833.0</td>\n",
       "      <td>179.0</td>\n",
       "      <td>211.0</td>\n",
       "      <td>...</td>\n",
       "      <td>801.0</td>\n",
       "      <td>291.0</td>\n",
       "      <td>94500.0</td>\n",
       "      <td>4222.0</td>\n",
       "      <td>6365.0</td>\n",
       "      <td>65.0</td>\n",
       "      <td>39.0</td>\n",
       "      <td>1315.0</td>\n",
       "      <td>195.0</td>\n",
       "      <td>2735.0</td>\n",
       "    </tr>\n",
       "    <tr>\n",
       "      <th>4</th>\n",
       "      <td>22.0</td>\n",
       "      <td>91.0</td>\n",
       "      <td>312.0</td>\n",
       "      <td>346.0</td>\n",
       "      <td>190.0</td>\n",
       "      <td>647.0</td>\n",
       "      <td>16.0</td>\n",
       "      <td>733.0</td>\n",
       "      <td>186.0</td>\n",
       "      <td>179.0</td>\n",
       "      <td>...</td>\n",
       "      <td>807.0</td>\n",
       "      <td>279.0</td>\n",
       "      <td>91300.0</td>\n",
       "      <td>4116.0</td>\n",
       "      <td>6298.0</td>\n",
       "      <td>75.0</td>\n",
       "      <td>40.0</td>\n",
       "      <td>1378.0</td>\n",
       "      <td>191.0</td>\n",
       "      <td>2721.0</td>\n",
       "    </tr>\n",
       "  </tbody>\n",
       "</table>\n",
       "<p>5 rows × 321 columns</p>\n",
       "</div>"
      ],
      "text/plain": [
       "     V1    V2     V3     V4     V5      V6    V7      V8     V9    V10  ...  \\\n",
       "0  14.0  69.0  234.0  415.0  215.0  1056.0  29.0   840.0  226.0  265.0  ...   \n",
       "1  18.0  92.0  312.0  556.0  292.0  1363.0  29.0  1102.0  271.0  340.0  ...   \n",
       "2  21.0  96.0  312.0  560.0  272.0  1240.0  29.0  1025.0  270.0  300.0  ...   \n",
       "3  20.0  92.0  312.0  443.0  213.0   845.0  24.0   833.0  179.0  211.0  ...   \n",
       "4  22.0  91.0  312.0  346.0  190.0   647.0  16.0   733.0  186.0  179.0  ...   \n",
       "\n",
       "    V312   V313     V314    V315    V316  V317  V318    V319   V320    V321  \n",
       "0  676.0  372.0  80100.0  4719.0  5002.0  48.0  38.0  1558.0  182.0  2162.0  \n",
       "1  805.0  452.0  95200.0  4643.0  6617.0  65.0  47.0  2177.0  253.0  2835.0  \n",
       "2  817.0  430.0  96600.0  4285.0  6571.0  64.0  43.0  2193.0  218.0  2764.0  \n",
       "3  801.0  291.0  94500.0  4222.0  6365.0  65.0  39.0  1315.0  195.0  2735.0  \n",
       "4  807.0  279.0  91300.0  4116.0  6298.0  75.0  40.0  1378.0  191.0  2721.0  \n",
       "\n",
       "[5 rows x 321 columns]"
      ]
     },
     "execution_count": 4,
     "metadata": {},
     "output_type": "execute_result"
    }
   ],
   "source": [
    "# 데이터 읽어와서 데이터프레임으로 저장\n",
    "df = pd.read_csv(\"electricity.txt\", header=None)\n",
    "\n",
    "num_cols = df.shape[1]\n",
    "df.columns = [f\"V{i+1}\" for i in range(num_cols)]\n",
    "\n",
    "df.head()"
   ]
  },
  {
   "cell_type": "code",
   "execution_count": 5,
   "metadata": {},
   "outputs": [],
   "source": [
    "# 차분을 통해 새롭게 데이터프레임 구성\n",
    "elec = df.diff().iloc[1:].reset_index(drop=True)"
   ]
  },
  {
   "cell_type": "code",
   "execution_count": 6,
   "metadata": {},
   "outputs": [
    {
     "data": {
      "text/html": [
       "<div>\n",
       "<style scoped>\n",
       "    .dataframe tbody tr th:only-of-type {\n",
       "        vertical-align: middle;\n",
       "    }\n",
       "\n",
       "    .dataframe tbody tr th {\n",
       "        vertical-align: top;\n",
       "    }\n",
       "\n",
       "    .dataframe thead th {\n",
       "        text-align: right;\n",
       "    }\n",
       "</style>\n",
       "<table border=\"1\" class=\"dataframe\">\n",
       "  <thead>\n",
       "    <tr style=\"text-align: right;\">\n",
       "      <th></th>\n",
       "      <th>V1</th>\n",
       "      <th>V2</th>\n",
       "      <th>V3</th>\n",
       "      <th>V4</th>\n",
       "      <th>V5</th>\n",
       "      <th>V6</th>\n",
       "      <th>V7</th>\n",
       "      <th>V8</th>\n",
       "      <th>V9</th>\n",
       "      <th>V10</th>\n",
       "      <th>...</th>\n",
       "      <th>V312</th>\n",
       "      <th>V313</th>\n",
       "      <th>V314</th>\n",
       "      <th>V315</th>\n",
       "      <th>V316</th>\n",
       "      <th>V317</th>\n",
       "      <th>V318</th>\n",
       "      <th>V319</th>\n",
       "      <th>V320</th>\n",
       "      <th>V321</th>\n",
       "    </tr>\n",
       "  </thead>\n",
       "  <tbody>\n",
       "    <tr>\n",
       "      <th>0</th>\n",
       "      <td>4.0</td>\n",
       "      <td>23.0</td>\n",
       "      <td>78.0</td>\n",
       "      <td>141.0</td>\n",
       "      <td>77.0</td>\n",
       "      <td>307.0</td>\n",
       "      <td>0.0</td>\n",
       "      <td>262.0</td>\n",
       "      <td>45.0</td>\n",
       "      <td>75.0</td>\n",
       "      <td>...</td>\n",
       "      <td>129.0</td>\n",
       "      <td>80.0</td>\n",
       "      <td>15100.0</td>\n",
       "      <td>-76.0</td>\n",
       "      <td>1615.0</td>\n",
       "      <td>17.0</td>\n",
       "      <td>9.0</td>\n",
       "      <td>619.0</td>\n",
       "      <td>71.0</td>\n",
       "      <td>673.0</td>\n",
       "    </tr>\n",
       "    <tr>\n",
       "      <th>1</th>\n",
       "      <td>3.0</td>\n",
       "      <td>4.0</td>\n",
       "      <td>0.0</td>\n",
       "      <td>4.0</td>\n",
       "      <td>-20.0</td>\n",
       "      <td>-123.0</td>\n",
       "      <td>0.0</td>\n",
       "      <td>-77.0</td>\n",
       "      <td>-1.0</td>\n",
       "      <td>-40.0</td>\n",
       "      <td>...</td>\n",
       "      <td>12.0</td>\n",
       "      <td>-22.0</td>\n",
       "      <td>1400.0</td>\n",
       "      <td>-358.0</td>\n",
       "      <td>-46.0</td>\n",
       "      <td>-1.0</td>\n",
       "      <td>-4.0</td>\n",
       "      <td>16.0</td>\n",
       "      <td>-35.0</td>\n",
       "      <td>-71.0</td>\n",
       "    </tr>\n",
       "    <tr>\n",
       "      <th>2</th>\n",
       "      <td>-1.0</td>\n",
       "      <td>-4.0</td>\n",
       "      <td>0.0</td>\n",
       "      <td>-117.0</td>\n",
       "      <td>-59.0</td>\n",
       "      <td>-395.0</td>\n",
       "      <td>-5.0</td>\n",
       "      <td>-192.0</td>\n",
       "      <td>-91.0</td>\n",
       "      <td>-89.0</td>\n",
       "      <td>...</td>\n",
       "      <td>-16.0</td>\n",
       "      <td>-139.0</td>\n",
       "      <td>-2100.0</td>\n",
       "      <td>-63.0</td>\n",
       "      <td>-206.0</td>\n",
       "      <td>1.0</td>\n",
       "      <td>-4.0</td>\n",
       "      <td>-878.0</td>\n",
       "      <td>-23.0</td>\n",
       "      <td>-29.0</td>\n",
       "    </tr>\n",
       "    <tr>\n",
       "      <th>3</th>\n",
       "      <td>2.0</td>\n",
       "      <td>-1.0</td>\n",
       "      <td>0.0</td>\n",
       "      <td>-97.0</td>\n",
       "      <td>-23.0</td>\n",
       "      <td>-198.0</td>\n",
       "      <td>-8.0</td>\n",
       "      <td>-100.0</td>\n",
       "      <td>7.0</td>\n",
       "      <td>-32.0</td>\n",
       "      <td>...</td>\n",
       "      <td>6.0</td>\n",
       "      <td>-12.0</td>\n",
       "      <td>-3200.0</td>\n",
       "      <td>-106.0</td>\n",
       "      <td>-67.0</td>\n",
       "      <td>10.0</td>\n",
       "      <td>1.0</td>\n",
       "      <td>63.0</td>\n",
       "      <td>-4.0</td>\n",
       "      <td>-14.0</td>\n",
       "    </tr>\n",
       "    <tr>\n",
       "      <th>4</th>\n",
       "      <td>-2.0</td>\n",
       "      <td>1.0</td>\n",
       "      <td>-125.0</td>\n",
       "      <td>-6.0</td>\n",
       "      <td>-12.0</td>\n",
       "      <td>-6.0</td>\n",
       "      <td>2.0</td>\n",
       "      <td>-7.0</td>\n",
       "      <td>-2.0</td>\n",
       "      <td>-2.0</td>\n",
       "      <td>...</td>\n",
       "      <td>-5.0</td>\n",
       "      <td>110.0</td>\n",
       "      <td>-4300.0</td>\n",
       "      <td>143.0</td>\n",
       "      <td>-750.0</td>\n",
       "      <td>-11.0</td>\n",
       "      <td>-1.0</td>\n",
       "      <td>-128.0</td>\n",
       "      <td>-6.0</td>\n",
       "      <td>21.0</td>\n",
       "    </tr>\n",
       "  </tbody>\n",
       "</table>\n",
       "<p>5 rows × 321 columns</p>\n",
       "</div>"
      ],
      "text/plain": [
       "    V1    V2     V3     V4    V5     V6   V7     V8    V9   V10  ...   V312  \\\n",
       "0  4.0  23.0   78.0  141.0  77.0  307.0  0.0  262.0  45.0  75.0  ...  129.0   \n",
       "1  3.0   4.0    0.0    4.0 -20.0 -123.0  0.0  -77.0  -1.0 -40.0  ...   12.0   \n",
       "2 -1.0  -4.0    0.0 -117.0 -59.0 -395.0 -5.0 -192.0 -91.0 -89.0  ...  -16.0   \n",
       "3  2.0  -1.0    0.0  -97.0 -23.0 -198.0 -8.0 -100.0   7.0 -32.0  ...    6.0   \n",
       "4 -2.0   1.0 -125.0   -6.0 -12.0   -6.0  2.0   -7.0  -2.0  -2.0  ...   -5.0   \n",
       "\n",
       "    V313     V314   V315    V316  V317  V318   V319  V320   V321  \n",
       "0   80.0  15100.0  -76.0  1615.0  17.0   9.0  619.0  71.0  673.0  \n",
       "1  -22.0   1400.0 -358.0   -46.0  -1.0  -4.0   16.0 -35.0  -71.0  \n",
       "2 -139.0  -2100.0  -63.0  -206.0   1.0  -4.0 -878.0 -23.0  -29.0  \n",
       "3  -12.0  -3200.0 -106.0   -67.0  10.0   1.0   63.0  -4.0  -14.0  \n",
       "4  110.0  -4300.0  143.0  -750.0 -11.0  -1.0 -128.0  -6.0   21.0  \n",
       "\n",
       "[5 rows x 321 columns]"
      ]
     },
     "execution_count": 6,
     "metadata": {},
     "output_type": "execute_result"
    }
   ],
   "source": [
    "elec.head()"
   ]
  },
  {
   "cell_type": "code",
   "execution_count": 7,
   "metadata": {},
   "outputs": [
    {
     "data": {
      "image/png": "[encoded data removed]",
      "text/plain": [
       "<Figure size 600x300 with 1 Axes>"
      ]
     },
     "metadata": {},
     "output_type": "display_data"
    }
   ],
   "source": [
    "# 전력 사용량의 변화를 시각적으로 확인해봅시다 !\n",
    "# 데이터는 차분(diff)되어 있어서, 실제 전력 사용량이 아닌 변화량을 가리킵니다.\n",
    "plt.plot(elec['V1'])\n",
    "plt.title(\"전력 사용량 변화 (차분 시계열)\")\n",
    "plt.xlabel(\"시간\")\n",
    "plt.ylabel(\"변화량\")\n",
    "plt.show()"
   ]
  },
  {
   "cell_type": "code",
   "execution_count": 8,
   "metadata": {},
   "outputs": [
    {
     "data": {
      "image/png": "[encoded data removed]",
      "text/plain": [
       "<Figure size 600x300 with 1 Axes>"
      ]
     },
     "metadata": {},
     "output_type": "display_data"
    }
   ],
   "source": [
    "plt.plot(elec.V4[:196], color='r')\n",
    "plt.plot(elec.V14[:196], color='g')\n",
    "plt.plot(elec.V114[:196], color='b')\n",
    "plt.show()"
   ]
  },
  {
   "cell_type": "markdown",
   "metadata": {},
   "source": [
    "## Dataset 클래스 정의"
   ]
  },
  {
   "cell_type": "code",
   "execution_count": 9,
   "metadata": {},
   "outputs": [],
   "source": [
    "# PyTorch에서는 Dataset 클래스를 만들어 학습 데이터를 관리합니다.\n",
    "# 시계열 데이터를 일정 길이(WIN)만큼 슬라이딩 윈도우 방식으로 잘라서\n",
    "# 입력(X)과 예측 대상(Y)을 만듭니다.\n",
    "\n",
    "from torch.utils.data import Dataset\n",
    "import torch\n",
    "\n",
    "# 딥러닝 세션 복습 ! ***에는 뭐가 들어가야 할까요?\n",
    "class ElectricityDataset(Dataset):\n",
    "    def __init__(self, data, win, horizon):\n",
    "        \"\"\"\n",
    "        Args:\n",
    "            series (np.array): 시계열 데이터.\n",
    "            win (int): 입력 시계열 길이 (예: 24)\n",
    "            horizon (int): 예측 시계열 길이 (예: 3)\n",
    "        \"\"\"\n",
    "        super(ElectricityDataset, self).__init__()\n",
    "        self.series = data\n",
    "        self.win = win\n",
    "        self.horizon = horizon\n",
    "\n",
    "        # 총 데이터 길이(T)\n",
    "        self.T = data.shape[0]\n",
    "        # slide 가능한 샘플 개수\n",
    "        self.n_samples = self.T - self.win - self.horizon + 1\n",
    "\n",
    "    def __len__(self):\n",
    "        return self.n_samples\n",
    "\n",
    "    def __getitem__(self, idx):\n",
    "        start = idx\n",
    "        end_x = idx + self.win\n",
    "        end_y = idx + self.win + self.horizon\n",
    "\n",
    "        X = self.series[start : end_x]\n",
    "        y = self.series[end_x : end_y, 0]\n",
    "\n",
    "        X = torch.tensor(X, dtype=torch.float32)\n",
    "        y = torch.tensor(y, dtype=torch.float32)\n",
    "        return X, y"
   ]
  },
  {
   "cell_type": "markdown",
   "metadata": {},
   "source": [
    "## 데이터셋 나누기"
   ]
  },
  {
   "cell_type": "code",
   "execution_count": 10,
   "metadata": {},
   "outputs": [],
   "source": [
    "from torch.utils.data import DataLoader\n",
    "\n",
    "# 다차원 입력도 가능하지만 이번에는 단일 변수만 사용하겠습니다 !\n",
    "# 전력 사용량 데이터의 첫 번째 열(V1)을 선택해주세요.\n",
    "data = elec[['V1']].values\n",
    "\n",
    "n_total = len(data)\n",
    "n_train = int(n_total * DATA_SEGMENTS['tr'])\n",
    "n_val = int(n_total * DATA_SEGMENTS['va'])\n",
    "\n",
    "train_series = data[:n_train]\n",
    "val_series = data[n_train: n_train + n_val]\n",
    "test_series = data[n_train + n_val:]\n",
    "\n",
    "# 데이터셋 생성\n",
    "train_dataset = ElectricityDataset(train_series, WIN, H)\n",
    "val_dataset = ElectricityDataset(val_series, WIN, H)\n",
    "test_dataset = ElectricityDataset(test_series, WIN, H)\n",
    "\n",
    "# 데이터를 공급할 DataLoader (배치 단위로)\n",
    "train_loader = DataLoader(train_dataset, batch_size=BATCH_N, shuffle=True)\n",
    "val_loader = DataLoader(val_dataset, batch_size=BATCH_N)\n",
    "test_loader = DataLoader(test_dataset, batch_size=BATCH_N)"
   ]
  },
  {
   "cell_type": "markdown",
   "metadata": {},
   "source": [
    "데이터셋을 배치로 나눠 모델에 바로 쓸 수 있도록 준비를 마쳤습니다."
   ]
  },
  {
   "cell_type": "markdown",
   "metadata": {},
   "source": [
    "## 모델 정의"
   ]
  },
  {
   "cell_type": "markdown",
   "metadata": {},
   "source": [
    "- **입력**: 과거 `WIN` 시간 동안의 시계열 데이터  \n",
    "- **출력**: 미래 `H`시간의 시계열 예측값\n",
    "- **구조**:\n",
    "  - LSTM 계층: 시계열의 패턴을 기억하고 추론\n",
    "  - FC 계층: 마지막 hidden state를 기반으로 다수 시점 예측\n",
    "- **Dropout**: 학습 중 과적합 방지용\n",
    "\n",
    "이 모델은 입력 시계열의 패턴을 LSTM으로 학습하고,\n",
    "마지막 시점의 정보를 활용해 미래의 흐름을 예측합니다."
   ]
  },
  {
   "cell_type": "code",
   "execution_count": 11,
   "metadata": {},
   "outputs": [],
   "source": [
    "# 시계열 입력을 받아, RNN으로 내부 상태를 업데이트하고,\n",
    "# 마지막 hidden state를 기반으로 미래 H시간의 값을 예측합니다.\n",
    "\n",
    "class RNNForecastModel(nn.Module):\n",
    "    def __init__(self, input_size, hidden_size, output_horizon, dropout=0.2):\n",
    "        super(RNNForecastModel, self).__init__()\n",
    "        self.hidden_size = hidden_size\n",
    "        self.output_horizon = output_horizon\n",
    "\n",
    "        # LSTM 레이어 적용\n",
    "        self.rnn = nn.LSTM(input_size=input_size,\n",
    "                           hidden_size=hidden_size,\n",
    "                           batch_first=True,\n",
    "                           dropout=dropout)\n",
    "\n",
    "        # RNN 출력에서 H개의 시점 예측\n",
    "        self.fc = nn.Sequential(\n",
    "            nn.Linear(hidden_size, hidden_size // 2),\n",
    "            nn.ReLU(),\n",
    "            nn.Dropout(dropout),\n",
    "            nn.Linear(hidden_size // 2, output_horizon)\n",
    "        )\n",
    "\n",
    "    def forward(self, x):\n",
    "        out, _ = self.rnn(x)\n",
    "\n",
    "        # 마지막 시점의 hidden state만 사용\n",
    "        last_hidden = out[:, -1, :]\n",
    "\n",
    "        # 미래 horizon 값 예측\n",
    "        y_pred = self.fc(last_hidden)\n",
    "        return y_pred"
   ]
  },
  {
   "cell_type": "code",
   "execution_count": 12,
   "metadata": {},
   "outputs": [],
   "source": [
    "# 학습에 사용할 모델을 생성합니다.\n",
    "device = torch.device(\"cuda\" if torch.cuda.is_available() else \"cpu\")\n",
    "\n",
    "model = RNNForecastModel(input_size=data.shape[1],\n",
    "                         hidden_size=RNN_UNITS,\n",
    "                         output_horizon=H,\n",
    "                         dropout=DROP).to(device)"
   ]
  },
  {
   "cell_type": "code",
   "execution_count": 13,
   "metadata": {},
   "outputs": [],
   "source": [
    "# 손실함수: 평균 제곱 오차 (MSE)\n",
    "criterion = nn.MSELoss()\n",
    "\n",
    "# 옵티마이저: Adam\n",
    "optimizer = torch.optim.Adam(model.parameters(), lr=LR)"
   ]
  },
  {
   "cell_type": "markdown",
   "metadata": {},
   "source": [
    "## 학습"
   ]
  },
  {
   "cell_type": "markdown",
   "metadata": {},
   "source": [
    "### 모델 학습 과정 요약\n",
    "\n",
    "- **Train** 단계:\n",
    "  - 모델이 입력 데이터를 통해 예측값 생성\n",
    "  - 손실함수로 실제값과 차이를 계산\n",
    "  - 이 차이를 줄이기 위해 모델의 가중치를 업데이트\n",
    "\n",
    "- **Validation** 단계:\n",
    "  - 모델이 학습 데이터 외의 데이터에서도 잘 작동하는지 확인\n",
    "  - 성능이 개선되지 않으면 학습을 조기 종료"
   ]
  },
  {
   "cell_type": "code",
   "execution_count": 14,
   "metadata": {},
   "outputs": [],
   "source": [
    "def evaluate(model, data_loader):\n",
    "    \"\"\" 검증 또는 테스트 시 성능 평가 \"\"\"\n",
    "    model.eval() # 모델을 평가 모드로 설정 (eval)\n",
    "    total_loss = 0\n",
    "    with torch.no_grad():\n",
    "        for X_batch, Y_batch in data_loader:\n",
    "            X_batch, Y_batch = X_batch.to(device), Y_batch.to(device)\n",
    "            pred = model(X_batch)\n",
    "            loss = criterion(pred, Y_batch)\n",
    "            total_loss += loss.item() * X_batch.size(0)\n",
    "    return total_loss / len(data_loader.dataset)"
   ]
  },
  {
   "cell_type": "code",
   "execution_count": 15,
   "metadata": {},
   "outputs": [
    {
     "name": "stdout",
     "output_type": "stream",
     "text": [
      "Epoch 1/30 - Train Loss: 192.117123, Val Loss: 181.348256\n",
      "Epoch 2/30 - Train Loss: 191.849347, Val Loss: 181.070850\n",
      "Epoch 3/30 - Train Loss: 191.540508, Val Loss: 180.784306\n",
      "Epoch 4/30 - Train Loss: 191.249764, Val Loss: 180.476667\n",
      "Epoch 5/30 - Train Loss: 190.925014, Val Loss: 180.147031\n",
      "Epoch 6/30 - Train Loss: 190.587976, Val Loss: 179.785239\n",
      "Epoch 7/30 - Train Loss: 190.140726, Val Loss: 179.367875\n",
      "Epoch 8/30 - Train Loss: 189.649511, Val Loss: 178.855418\n",
      "Epoch 9/30 - Train Loss: 189.025088, Val Loss: 178.239693\n",
      "Epoch 10/30 - Train Loss: 188.240265, Val Loss: 177.476388\n",
      "Epoch 11/30 - Train Loss: 187.300202, Val Loss: 176.469708\n",
      "Epoch 12/30 - Train Loss: 185.913360, Val Loss: 175.250706\n",
      "Epoch 13/30 - Train Loss: 184.405021, Val Loss: 174.191473\n",
      "Epoch 14/30 - Train Loss: 182.750842, Val Loss: 173.339720\n",
      "Epoch 15/30 - Train Loss: 181.357059, Val Loss: 172.245788\n",
      "Epoch 16/30 - Train Loss: 179.779713, Val Loss: 171.772498\n",
      "Epoch 17/30 - Train Loss: 177.944849, Val Loss: 171.555937\n",
      "Epoch 18/30 - Train Loss: 176.582054, Val Loss: 170.963706\n",
      "Epoch 19/30 - Train Loss: 174.989753, Val Loss: 168.352225\n",
      "Epoch 20/30 - Train Loss: 173.704336, Val Loss: 167.586189\n",
      "Epoch 21/30 - Train Loss: 171.974830, Val Loss: 167.305202\n",
      "Epoch 22/30 - Train Loss: 170.503913, Val Loss: 166.635170\n",
      "Epoch 23/30 - Train Loss: 168.642974, Val Loss: 164.807031\n",
      "Epoch 24/30 - Train Loss: 167.016935, Val Loss: 164.842059\n",
      "Epoch 25/30 - Train Loss: 165.493211, Val Loss: 163.157722\n",
      "Epoch 26/30 - Train Loss: 164.399816, Val Loss: 162.850167\n",
      "Epoch 27/30 - Train Loss: 162.816487, Val Loss: 161.311210\n",
      "Epoch 28/30 - Train Loss: 161.800503, Val Loss: 160.204732\n",
      "Epoch 29/30 - Train Loss: 160.425998, Val Loss: 160.187237\n",
      "Epoch 30/30 - Train Loss: 158.944627, Val Loss: 160.124613\n"
     ]
    }
   ],
   "source": [
    "# 학습 루프 시작\n",
    "best_val_loss = float('inf')\n",
    "epochs_no_improve = 0\n",
    "\n",
    "for epoch in range(N_EPOCHS):\n",
    "    model.train() # 모델을 학습 모드로 설정 (train)\n",
    "    running_loss = 0.0\n",
    "\n",
    "    for X_batch, Y_batch in train_loader:\n",
    "        X_batch, Y_batch = X_batch.to(device), Y_batch.to(device)\n",
    "\n",
    "        # 순전파\n",
    "        pred = model(X_batch)\n",
    "        loss = criterion(pred, Y_batch)\n",
    "\n",
    "        # 역전파 + 최적화\n",
    "        optimizer.zero_grad()\n",
    "        loss.backward()\n",
    "        optimizer.step()\n",
    "\n",
    "        running_loss += loss.item() * X_batch.size(0)\n",
    "\n",
    "    # 평균 학습 손실\n",
    "    train_loss = running_loss / len(train_loader.dataset)\n",
    "    \n",
    "    # 검증 손실\n",
    "    val_loss = evaluate(model, val_loader)\n",
    "\n",
    "    print(f\"Epoch {epoch+1}/{N_EPOCHS} - Train Loss: {train_loss:.6f}, Val Loss: {val_loss:.6f}\")\n",
    "\n",
    "    # 조기 종료 조건 확인\n",
    "    if best_val_loss - val_loss < COR_THRESHOLD:\n",
    "        epochs_no_improve += 1\n",
    "        if epochs_no_improve >= THRESHOLD_EPOCHS:\n",
    "            print(f\"Early stopping triggered at epoch {epoch+1}\")\n",
    "            break\n",
    "    else:\n",
    "        best_val_loss = val_loss\n",
    "        epochs_no_improve = 0"
   ]
  },
  {
   "cell_type": "markdown",
   "metadata": {},
   "source": [
    "## 예측 및 성능 평가"
   ]
  },
  {
   "cell_type": "code",
   "execution_count": 16,
   "metadata": {},
   "outputs": [],
   "source": [
    "# 전체 테스트셋에 대해 예측값과 실제값을 저장\n",
    "model.eval() # 모델을 평가 모드로 설정\n",
    "\n",
    "y_preds = []\n",
    "y_trues = []\n",
    "\n",
    "with torch.no_grad():\n",
    "    for X_batch, Y_batch in test_loader:\n",
    "        X_batch = X_batch.to(device)\n",
    "        Y_batch = Y_batch.to(device)\n",
    "\n",
    "        pred = model(X_batch)\n",
    "\n",
    "        y_preds.append(pred.cpu().numpy()) # y_preds에 값 추가 (append)\n",
    "        y_trues.append(Y_batch.cpu().numpy()) # y_trues에 값 추가\n",
    "\n",
    "# 리스트를 numpy 배열로 결합\n",
    "y_preds = np.concatenate(y_preds, axis=0)\n",
    "y_trues = np.concatenate(y_trues, axis=0)"
   ]
  },
  {
   "cell_type": "code",
   "execution_count": 17,
   "metadata": {},
   "outputs": [],
   "source": [
    "# 전체 시계열 기준으로 flatten (H=3인 경우 각 샘플당 3개의 예측)\n",
    "y_preds_flat = y_preds.flatten()\n",
    "y_trues_flat = y_trues.flatten()"
   ]
  },
  {
   "cell_type": "code",
   "execution_count": 19,
   "metadata": {},
   "outputs": [
    {
     "name": "stdout",
     "output_type": "stream",
     "text": [
      "Pearson Correlation:  0.4128\n",
      "Spearman Correlation: 0.3049\n"
     ]
    }
   ],
   "source": [
    "# 피어슨 상관계수\n",
    "pearson_corr, _ = pearsonr(y_trues_flat, y_preds_flat)\n",
    "\n",
    "# 스피어만 상관계수\n",
    "spearman_corr, _ = spearmanr(y_trues_flat, y_preds_flat)\n",
    "\n",
    "print(f\"Pearson Correlation:  {pearson_corr:.4f}\")\n",
    "print(f\"Spearman Correlation: {spearman_corr:.4f}\")"
   ]
  },
  {
   "cell_type": "code",
   "execution_count": 18,
   "metadata": {},
   "outputs": [],
   "source": [
    "from sklearn.metrics import mean_squared_error, mean_absolute_error, r2_score\n",
    "\n",
    "def compute_metrics(y_true, y_pred):\n",
    "    mse = mean_squared_error(y_true, y_pred)\n",
    "    rmse = mse**0.5\n",
    "    mae = mean_absolute_error(y_true, y_pred)\n",
    "    r2 = r2_score(y_true, y_pred)\n",
    "\n",
    "    return {\n",
    "        \"MSE\": mse,\n",
    "        \"RMSE\": rmse,\n",
    "        \"MAE\": mae,\n",
    "        \"R2 Score\": r2\n",
    "    }"
   ]
  },
  {
   "cell_type": "code",
   "execution_count": 19,
   "metadata": {},
   "outputs": [
    {
     "data": {
      "text/plain": [
       "{'MSE': 64.58625030517578,\n",
       " 'RMSE': 8.036557117645328,\n",
       " 'MAE': 3.772688627243042,\n",
       " 'R2 Score': 0.18540364503860474}"
      ]
     },
     "execution_count": 19,
     "metadata": {},
     "output_type": "execute_result"
    }
   ],
   "source": [
    "compute_metrics(y_trues_flat, y_preds_flat)"
   ]
  },
  {
   "cell_type": "code",
   "execution_count": 21,
   "metadata": {},
   "outputs": [
    {
     "data": {
      "image/png": "[encoded data removed]",
      "text/plain": [
       "<Figure size 1200x600 with 1 Axes>"
      ]
     },
     "metadata": {},
     "output_type": "display_data"
    }
   ],
   "source": [
    "# y_trues와 y_preds를 시각적으로 비교\n",
    "plt.figure(figsize=(12, 6))\n",
    "plt.plot(y_trues_flat, label='실제값', color='blue', alpha=0.6)\n",
    "plt.plot(y_preds_flat, label='예측값', color='red', alpha=0.6)\n",
    "plt.title('실제값과 예측값 비교')\n",
    "plt.xlabel('샘플 인덱스')\n",
    "plt.ylabel('전력 사용량 변화량')\n",
    "plt.legend()\n",
    "plt.show()"
   ]
  },
  {
   "cell_type": "markdown",
   "metadata": {},
   "source": [
    "직접 학습을 시켰기 때문에 모델 성능은 좋지 않지만(🥲), 이런 프로세스로 딥러닝 모델을 시계열 예측에 적용할 수 있다는 것을 확인해 볼 수 있겠습니다 😊\n",
    "\n",
    "마지막 과제까지 너무 수고하셨습니다 !!"
   ]
  },
  {
   "cell_type": "code",
   "execution_count": null,
   "metadata": {},
   "outputs": [],
   "source": []
  }
 ],
 "metadata": {
  "kernelspec": {
   "display_name": "base",
   "language": "python",
   "name": "python3"
  },
  "language_info": {
   "codemirror_mode": {
    "name": "ipython",
    "version": 3
   },
   "file_extension": ".py",
   "mimetype": "text/x-python",
   "name": "python",
   "nbconvert_exporter": "python",
   "pygments_lexer": "ipython3",
   "version": "3.12.7"
  }
 },
 "nbformat": 4,
 "nbformat_minor": 2
}
