{
 "cells": [
  {
   "cell_type": "markdown",
   "metadata": {},
   "source": [
    "# Markdown"
   ]
  },
  {
   "cell_type": "markdown",
   "metadata": {},
   "source": [
    "## 변수와 자료형"
   ]
  },
  {
   "cell_type": "markdown",
   "metadata": {},
   "source": [
    "* 변수: 데이터에 붙이는 특정한 이름\n",
    "\n",
    "'='으로 변수에 데이터를 할당  ('같다'가 아닌 '선언한다'는 의미)"
   ]
  },
  {
   "cell_type": "markdown",
   "metadata": {},
   "source": [
    "* 기본적으로 가장 많이 사용되는 3가지 자료형\n",
    "\n",
    " 1) 정수형: int\n",
    " 2) 실수형: float\n",
    " 3) 문자형: str  (\"\",'' 을 이용해서 선언)\n",
    "\n",
    "type()으로 특정 변수에 지정된 데이터의 자료형 확인 가능\n",
    "\n",
    "자료형이 일치하지 않으면, 연산 불가능\n",
    "\n",
    "자료형을 바꾸려면, 데이터 앞에 타입을 입력한 후 변수 선언 \n",
    "ex. a=float(10)"
   ]
  },
  {
   "cell_type": "markdown",
   "metadata": {},
   "source": [
    "- String Indexing: 특정 위치의 글자 추출 \\\n",
    "str[a]의 형태, a번째 글자 추출 \\\n",
    "시작은 0부터, 끝에서 부터는 -1 시작 \n",
    "\n",
    "- String Slicing: 특정 글자를 잘라서 추출\\\n",
    "str[n:m]의 형태, n번째부터 m번째 글자 전까지 추출\\\n",
    "n,m을 생략하면 각각 처음부터 끝까지\n",
    "\n",
    "- String Function: 여러가지 String 명령어\\\n",
    "count(): 특정 문자의 수\\\n",
    "find()/index(): 특정 문자의 위치 index\\\n",
    "join(): 문자열에 특수기호나 특정 문자 삽입 ex. \",\".join('가나다라마') -> '가,나,다,라,마'\\\n",
    "upper()/lower(): 영어 소문자 대문자 전환\\\n",
    "lstrip()/rstrip()/strip(): 좌, 우, 전체 문자열 공백 제거\\\n",
    "replace(): 특정 문자를 다른 문자로 변환 ex. str10 = \"python Big 데이터\" str10.replace('데이터', 'data') -> 'python Big data' \\\n",
    "split(): 문자를 공백 기준으로 리스트 형태로 나누어 출력, \":\" 기호 사용시 문자열 전체가 리스트에 하나의 객체로 출력\\\n",
    "ex. str10.split(\":\") -> ['python Big 데이터']"
   ]
  },
  {
   "cell_type": "markdown",
   "metadata": {},
   "source": [
    "- 리스트 (List): []\\\n",
    "여러 개의 데이터를 다룰 떄, 하나의 변수에 다수의 값을 포함 가능 \\\n",
    "리스트 내 데이터 삭제, 추가, 수정 가능 + 순서 존재\\\n",
    " 추가: append()\\\n",
    "삽입: insert()\\\n",
    "삭제: remove()"
   ]
  },
  {
   "cell_type": "markdown",
   "metadata": {},
   "source": [
    "- 튜플(Tuple): () \n",
    "\n",
    "여러 개의 데이터를 다룰 때, 하나의 변수에 다수의 값을 포함 가능 (like List)\\\n",
    "  튜플 내 데이터 삭제, 추가, 수정 불가능 + 순서 존재\n",
    "  \n",
    "  Packing: 여러 개의 데이터를 쉼표 구분자를 이용해, 하나의 변수로 생성\\\n",
    "  ex. a=1,2,3,4,5 -> a=(1,2,3,4,5)\\\n",
    "  Unpacking: 하나의 튜플을 여러 개의 변수로 선언하여, 변수에 각 데이터 선언\\\n",
    "  ex. t=(1,2,3,4,5) / a,b,c,d,e= t -> a=1, b=2, c=3, d=4, e=5\\\n",
    "  \n",
    "  함수, 반목문 처럼 중요한 하이퍼파라미터를 보호할 때 사용 (하이퍼파라미터: 수식 내 값이 변하지 않는 인자나 상수)\n",
    "  "
   ]
  },
  {
   "cell_type": "markdown",
   "metadata": {},
   "source": [
    "- 세트(Set): {}\n",
    "\n",
    "여러 개의 데이터를 다룰 때, 하나의 변수에 다수 값을 포함 가능 (like List)\\\n",
    "세트 내 데이터 삭제, 추가, 수정 가능 + 순서 없음, 중복 없음\n",
    "\n",
    "추가:add()\\\n",
    "여러 값을 추가:update([n1,n2,n3])\n",
    "\n",
    "집합 연산 가능 (Van Diagram)\\\n",
    "교집합: A&B intersection()\\\n",
    "합집합: A|B union()\\\n",
    "차집합: A-B difference()\\\n",
    "대상 차집합:A^B"
   ]
  },
  {
   "cell_type": "markdown",
   "metadata": {},
   "source": [
    "- 사전(Dictionary): {:}\n",
    "\n",
    "데이터를 Key와 Value의 Pair 형태로 하나의 변수에 선언\n",
    "\n",
    ".Keys() / .Values() 명령어로 Key와 Value 데이터 확인 가능\\\n",
    "Key값은 중복 되지 않음\n",
    "\n",
    "A.get(a): A사전 안에서, Key값 a에 해당되는 Value 출력\n",
    "\n",
    "Dictionary 내 데이터 추가:\\\n",
    "A[새로운 Key] = 새로운 Value\n",
    "\n",
    "Dictionary의 Value 값에 List를 넣으면, 해당 Key 값에 Value를 계속 추가할 수 있음\n",
    "\n",
    "Pandas 라이브러리의 Series와 유사"
   ]
  },
  {
   "cell_type": "markdown",
   "metadata": {},
   "source": [
    "- 기본 연산자\n",
    "\n",
    "1. 산술 연산자\n",
    "   - 연산의 우선순위: 거듭제곱 -> 곱셈/나눗셈 -> 나머지/몫 -> 덧셈,뺄셈\n",
    "   - a//b: a 나누기 b의 몫\n",
    "   - a%b: a 나누기 b의 나머지\n",
    "  \n",
    "2. 비교 연산자\n",
    "   - 두 개의 연속형 데이터 비교\n",
    "   - 명제가 참이면 True, 거짓이면 False의 Bool 형태 결과 출력 (Boolean: 참or거짓의 자료형)\n",
    "   - Boolean의 경우 조건문에서 많이 사용\n",
    "   - a!=b: a가 b와 같지 않다\n",
    "3. 논리 연산자\n",
    "   - And/Or/Not: 그리고/또는/~이 아니다"
   ]
  },
  {
   "cell_type": "markdown",
   "metadata": {},
   "source": [
    "## Statement & Function"
   ]
  },
  {
   "cell_type": "markdown",
   "metadata": {},
   "source": [
    "- 조건문 (IF)\n",
    "\n",
    "특정 상황에 대한 판단 또는 해당 조건에 대한 실행여부 결정\\\n",
    "주로 비교 연산자와 함께 사용됨\\\n",
    "특히 데이터 전처리를 할 때, apply 함수와 함께 매우 많이 사용됨\n",
    "\n",
    "여러 가지 조건을 동시 판별할 때는, elif 구문 이용 (개수 제한 X)\\\n",
    "특정 조건에 수행한 문장이 없을 때는, Pass 구문 이용\n",
    "\n",
    "EX.\\\n",
    "if A>B:\\\n",
    "     print(A)\\\n",
    "elif A=B:\\\n",
    "     print(A,B)\\\n",
    "else:\\\n",
    "     print(B)"
   ]
  },
  {
   "cell_type": "markdown",
   "metadata": {},
   "source": [
    "- 반복문\n",
    "\n",
    "특정 수식이나 기능 반복 수행할 때 사용\\\n",
    "특정 조건이 맞을 때, 계속 반복 \\\n",
    "데이터 전처리를 할 때, 문자열 처리에서 많이 사용됨\n",
    "\n",
    "- While문\\\n",
    "While (조건):\\\n",
    "  반복할 문장\n",
    "\n",
    "While문에서는 무한루프에 유의해야 함, break문을 통해 반복 종료 가능\n",
    "\n",
    "- For 문\\\n",
    "For i in range(범위):\\\n",
    "   반복할 문장\n",
    "\n",
    "For문은 range() 함수와 보통 같이 사용됨\\\n",
    "For문과 If문을 활용해서 자동업무 시스템을 구현할 수 있음"
   ]
  },
  {
   "cell_type": "markdown",
   "metadata": {},
   "source": [
    "- 함수\n",
    "\n",
    "입력 X 값에 대한 결과 Y 값을 반환(Return)하는 기능을 하나의 묶음으로 선언\\\n",
    "모듈(module): 여러 함수들의 집합\\\n",
    "복잡한 데이터를 전처리할 때, 특정 기능을 반복적으로 구현하고 싶을 때 사용\n",
    "\n",
    "def 함수이름(변수):\\\n",
    "명령어\\\n",
    "return 결과\n",
    "\n",
    "변수와 결과 여러 개 설정 가능 "
   ]
  },
  {
   "cell_type": "markdown",
   "metadata": {},
   "source": [
    "- 라이브러리\n",
    "\n",
    "특정 기능을 지원하는 모듈 및 함수를 모아놓은 집합\\\n",
    "기능에 따라 여러 가지 라이브러리 존재 (시각화, 웹 서비스, 데이터 분석, 머신러닝 등)\\\n",
    "데이터 분석에서 기초적으로 Numpy와 Pandas 많이 사용"
   ]
  },
  {
   "cell_type": "markdown",
   "metadata": {},
   "source": [
    "- Numpy\n",
    "\n",
    "Numeric + Python\\\n",
    "배열, 행렬 계산에 필요한 함수 제공\\\n",
    "수열 데이터를 다룰 때 용이\\\n",
    "다차원 배열(Array)을 다룰 때 주로 사용 (인공신경망, 비정형 데이터 처리, 자연어 처리 등) \n",
    "\n",
    "import numpy as np: Numpy 라이브러리 호출, np라는 약자로 사용\n",
    "\n",
    "np.array([1,2,3,4]) -> 소괄호 안에 리스트 형태 데이터 입력 -> 배열의 데이터 타입으로 전환 (list -> numpy.ndarray)\\\n",
    "np.dtype - 배열 안의 데이터 타입 확인\n",
    "\n",
    "이중 리스트를 이용해 행렬(Matrix) 구현 가능\\\n",
    "lst=[[1,2,3],[4,5,6],[7,8,9]] -> data=np.array(lst) -> 3x3 형태의 Matrix 구현\n",
    "\n",
    "행렬 간 사칙연산, 제곱연산, 통계연산 등의 수학적 연산 가능\n",
    "\n",
    "행렬 생성\\\n",
    "np.arange(n) : 0부터 n까지의 값을 가지는 배열 생성\\\n",
    "np.arange(n,m) : n부터 m-1 까지 값을 갖는 배열 생성\\\n",
    "np.arrange(n,m,k) : n부터 m-1 까지 k씩 증가시켜 배열 생성\\\n",
    "np.random.randn(n) : 평균이 0이고 표준편차가 1인 n개의 데이터를 무작위로 생성\\\n",
    "np.random.randn(n,m) : 평균이 0이고 표준편차가 1인 n개의 데이터를 nxm 행렬의 형태로 생성\n",
    "\n",
    "행렬 내 데이터 타입 변경\\\n",
    "np.astype(데이터 타입)\n",
    "\n",
    "행렬 형태 확인\\\n",
    "넘파이 데이터 변수명.shape() -> (n,m)\n",
    "\n",
    "행렬 형태 변경\\\n",
    "넘파이 데이터 변수명.reshape(차원,행,열)\n",
    "\n",
    "2차원 array에서 Indexing + Slicing\\\n",
    "넘파이 데이터 변수명[행,열]\\\n",
    "넘파이 데이터 변수명[a:b,c:d]- a ~ b-1까지의 행 + c ~ d-1까지의 열 \n",
    "\n",
    "값 초기화\\\n",
    "np.zeroes((n,m)) -> n행, m열의 모든 값이 0인 행렬\\\n",
    "np.ones((n,m)) -> n행, m열의 모든 값이 1인 행렬\\\n",
    "\n",
    "배열 합\\\n",
    "넘파이 데이터 변수명.sum(): 전체 합\\\n",
    "넘파이 데이터 변수명.sum(axis=0): 열 방향합\\\n",
    "넘파이 데이터 변수명.sum(axis=1): 행 방향합"
   ]
  },
  {
   "cell_type": "markdown",
   "metadata": {},
   "source": [
    "- Pandas\n",
    "\n",
    "데이터 불러오기, 전처리, 통계 분석에 사용\\\n",
    "Numpy 기반으로 작성된 라이브러리\\\n",
    "Series/ DataFrame의 형태\\\n",
    "데이터 전처리의 대부분은 Pandas로 이루어짐\n",
    "\n",
    "import pandas as pd: Pandas 라이브러리 호출, pd라는 약자로 사용\n",
    "\n"
   ]
  },
  {
   "cell_type": "markdown",
   "metadata": {},
   "source": [
    "- Series\n",
    "  \n",
    "Series의 기본 구성 요소: Value와 Index\\\n",
    "시리즈 데이터 변수명.vlaues -> array([a,b,c],dtype=)\\\n",
    "시리즈 데이터 변수명.index -> RangeIndex(start=,stop=,step=)\n",
    "\n",
    "Series 데이터 형성\\\n",
    "pd.Sereis([1,2,3], index=[a,b,c], name=\"이름\")\\\n",
    "Value에 여러가지 파이썬 데이터 타입 활용 가능\n",
    "\n",
    "--# s:특정 시리즈 데이터 변수명\n",
    "\n",
    "Series는 통계적 연산 가능\\\n",
    "s.mean(): 평균\\\n",
    "s.describe(): 다양한 요약통계량 확인\n",
    "\n",
    "Series의 Indexing + Slicing\\\n",
    "s[n]: index n 데이터 출력\\\n",
    "s[a:b]: index a ~ b-1 까지 데이터 출력\n",
    "\n",
    "비교 연산자를 이용해, 특정 데이터의 존재 여부 확인\\\n",
    "s == Value: 동일한 Value 칸에 True\\\n",
    "s[s==Value]: 동일한 Value가 존재하는 Case 출력\n",
    "\n",
    "Series의 값 정렬\\\n",
    "s.sort_values(): Value 기준으로 오름차순 정렬 (내림차순은 ascending=False 추가)\\\n",
    "s.sort_index(): Index 기준으로 오름차순 정렬 (내림차순은 ascending=False 추가)\n",
    "\n",
    "Series 값의 수 집계\\\n",
    "s.value_counts(): Series의 unique한 값의 수 집계\n"
   ]
  },
  {
   "cell_type": "markdown",
   "metadata": {},
   "source": [
    "- DataFrame\n",
    "\n",
    "DataFrame의 기본 구성요소: Index, Columns, Value\\\n",
    "인덱스가 같은 하나 이상의 Series가 모여진 2차원 Matrix 형태의 데이터\n",
    "\n",
    "DataFrame 데이터 형성\\\n",
    "pd.DataFrame(data=, index=, columns=, dtype=, copy=)\\\n",
    "data= DataFrame을 생성할 데이터\\\n",
    "index= index에 대한 정보, 미입력시 0부터 순차부여\\\n",
    "columns= column에 대한 이름값, 미입력시 0부터 순차부여\\\n",
    "dtype: 각 column의 데이터 타입 명시, 미입력시 자체적 판단\\\n",
    "copy: 원본 데이터 복사 여부 결정 - True = 입력 데이터를 복사(원본 데이터 보호) / False = 원본 데이터를 참조(원본 데이터 변경 가능)\n",
    "\n",
    "Column 중 하나를 Index로 바꾸기\\\n",
    "df = pd.DataFrame(lst, columns=['이름', '학번', '전공', '복수전공', '역할'])\\\n",
    "df = df.set_index('이름') -> '이름' 변수를 Index로 적용\n",
    "\n",
    "리스트로 DataFrame 만들기\\\n",
    "lst = [['민지', 15, '커뮤', 'AI', '회장'], ['다니엘', 16, '경영', '심리', '교육팀장'],\\\n",
    "       ['하니', 17, '경영', '빅사', '교육팀원'], ['해린', 19, '경영', '빅사', '교육팀원'],\\\n",
    "       ['혜인', 16, '경제', '빅사', '교육팀원']]\\\n",
    "df = pd.DataFrame(lst, columns=['이름', '학번', '전공', '복수전공', '역할']) -> Column 별 변수명 여기서 지정\n",
    "\n",
    "사전으로 DataFrame 만들기\\\n",
    "dic = {'이름': ['민지', '다니엘', '하니', '해린', '혜인'],\\\n",
    "    '학번': [15, 16, 17, 19, 16],\\\n",
    "    '전공': ['커뮤', '경영', '경영', '경영', '경제'],\\\n",
    "    '복수전공': ['AI', '심리', '빅사', '빅사', '빅사'],\\\n",
    "    '역할': ['회장', '교육팀장', '교육팀원', '교육팀원', '교육팀원']}\\\n",
    "df2 = pd.DataFrame(dic) --> Column 별 변수명 지정 X (Key=Column / Value=Value)\n",
    "\n",
    "DataFrame Column별 데이터 타입 확인\\\n",
    "df.dtypes  --- #()없음"
   ]
  },
  {
   "cell_type": "markdown",
   "metadata": {},
   "source": [
    "- DataFrame 접근\n",
    "\n",
    "1. .head(n)\\\n",
    "위에서부터 n개 만큼의 데이터 출력 (기본 5개)\n",
    "  \n",
    "2. .tail(n)\\\n",
    "아래에서부터 n개 만큼의 데이터 출력 (기본 5개)\n",
    "  \n",
    "3. .loc['행명','열명']\\\n",
    "행명, 열명으로 접근하기\n",
    "\n",
    "\n",
    "df.loc[\"row\"]: 행명\\\n",
    "df.loc[[\"row3\", \"row4\", \"row5\"]]: 행명의 리스트\\\n",
    "df[\"row3\" : \"row5\"]: 행명 슬라이싱\\\n",
    "df.loc[ : , \"col1\"]: 열명\\\n",
    "df.loc[ : , [\"col3\", \"col4\", \"col5\"] or df[[\"col3\", \"col4\", \"col5\"]]: 열명의 리스트\\\n",
    "df.loc[ : , [\"col3\" : \"col5\"]: 열명 슬라이싱\n",
    "\n",
    "5. .iloc[행index,열index]\\\n",
    "행/열의 index로 접근하기\n",
    "\n",
    "df.iloc[1]: 행 위치\\\n",
    "df.iloc[[1,2,3]]: 행 위치의 리스트\\\n",
    "df.iloc[2:4] or df[2:4]: 행 위치 슬라이싱\\\n",
    "df.iloc[:,3]: 열 위치\\\n",
    "df.iloc[:,[3,1,5]]: 열 위치의 리스트\\\n",
    "df.iloc[:,3:5]: 열 위치 슬라이싱"
   ]
  },
  {
   "cell_type": "markdown",
   "metadata": {},
   "source": [
    "- DataFrame 수정/추가/삭제\n",
    "\n",
    "1. 복사\\\n",
    "df.copy()\n",
    "\n",
    "2. 값 1개 수정\\\n",
    "df.loc['행명','열명']=수정할 값\\\n",
    "df.iloc[행index,열index]=수정할 값\n",
    "\n",
    "3. 한 행 수정\\\n",
    "df.loc['행명']=수정할 값\\\n",
    "df.iloc[행index]=수정할 값\n",
    "\n",
    "4. 여러 행 수정 \\\n",
    "df.loc['행명1','행명2']=수정할 값\\\n",
    "df.iloc[행index1,행index2]=수정할 값\n",
    "\n",
    "5. 한 열 수정 \\\n",
    "df.loc[:,'열명']=수정할 값\\\n",
    "df.iloc[:,열index]=수정할 값\n",
    "\n",
    "6. 여러 열 수정 \\\n",
    "df.loc[:,['열명1','열명2']]=수정할 값\\\n",
    "df.iloc[:,[열index1,열index2]]=수정할 값\n",
    "\n",
    "7. 행 추가\\\n",
    "df.loc['없던 행명']=추가할 값\n",
    "\n",
    "8. 열 추가\\\n",
    "df.loc[:,'없던 열명']=추가할 값\n",
    "\n",
    "9. 행 삭제\\\n",
    "df.drop(특정 값,axis=0, inplace=True) # inplace=True -> 기존 df에 영향 X \n",
    "\n",
    "10. 열 삭제\\\n",
    "df.drop(특정 값,axis=1, inplace=True)\n",
    "del df['열명']"
   ]
  },
  {
   "cell_type": "code",
   "execution_count": null,
   "metadata": {},
   "outputs": [],
   "source": []
  }
 ],
 "metadata": {
  "hide_input": false,
  "kernelspec": {
   "display_name": "Python 3 (ipykernel)",
   "language": "python",
   "name": "python3"
  },
  "language_info": {
   "codemirror_mode": {
    "name": "ipython",
    "version": 3
   },
   "file_extension": ".py",
   "mimetype": "text/x-python",
   "name": "python",
   "nbconvert_exporter": "python",
   "pygments_lexer": "ipython3",
   "version": "3.12.7"
  },
  "toc": {
   "base_numbering": 1,
   "nav_menu": {},
   "number_sections": true,
   "sideBar": true,
   "skip_h1_title": false,
   "title_cell": "Table of Contents",
   "title_sidebar": "Contents",
   "toc_cell": false,
   "toc_position": {
    "height": "calc(100% - 180px)",
    "left": "10px",
    "top": "150px",
    "width": "263.503px"
   },
   "toc_section_display": true,
   "toc_window_display": true
  },
  "varInspector": {
   "cols": {
    "lenName": 16,
    "lenType": 16,
    "lenVar": 40
   },
   "kernels_config": {
    "python": {
     "delete_cmd_postfix": "",
     "delete_cmd_prefix": "del ",
     "library": "var_list.py",
     "varRefreshCmd": "print(var_dic_list())"
    },
    "r": {
     "delete_cmd_postfix": ") ",
     "delete_cmd_prefix": "rm(",
     "library": "var_list.r",
     "varRefreshCmd": "cat(var_dic_list()) "
    }
   },
   "types_to_exclude": [
    "module",
    "function",
    "builtin_function_or_method",
    "instance",
    "_Feature"
   ],
   "window_display": false
  }
 },
 "nbformat": 4,
 "nbformat_minor": 4
}
