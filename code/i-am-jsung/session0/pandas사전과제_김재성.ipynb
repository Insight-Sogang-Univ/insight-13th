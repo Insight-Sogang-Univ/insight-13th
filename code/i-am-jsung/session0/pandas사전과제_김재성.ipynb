{
 "cells": [
  {
   "cell_type": "markdown",
   "id": "760fc351-f1c6-4602-8ed4-4697fb97f4d5",
   "metadata": {},
   "source": [
    "# 판다스"
   ]
  },
  {
   "cell_type": "markdown",
   "id": "9e558d55-22dc-4571-992f-dff8fc705ed0",
   "metadata": {},
   "source": [
    "pandas 데이터 분석 특화 파이썬 라이브러리, numpy의 확장판. 구조화된 데이터 처리 기능 보유  \n",
    "```\n",
    "import pandas as pd\n",
    "df = pd.read_csv('파일경로')\n",
    "# read_excel(), read_json(), read_html(), read_xml(), read_sql()도 가능\n",
    "가로 열 column, 세로 행 index"
   ]
  },
  {
   "cell_type": "markdown",
   "id": "f4e391e5-5f2e-45fe-8319-c4cff6e7557e",
   "metadata": {},
   "source": [
    "### series"
   ]
  },
  {
   "cell_type": "markdown",
   "id": "7a2848cc-1517-4619-8411-caf889aa2146",
   "metadata": {},
   "source": [
    "값과 인덱스로 구성된 1차원 자료구조  \n",
    "- 데이터 타입이 모두 같아야 함\n",
    "- 별도의 레이블 지정 X 시 0부터 시작\n"
   ]
  },
  {
   "cell_type": "code",
   "execution_count": null,
   "id": "260807d6-f0a3-4848-ab2e-87b1eaf71285",
   "metadata": {},
   "outputs": [],
   "source": [
    "series= ['LG', '애플', '삼성', 'ASUS', '삼성']\n",
    "sr = pd.Series(series)\n",
    "#인덱스 직접 지정 시\n",
    "index = [1,2,4,3,5,6]\n",
    "sr = pd.Series(series,index = index)"
   ]
  },
  {
   "cell_type": "markdown",
   "id": "1cdc4009-7a61-4390-a8d8-724bfe42605e",
   "metadata": {},
   "source": [
    "### DataFrame"
   ]
  },
  {
   "cell_type": "markdown",
   "id": "0ec0f19e-bd2e-4159-b88f-88328176b368",
   "metadata": {},
   "source": [
    "행과 열로 이루어지 2차원 배열 구조  \n",
    "시리즈와 달리 컬럼 간의 데이터타입은 달라도 무방  \n",
    "\n",
    "* 데이터 프레임 만드는 법\n",
    "  - 딕셔너리 생성\n",
    "  - 데이터 프레임 구성(인덱스, 컬럼 직접 지정 가능)\n",
    "\n",
    "* 데이터 확인하기\n",
    "=> 데이터의 일부를 확인하거나 전체적인 경향을 볼 수 있는 함수들을 통해 데이터를 이해해야 됨\n",
    "\n",
    "< 데이터 분석 시 가장 먼저 해야 할 작업>\n",
    "  * 데이터 프레임의 앞, 뒤 일부만 보기 ~ df.head(n) / .tail(n)\n",
    "  * 데이터 정보 확인\n",
    "    - (행, 열) 개수 .shape() / 열들의 데이터타입 반환 .dtypes / 수치형 열들의 기본적인 통계값 반환 .describe()\n",
    "    - df[열 이름].unique() 특정 열에 포함된 값을들 종류별로 1개씩만 반환\n",
    "    - df.isnull() 결측치 여부 / df.info() 여러 정보 종합 반환\n",
    "    - df.count(): 결측치의 개수를 제외한 데이터 행 수 반환. / df[열 이름].value_counts() 특정 열에 포함된 값들의 빈도수 세어 반환"
   ]
  },
  {
   "cell_type": "markdown",
   "id": "4851bc8d-8d02-4c0d-b4c1-ecfbbf0d1f1e",
   "metadata": {},
   "source": [
    "## 데이터 추출"
   ]
  },
  {
   "cell_type": "markdown",
   "id": "5a46c9ac-6807-4f4e-afa9-b9566e6e2869",
   "metadata": {},
   "source": [
    "- 인덱싱 & 슬라이싱  \n",
    "- 행단위 데이터 추출 loc / iloc\n",
    "loc: 행, 열 이름으로\n",
    "iloc: 정수형 인덱스\n",
    "- 열단위 데이터 추출: 컬럼 ~ df[열이름] (시리즈 반환) df[[열이름]] (하나의 열 + 데이터프레임 자료형) df[열][행]\n",
    "- 불리언 인덱싱: 특정 조건에 만족하는 데이터 추출 시\n",
    "```\n",
    "df[(df['노트북 브랜드'] == '애플') & (df['노트북 무게(kg)'] < 1.6)]\n",
    "df.loc[df['노트북 화면 크기(인치)'] >= 14, '노트북 무게(kg)']\n",
    "```\n",
    "인덱스 설정 가능. 리셋, 재배열 가능"
   ]
  },
  {
   "cell_type": "markdown",
   "id": "1d11602f-07db-41f5-bf5d-e6833a7e12d8",
   "metadata": {},
   "source": [
    "### 데이터 조작"
   ]
  },
  {
   "cell_type": "markdown",
   "id": "7ef63041-5e47-4ae9-9c21-54684b0a5cd1",
   "metadata": {},
   "source": [
    "추가 df['새로운 열 이름'] = 리스트 \n",
    "삭제 df.drop(labels, axis) ** inplace = TRUE 옵션\n",
    "\n",
    "정렬 df.sort_index, df.sort_values[\"열 이름\"]\n",
    "\n",
    "변환 특정 컬럼 내 데이터의 자료형 변환\n",
    "\n",
    "df[열 이름] = df[열 이름].astype(바꿀 자료형)  \n",
    "df.replace(바꾸고 싶은 값, 바꿀 값)\n",
    "\n",
    "병합 \n",
    "concat 두 데이터 프레임 이어 붙임. df = pd.concat([df1,df2], axis = 0 or 1 (행방향, 열방향 결합))\n",
    "\n",
    "merge 공통 항목을 기준으로 병합 df = pd.merge(df1, df2, how = 'inner', on = '사용자 이름') \n",
    "\n",
    "on 병합, 기준열. how = 'LEFT' ~ LEFT/RIGHT/INNER(교집합) outer(전체)"
   ]
  },
  {
   "cell_type": "markdown",
   "id": "121729ef-f734-454b-946b-63398fab8d69",
   "metadata": {},
   "source": [
    "### 집계함수"
   ]
  },
  {
   "cell_type": "markdown",
   "id": "8da8ef44-2fe5-41ee-bb60-023c2d31b16c",
   "metadata": {},
   "source": [
    "여러 행에서 컬럼 하나의 결괏값 ( 평균, 표준편차, 합계, 중앙값, 최대 최소 값)\n",
    "\n",
    "* 그룹화 : 일부 행을 대상을 집계할 때. \n",
    "groupby: 메소드는 특정 기준으로 그룹으로 묶고, 연산 처리. 집계 함수와 함계 사용\n",
    "\n",
    "df.groupby('column명1')[’column명2'].집계함수"
   ]
  },
  {
   "cell_type": "code",
   "execution_count": null,
   "id": "deeaf1ca-dd7b-4021-821f-ae18866089d7",
   "metadata": {},
   "outputs": [],
   "source": []
  }
 ],
 "metadata": {
  "kernelspec": {
   "display_name": "Python 3 (ipykernel)",
   "language": "python",
   "name": "python3"
  },
  "language_info": {
   "codemirror_mode": {
    "name": "ipython",
    "version": 3
   },
   "file_extension": ".py",
   "mimetype": "text/x-python",
   "name": "python",
   "nbconvert_exporter": "python",
   "pygments_lexer": "ipython3",
   "version": "3.9.7"
  }
 },
 "nbformat": 4,
 "nbformat_minor": 5
}
