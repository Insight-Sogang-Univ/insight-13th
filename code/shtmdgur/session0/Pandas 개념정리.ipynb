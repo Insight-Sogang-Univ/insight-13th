{
 "cells": [
  {
   "cell_type": "markdown",
   "id": "cf2e6023-5589-46aa-908d-ecf43ec8b6dc",
   "metadata": {},
   "source": [
    "Pandas는 두 가지 주요 데이터 구조를 제공한다: Series와 DataFrame.\n",
    "\n",
    "Series: 1차원 배열로, 인덱스(index)와 값(value)으로 구성된다.\n",
    "DataFrame: 2차원 테이블 형태의 데이터 구조로, 여러 개의 Series가 모여 만들어진다.\n",
    "\n",
    "아래와 같이 행/열에 접근이 가능하다\n",
    "\n",
    "df.loc['행명', '열명']\n",
    "df.iloc['행번호', '열번호']\n",
    " \n",
    "여러 인덱스에 접근할 때에는 데이터프레임 type 으로 출력한다\n",
    "인덱싱/슬라이싱이 가능하다\n",
    "\n",
    "아래와 같이 수정/추가/삭제가 가능하다\n",
    "\n",
    "df_new.loc['민지'] = [21, '아텍', '컴공', '인싸이더']\n",
    "df_new.iloc[[0, 1], [2, 3]] = \"#\"\n",
    "\n",
    "df_new2.loc['아이유'] = [19, '수학', '-', '부회장']\n",
    "df_new2['기수'] = '100기'\n",
    "\n",
    "df_new2.drop('아이유', axis = 0, inplace = True)\n",
    "del df_new2['역할']"
   ]
  }
 ],
 "metadata": {
  "kernelspec": {
   "display_name": "Python 3 (ipykernel)",
   "language": "python",
   "name": "python3"
  },
  "language_info": {
   "codemirror_mode": {
    "name": "ipython",
    "version": 3
   },
   "file_extension": ".py",
   "mimetype": "text/x-python",
   "name": "python",
   "nbconvert_exporter": "python",
   "pygments_lexer": "ipython3",
   "version": "3.12.3"
  }
 },
 "nbformat": 4,
 "nbformat_minor": 5
}
