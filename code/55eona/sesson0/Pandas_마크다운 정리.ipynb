{
 "cells": [
  {
   "cell_type": "markdown",
   "id": "16fdfbd2-b020-47ce-8600-52c94b3d9177",
   "metadata": {},
   "source": [
    "## 1. Pandas란\n",
    "- 데이터 분석에 특화된 파이썬 라이브러리\n",
    "- 행과 열로 구성\n",
    "- Numpy의 확장판\n",
    "- 실행 예시\n",
    "  ```python\n",
    "  import pandas as pd\n",
    "  df = pd.read_csv('파일 경로')\n",
    "  ```"
   ]
  },
  {
   "cell_type": "markdown",
   "id": "f2d7daf1-3c6a-4092-bae1-7c05a3283aa5",
   "metadata": {
    "jp-MarkdownHeadingCollapsed": true
   },
   "source": [
    "## 2. DataFrame의 구성\n",
    "\n",
    "#### 2.1 Index와 Column\n",
    "- 데이터의 위치 표현\n",
    "- index(행): 보통 데이터의 순서 의미\n",
    "- column(열): 보통 데이터의 카테고리 의미\n",
    "\n",
    "#### 2.2 Series\n",
    "- 값(value)과 인덱스(index)로 구성된 1차원 자료구조\n",
    "- 시리즈를 구성하는 값들의 데이터 타입은 모두 같아야 함\n",
    "- 인덱스 레이블을 지정하지 않으면, 0부터 시작하는 디폴트 정수형 인덱스 사용\n",
    "\n",
    "#### 2.3 DataFrame\n",
    "- 행과 열로 구성된 2차원 배열 구조\n",
    "- 컬럽 단위로는 값들의 데이터 타입이 같야 함.\n",
    "\n",
    "\n",
    "#### 2.4 데이터 확인하기\n",
    "- `df.head(n)`: 위에서부터 n개의 행 반환\n",
    "- `df.tail(n)`: 아래서부터 n개의 행 반환\n",
    "---\n",
    "- `df.shape`: (행개수, 열개수) 반환\n",
    "- `df.dtypes`: 열들의 데이터타입 반환\n",
    "- `df.describe()`: 수치형 열들의 통계값 반환\n",
    "- `df[열 이름].unique()`: 특정 열에 포함된 값들 중복없이 1개씩 반환\n",
    "- `df.isnull()`: 결측치 여부 반환\n",
    "- `df.info()`: 여러 정보 종합적으로 반환\n",
    "---\n",
    "- `df.count()`: 결측치를 제외한 데이터의 행 수 반환\n",
    "- `df[열 이름].value_counts()`: 특정 열에 포함된 값들의 빈도수 반환"
   ]
  },
  {
   "cell_type": "markdown",
   "id": "0743e81d-2977-4ba5-9794-1a6ce204b1ed",
   "metadata": {},
   "source": [
    "## 3. 데이터 추출\n",
    "\n",
    "#### 3.1 인덱싱(Indexing) & 슬라이싱(Slicing)\n",
    "- 인덱싱: 단순 지정\n",
    "- 슬라이싱: 범위 지정 / `df[start:end]`\n",
    "\n",
    "#### 3.2 행단위 데이터 추출: loc & iloc\n",
    "**loc**\n",
    "- 기본적으로 행단위로 데이터 추출\n",
    "- `df.loc['행이름']`: 행 단위 추출\n",
    "- `df.loc['행이름', '열이름']`: 값 단위 추출\n",
    "- `df.loc[:, '열이름']`: 열 단위 추출\n",
    "\n",
    "**iloc**\n",
    "- 행과 열의 이름이 아니라, 정수형 인덱스 번호 사용\n",
    "- `df.iloc[행순서, 열순서]`\n",
    "\n",
    "#### 3.3 열단위 데이터 추출: 컬럼명\n",
    "- `df['열이름']`\n",
    "- `df[['열이름1', '열이름2'..]]`\n",
    "- `df[['열이름']]`\n",
    "- `df['열이름]['행이름']` \n",
    "\n",
    "#### 3.4 불리언(Boolean) 인덱싱\n",
    "- 조건문에 대해 True 값에 해당하는 부분만 출력\n",
    "- loc에서도 불리언 인덱싱 가능, 하지만 iloc은 불가능\n",
    "- `df[조건문]`\n",
    "- `df[(조건문1) 논리연산자 (조건문2)]`\n",
    "- `df.loc[조건문, 열이름]`\n",
    "\n",
    "\n",
    "#### 3.5 인덱스 설정\n",
    "- `df.set_index('열이름')`: 기존 열 중 하나를 인덱스로 설정\n",
    "- `df.reset_index()`: 인덱스를 리셋하고 기존 인덱스를 열에 추가\n",
    "- `df.redindex(인덱스 배열)`: 인덱스 재배열에 따라 기존 행데이터도 인덱스를 따라간다"
   ]
  },
  {
   "cell_type": "markdown",
   "id": "df814a25-5755-47a2-bf4c-bd7571c3bc22",
   "metadata": {},
   "source": [
    "## 4. 데이터 조작\n",
    "\n",
    "#### 4.1 데이터 추가, 삭제\n",
    "- `df['새로운 열이름'] = 리스트`: 추가\n",
    "- `df.drop('삭제할 열이름', axis)`: 삭제\n",
    "\n",
    "#### 4.2 데이터 정렬\n",
    "- `df.sort_index`: 인덱스를 기준으로 정렬\n",
    "- `df.sort_values['열이름']`: 특정 열의 값을 기준으로 정렬\n",
    "\n",
    "#### 4.3 데이터 변환\n",
    "- `df['열이름'] = df['열이름'].astype('바꿀 자료형')`: 자료형 변환\n",
    "- `df.replace(바꾸고 싶은 값, 바꿀 값)`: 데이터 값 변환\n",
    "\n",
    "#### 4.4 데이터프레임 병합\n",
    "**concat**\n",
    "  - 단순히 두 데이터프레임을 이어붙임\n",
    "  - `df = pd.concat([df1, df2], axis = 0)`: 행방향 결합\n",
    "  - `df = pd.concat([df1, df2], axis = 1)`: 열방향 결합\n",
    " \n",
    "**merge**\n",
    "  - 공통 항목을 기준으로 병합\n",
    "  - `df = pd.merge(df1, df2, how='inner', on='기준이 되는 열이름')`: 교집합(and) 연산\n",
    "  - `df = pd.merge(df1, df2, how='outer', on='기준이 되는 열이름')`: 합집합(or) 연\n"
   ]
  },
  {
   "cell_type": "markdown",
   "id": "2f33ea65-4169-471f-9219-a5877d8710b3",
   "metadata": {},
   "source": [
    "## 5. 집계함수\n",
    "\n",
    "#### 5.1 집계함수란\n",
    "- 여러 행으로부터 하나의 결괏값 반환\n",
    "- 집계함수:\n",
    "    - `df['컬럼명'].mean()`: 평균\n",
    "    - `df['컬럼명'].median()`: 중앙값\n",
    "    - `df['컬럼명'].std()`: 표준편차\n",
    "    - `df['컬럼명'].sum()`: 합계\n",
    "    - `df['컬럼명'].max()`: 최댓값\n",
    "    - `df['컬럼명'].min()`: 최솟값\n",
    "\n",
    "- axis=0: 행방향 연산(↓) / axis=1: 열방향 연산(→)\n",
    "\n",
    "#### 5.2 그룹화(Grouping)\n",
    "- 일부 행을 대상으로 집계\n",
    "- `df.groupby('컬럼명1')['컬럼명2'].집계함수`"
   ]
  },
  {
   "cell_type": "code",
   "execution_count": null,
   "id": "8dba262c-a75b-46e3-88e3-a2b5372f1003",
   "metadata": {},
   "outputs": [],
   "source": []
  }
 ],
 "metadata": {
  "kernelspec": {
   "display_name": "Python 3 (ipykernel)",
   "language": "python",
   "name": "python3"
  },
  "language_info": {
   "codemirror_mode": {
    "name": "ipython",
    "version": 3
   },
   "file_extension": ".py",
   "mimetype": "text/x-python",
   "name": "python",
   "nbconvert_exporter": "python",
   "pygments_lexer": "ipython3",
   "version": "3.12.4"
  }
 },
 "nbformat": 4,
 "nbformat_minor": 5
}
