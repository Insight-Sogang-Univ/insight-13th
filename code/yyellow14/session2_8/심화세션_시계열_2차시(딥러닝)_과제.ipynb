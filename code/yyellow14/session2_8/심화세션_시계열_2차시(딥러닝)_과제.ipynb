{
 "cells": [
  {
   "cell_type": "markdown",
   "metadata": {},
   "source": [
    "# ⏰ 시계열 분석 (Time-series Analysis) - 딥러닝 과제"
   ]
  },
  {
   "cell_type": "code",
   "execution_count": 1,
   "metadata": {},
   "outputs": [],
   "source": [
    "%matplotlib inline\n",
    "\n",
    "# 시각화 기본 설정\n",
    "import matplotlib.pyplot as plt\n",
    "plt.rcParams['figure.figsize'] = (6, 3)\n",
    "\n",
    "# 데이터 분석에 필요한 라이브러리\n",
    "import pandas as pd\n",
    "import numpy as np\n",
    "\n",
    "# PyTorch 관련 라이브러리\n",
    "import torch\n",
    "import torch.nn as nn\n",
    "\n",
    "# 모델 학습 결과를 평가할 때 쓸 통계 라이브러리\n",
    "from scipy.stats import pearsonr, spearmanr"
   ]
  },
  {
   "cell_type": "code",
   "execution_count": 2,
   "metadata": {},
   "outputs": [],
   "source": [
    "import warnings\n",
    "warnings.filterwarnings(\"ignore\")\n",
    "\n",
    "import os\n",
    "import platform\n",
    "\n",
    "# 운영체제에 따라 폰트 설정\n",
    "if platform.system() == 'Windows':\n",
    "    plt.rc('font', family='Malgun Gothic')  # Windows 전용 폰트\n",
    "elif platform.system() == 'Darwin':\n",
    "    plt.rc('font', family='AppleGothic')  # macOS 전용 폰트\n",
    "else:\n",
    "    plt.rc('font', family='NanumGothic')  # 리눅스 또는 기타 환경\n",
    "plt.rc('axes', unicode_minus=False) # 마이너스 기호 깨짐 방지"
   ]
  },
  {
   "cell_type": "markdown",
   "metadata": {},
   "source": [
    "## 파라미터 세팅"
   ]
  },
  {
   "cell_type": "markdown",
   "metadata": {},
   "source": [
    "모델 구조, 학습 방식, 데이터 분할 등에 필요한 설정값을 정의합니다."
   ]
  },
  {
   "cell_type": "code",
   "execution_count": 3,
   "metadata": {},
   "outputs": [],
   "source": [
    "# 데이터셋 분할 비율 (학습 / 검증 / 테스트)\n",
    "DATA_SEGMENTS = { 'tr': 0.6, 'va': 0.2, 'tst': 0.2 }\n",
    "\n",
    "# 학습 조기 종료에 사용할 기준\n",
    "THRESHOLD_EPOCHS = 2  # 최소 반복 횟수\n",
    "COR_THRESHOLD = 0.005  # 상관계수 기준 성능 향상 여부 판단\n",
    "\n",
    "# 입력 시계열 구간 설정\n",
    "WIN = 24*7      # 입력 시계열 길이 (하루 단위 전력 사용량)\n",
    "H = 1       # 예측할 시계열 길이\n",
    "\n",
    "# 모델 구조 설정\n",
    "MODEL = 'rnn_model'\n",
    "RNN_UNITS = 128  # RNN의 은닉 노드 수\n",
    "SEASONAL_PERIOD = 24  # 하루 주기성 반영을 위한 파라미터\n",
    "\n",
    "# 학습 관련 설정\n",
    "GPU = 0\n",
    "BATCH_N = 1024\n",
    "LR = 0.0001\n",
    "DROP = 0.2\n",
    "N_EPOCHS = 30"
   ]
  },
  {
   "cell_type": "markdown",
   "metadata": {},
   "source": [
    "## 데이터 불러오기"
   ]
  },
  {
   "cell_type": "code",
   "execution_count": 5,
   "metadata": {},
   "outputs": [
    {
     "data": {
      "application/vnd.microsoft.datawrangler.viewer.v0+json": {
       "columns": [
        {
         "name": "index",
         "rawType": "int64",
         "type": "integer"
        },
        {
         "name": "V1",
         "rawType": "float64",
         "type": "float"
        },
        {
         "name": "V2",
         "rawType": "float64",
         "type": "float"
        },
        {
         "name": "V3",
         "rawType": "float64",
         "type": "float"
        },
        {
         "name": "V4",
         "rawType": "float64",
         "type": "float"
        },
        {
         "name": "V5",
         "rawType": "float64",
         "type": "float"
        },
        {
         "name": "V6",
         "rawType": "float64",
         "type": "float"
        },
        {
         "name": "V7",
         "rawType": "float64",
         "type": "float"
        },
        {
         "name": "V8",
         "rawType": "float64",
         "type": "float"
        },
        {
         "name": "V9",
         "rawType": "float64",
         "type": "float"
        },
        {
         "name": "V10",
         "rawType": "float64",
         "type": "float"
        },
        {
         "name": "V11",
         "rawType": "float64",
         "type": "float"
        },
        {
         "name": "V12",
         "rawType": "float64",
         "type": "float"
        },
        {
         "name": "V13",
         "rawType": "float64",
         "type": "float"
        },
        {
         "name": "V14",
         "rawType": "float64",
         "type": "float"
        },
        {
         "name": "V15",
         "rawType": "float64",
         "type": "float"
        },
        {
         "name": "V16",
         "rawType": "float64",
         "type": "float"
        },
        {
         "name": "V17",
         "rawType": "float64",
         "type": "float"
        },
        {
         "name": "V18",
         "rawType": "float64",
         "type": "float"
        },
        {
         "name": "V19",
         "rawType": "float64",
         "type": "float"
        },
        {
         "name": "V20",
         "rawType": "float64",
         "type": "float"
        },
        {
         "name": "V21",
         "rawType": "float64",
         "type": "float"
        },
        {
         "name": "V22",
         "rawType": "float64",
         "type": "float"
        },
        {
         "name": "V23",
         "rawType": "float64",
         "type": "float"
        },
        {
         "name": "V24",
         "rawType": "float64",
         "type": "float"
        },
        {
         "name": "V25",
         "rawType": "float64",
         "type": "float"
        },
        {
         "name": "V26",
         "rawType": "float64",
         "type": "float"
        },
        {
         "name": "V27",
         "rawType": "float64",
         "type": "float"
        },
        {
         "name": "V28",
         "rawType": "float64",
         "type": "float"
        },
        {
         "name": "V29",
         "rawType": "float64",
         "type": "float"
        },
        {
         "name": "V30",
         "rawType": "float64",
         "type": "float"
        },
        {
         "name": "V31",
         "rawType": "float64",
         "type": "float"
        },
        {
         "name": "V32",
         "rawType": "float64",
         "type": "float"
        },
        {
         "name": "V33",
         "rawType": "float64",
         "type": "float"
        },
        {
         "name": "V34",
         "rawType": "float64",
         "type": "float"
        },
        {
         "name": "V35",
         "rawType": "float64",
         "type": "float"
        },
        {
         "name": "V36",
         "rawType": "float64",
         "type": "float"
        },
        {
         "name": "V37",
         "rawType": "float64",
         "type": "float"
        },
        {
         "name": "V38",
         "rawType": "float64",
         "type": "float"
        },
        {
         "name": "V39",
         "rawType": "float64",
         "type": "float"
        },
        {
         "name": "V40",
         "rawType": "float64",
         "type": "float"
        },
        {
         "name": "V41",
         "rawType": "float64",
         "type": "float"
        },
        {
         "name": "V42",
         "rawType": "float64",
         "type": "float"
        },
        {
         "name": "V43",
         "rawType": "float64",
         "type": "float"
        },
        {
         "name": "V44",
         "rawType": "float64",
         "type": "float"
        },
        {
         "name": "V45",
         "rawType": "float64",
         "type": "float"
        },
        {
         "name": "V46",
         "rawType": "float64",
         "type": "float"
        },
        {
         "name": "V47",
         "rawType": "float64",
         "type": "float"
        },
        {
         "name": "V48",
         "rawType": "float64",
         "type": "float"
        },
        {
         "name": "V49",
         "rawType": "float64",
         "type": "float"
        },
        {
         "name": "V50",
         "rawType": "float64",
         "type": "float"
        },
        {
         "name": "V51",
         "rawType": "float64",
         "type": "float"
        },
        {
         "name": "V52",
         "rawType": "float64",
         "type": "float"
        },
        {
         "name": "V53",
         "rawType": "float64",
         "type": "float"
        },
        {
         "name": "V54",
         "rawType": "float64",
         "type": "float"
        },
        {
         "name": "V55",
         "rawType": "float64",
         "type": "float"
        },
        {
         "name": "V56",
         "rawType": "float64",
         "type": "float"
        },
        {
         "name": "V57",
         "rawType": "float64",
         "type": "float"
        },
        {
         "name": "V58",
         "rawType": "float64",
         "type": "float"
        },
        {
         "name": "V59",
         "rawType": "float64",
         "type": "float"
        },
        {
         "name": "V60",
         "rawType": "float64",
         "type": "float"
        },
        {
         "name": "V61",
         "rawType": "float64",
         "type": "float"
        },
        {
         "name": "V62",
         "rawType": "float64",
         "type": "float"
        },
        {
         "name": "V63",
         "rawType": "float64",
         "type": "float"
        },
        {
         "name": "V64",
         "rawType": "float64",
         "type": "float"
        },
        {
         "name": "V65",
         "rawType": "float64",
         "type": "float"
        },
        {
         "name": "V66",
         "rawType": "float64",
         "type": "float"
        },
        {
         "name": "V67",
         "rawType": "float64",
         "type": "float"
        },
        {
         "name": "V68",
         "rawType": "float64",
         "type": "float"
        },
        {
         "name": "V69",
         "rawType": "float64",
         "type": "float"
        },
        {
         "name": "V70",
         "rawType": "float64",
         "type": "float"
        },
        {
         "name": "V71",
         "rawType": "float64",
         "type": "float"
        },
        {
         "name": "V72",
         "rawType": "float64",
         "type": "float"
        },
        {
         "name": "V73",
         "rawType": "float64",
         "type": "float"
        },
        {
         "name": "V74",
         "rawType": "float64",
         "type": "float"
        },
        {
         "name": "V75",
         "rawType": "float64",
         "type": "float"
        },
        {
         "name": "V76",
         "rawType": "float64",
         "type": "float"
        },
        {
         "name": "V77",
         "rawType": "float64",
         "type": "float"
        },
        {
         "name": "V78",
         "rawType": "float64",
         "type": "float"
        },
        {
         "name": "V79",
         "rawType": "float64",
         "type": "float"
        },
        {
         "name": "V80",
         "rawType": "float64",
         "type": "float"
        },
        {
         "name": "V81",
         "rawType": "float64",
         "type": "float"
        },
        {
         "name": "V82",
         "rawType": "float64",
         "type": "float"
        },
        {
         "name": "V83",
         "rawType": "float64",
         "type": "float"
        },
        {
         "name": "V84",
         "rawType": "float64",
         "type": "float"
        },
        {
         "name": "V85",
         "rawType": "float64",
         "type": "float"
        },
        {
         "name": "V86",
         "rawType": "float64",
         "type": "float"
        },
        {
         "name": "V87",
         "rawType": "float64",
         "type": "float"
        },
        {
         "name": "V88",
         "rawType": "float64",
         "type": "float"
        },
        {
         "name": "V89",
         "rawType": "float64",
         "type": "float"
        },
        {
         "name": "V90",
         "rawType": "float64",
         "type": "float"
        },
        {
         "name": "V91",
         "rawType": "float64",
         "type": "float"
        },
        {
         "name": "V92",
         "rawType": "float64",
         "type": "float"
        },
        {
         "name": "V93",
         "rawType": "float64",
         "type": "float"
        },
        {
         "name": "V94",
         "rawType": "float64",
         "type": "float"
        },
        {
         "name": "V95",
         "rawType": "float64",
         "type": "float"
        },
        {
         "name": "V96",
         "rawType": "float64",
         "type": "float"
        },
        {
         "name": "V97",
         "rawType": "float64",
         "type": "float"
        },
        {
         "name": "V98",
         "rawType": "float64",
         "type": "float"
        },
        {
         "name": "V99",
         "rawType": "float64",
         "type": "float"
        },
        {
         "name": "V100",
         "rawType": "float64",
         "type": "float"
        },
        {
         "name": "V101",
         "rawType": "float64",
         "type": "float"
        },
        {
         "name": "V102",
         "rawType": "float64",
         "type": "float"
        },
        {
         "name": "V103",
         "rawType": "float64",
         "type": "float"
        },
        {
         "name": "V104",
         "rawType": "float64",
         "type": "float"
        },
        {
         "name": "V105",
         "rawType": "float64",
         "type": "float"
        },
        {
         "name": "V106",
         "rawType": "float64",
         "type": "float"
        },
        {
         "name": "V107",
         "rawType": "float64",
         "type": "float"
        },
        {
         "name": "V108",
         "rawType": "float64",
         "type": "float"
        },
        {
         "name": "V109",
         "rawType": "float64",
         "type": "float"
        },
        {
         "name": "V110",
         "rawType": "float64",
         "type": "float"
        },
        {
         "name": "V111",
         "rawType": "float64",
         "type": "float"
        },
        {
         "name": "V112",
         "rawType": "float64",
         "type": "float"
        },
        {
         "name": "V113",
         "rawType": "float64",
         "type": "float"
        },
        {
         "name": "V114",
         "rawType": "float64",
         "type": "float"
        },
        {
         "name": "V115",
         "rawType": "float64",
         "type": "float"
        },
        {
         "name": "V116",
         "rawType": "float64",
         "type": "float"
        },
        {
         "name": "V117",
         "rawType": "float64",
         "type": "float"
        },
        {
         "name": "V118",
         "rawType": "float64",
         "type": "float"
        },
        {
         "name": "V119",
         "rawType": "float64",
         "type": "float"
        },
        {
         "name": "V120",
         "rawType": "float64",
         "type": "float"
        },
        {
         "name": "V121",
         "rawType": "float64",
         "type": "float"
        },
        {
         "name": "V122",
         "rawType": "float64",
         "type": "float"
        },
        {
         "name": "V123",
         "rawType": "float64",
         "type": "float"
        },
        {
         "name": "V124",
         "rawType": "float64",
         "type": "float"
        },
        {
         "name": "V125",
         "rawType": "float64",
         "type": "float"
        },
        {
         "name": "V126",
         "rawType": "float64",
         "type": "float"
        },
        {
         "name": "V127",
         "rawType": "float64",
         "type": "float"
        },
        {
         "name": "V128",
         "rawType": "float64",
         "type": "float"
        },
        {
         "name": "V129",
         "rawType": "float64",
         "type": "float"
        },
        {
         "name": "V130",
         "rawType": "float64",
         "type": "float"
        },
        {
         "name": "V131",
         "rawType": "float64",
         "type": "float"
        },
        {
         "name": "V132",
         "rawType": "float64",
         "type": "float"
        },
        {
         "name": "V133",
         "rawType": "float64",
         "type": "float"
        },
        {
         "name": "V134",
         "rawType": "float64",
         "type": "float"
        },
        {
         "name": "V135",
         "rawType": "float64",
         "type": "float"
        },
        {
         "name": "V136",
         "rawType": "float64",
         "type": "float"
        },
        {
         "name": "V137",
         "rawType": "float64",
         "type": "float"
        },
        {
         "name": "V138",
         "rawType": "float64",
         "type": "float"
        },
        {
         "name": "V139",
         "rawType": "float64",
         "type": "float"
        },
        {
         "name": "V140",
         "rawType": "float64",
         "type": "float"
        },
        {
         "name": "V141",
         "rawType": "float64",
         "type": "float"
        },
        {
         "name": "V142",
         "rawType": "float64",
         "type": "float"
        },
        {
         "name": "V143",
         "rawType": "float64",
         "type": "float"
        },
        {
         "name": "V144",
         "rawType": "float64",
         "type": "float"
        },
        {
         "name": "V145",
         "rawType": "float64",
         "type": "float"
        },
        {
         "name": "V146",
         "rawType": "float64",
         "type": "float"
        },
        {
         "name": "V147",
         "rawType": "float64",
         "type": "float"
        },
        {
         "name": "V148",
         "rawType": "float64",
         "type": "float"
        },
        {
         "name": "V149",
         "rawType": "float64",
         "type": "float"
        },
        {
         "name": "V150",
         "rawType": "float64",
         "type": "float"
        },
        {
         "name": "V151",
         "rawType": "float64",
         "type": "float"
        },
        {
         "name": "V152",
         "rawType": "float64",
         "type": "float"
        },
        {
         "name": "V153",
         "rawType": "float64",
         "type": "float"
        },
        {
         "name": "V154",
         "rawType": "float64",
         "type": "float"
        },
        {
         "name": "V155",
         "rawType": "float64",
         "type": "float"
        },
        {
         "name": "V156",
         "rawType": "float64",
         "type": "float"
        },
        {
         "name": "V157",
         "rawType": "float64",
         "type": "float"
        },
        {
         "name": "V158",
         "rawType": "float64",
         "type": "float"
        },
        {
         "name": "V159",
         "rawType": "float64",
         "type": "float"
        },
        {
         "name": "V160",
         "rawType": "float64",
         "type": "float"
        },
        {
         "name": "V161",
         "rawType": "float64",
         "type": "float"
        },
        {
         "name": "V162",
         "rawType": "float64",
         "type": "float"
        },
        {
         "name": "V163",
         "rawType": "float64",
         "type": "float"
        },
        {
         "name": "V164",
         "rawType": "float64",
         "type": "float"
        },
        {
         "name": "V165",
         "rawType": "float64",
         "type": "float"
        },
        {
         "name": "V166",
         "rawType": "float64",
         "type": "float"
        },
        {
         "name": "V167",
         "rawType": "float64",
         "type": "float"
        },
        {
         "name": "V168",
         "rawType": "float64",
         "type": "float"
        },
        {
         "name": "V169",
         "rawType": "float64",
         "type": "float"
        },
        {
         "name": "V170",
         "rawType": "float64",
         "type": "float"
        },
        {
         "name": "V171",
         "rawType": "float64",
         "type": "float"
        },
        {
         "name": "V172",
         "rawType": "float64",
         "type": "float"
        },
        {
         "name": "V173",
         "rawType": "float64",
         "type": "float"
        },
        {
         "name": "V174",
         "rawType": "float64",
         "type": "float"
        },
        {
         "name": "V175",
         "rawType": "float64",
         "type": "float"
        },
        {
         "name": "V176",
         "rawType": "float64",
         "type": "float"
        },
        {
         "name": "V177",
         "rawType": "float64",
         "type": "float"
        },
        {
         "name": "V178",
         "rawType": "float64",
         "type": "float"
        },
        {
         "name": "V179",
         "rawType": "float64",
         "type": "float"
        },
        {
         "name": "V180",
         "rawType": "float64",
         "type": "float"
        },
        {
         "name": "V181",
         "rawType": "float64",
         "type": "float"
        },
        {
         "name": "V182",
         "rawType": "float64",
         "type": "float"
        },
        {
         "name": "V183",
         "rawType": "float64",
         "type": "float"
        },
        {
         "name": "V184",
         "rawType": "float64",
         "type": "float"
        },
        {
         "name": "V185",
         "rawType": "float64",
         "type": "float"
        },
        {
         "name": "V186",
         "rawType": "float64",
         "type": "float"
        },
        {
         "name": "V187",
         "rawType": "float64",
         "type": "float"
        },
        {
         "name": "V188",
         "rawType": "float64",
         "type": "float"
        },
        {
         "name": "V189",
         "rawType": "float64",
         "type": "float"
        },
        {
         "name": "V190",
         "rawType": "float64",
         "type": "float"
        },
        {
         "name": "V191",
         "rawType": "float64",
         "type": "float"
        },
        {
         "name": "V192",
         "rawType": "float64",
         "type": "float"
        },
        {
         "name": "V193",
         "rawType": "float64",
         "type": "float"
        },
        {
         "name": "V194",
         "rawType": "float64",
         "type": "float"
        },
        {
         "name": "V195",
         "rawType": "float64",
         "type": "float"
        },
        {
         "name": "V196",
         "rawType": "float64",
         "type": "float"
        },
        {
         "name": "V197",
         "rawType": "float64",
         "type": "float"
        },
        {
         "name": "V198",
         "rawType": "float64",
         "type": "float"
        },
        {
         "name": "V199",
         "rawType": "float64",
         "type": "float"
        },
        {
         "name": "V200",
         "rawType": "float64",
         "type": "float"
        },
        {
         "name": "V201",
         "rawType": "float64",
         "type": "float"
        },
        {
         "name": "V202",
         "rawType": "float64",
         "type": "float"
        },
        {
         "name": "V203",
         "rawType": "float64",
         "type": "float"
        },
        {
         "name": "V204",
         "rawType": "float64",
         "type": "float"
        },
        {
         "name": "V205",
         "rawType": "float64",
         "type": "float"
        },
        {
         "name": "V206",
         "rawType": "float64",
         "type": "float"
        },
        {
         "name": "V207",
         "rawType": "float64",
         "type": "float"
        },
        {
         "name": "V208",
         "rawType": "float64",
         "type": "float"
        },
        {
         "name": "V209",
         "rawType": "float64",
         "type": "float"
        },
        {
         "name": "V210",
         "rawType": "float64",
         "type": "float"
        },
        {
         "name": "V211",
         "rawType": "float64",
         "type": "float"
        },
        {
         "name": "V212",
         "rawType": "float64",
         "type": "float"
        },
        {
         "name": "V213",
         "rawType": "float64",
         "type": "float"
        },
        {
         "name": "V214",
         "rawType": "float64",
         "type": "float"
        },
        {
         "name": "V215",
         "rawType": "float64",
         "type": "float"
        },
        {
         "name": "V216",
         "rawType": "float64",
         "type": "float"
        },
        {
         "name": "V217",
         "rawType": "float64",
         "type": "float"
        },
        {
         "name": "V218",
         "rawType": "float64",
         "type": "float"
        },
        {
         "name": "V219",
         "rawType": "float64",
         "type": "float"
        },
        {
         "name": "V220",
         "rawType": "float64",
         "type": "float"
        },
        {
         "name": "V221",
         "rawType": "float64",
         "type": "float"
        },
        {
         "name": "V222",
         "rawType": "float64",
         "type": "float"
        },
        {
         "name": "V223",
         "rawType": "float64",
         "type": "float"
        },
        {
         "name": "V224",
         "rawType": "float64",
         "type": "float"
        },
        {
         "name": "V225",
         "rawType": "float64",
         "type": "float"
        },
        {
         "name": "V226",
         "rawType": "float64",
         "type": "float"
        },
        {
         "name": "V227",
         "rawType": "float64",
         "type": "float"
        },
        {
         "name": "V228",
         "rawType": "float64",
         "type": "float"
        },
        {
         "name": "V229",
         "rawType": "float64",
         "type": "float"
        },
        {
         "name": "V230",
         "rawType": "float64",
         "type": "float"
        },
        {
         "name": "V231",
         "rawType": "float64",
         "type": "float"
        },
        {
         "name": "V232",
         "rawType": "float64",
         "type": "float"
        },
        {
         "name": "V233",
         "rawType": "float64",
         "type": "float"
        },
        {
         "name": "V234",
         "rawType": "float64",
         "type": "float"
        },
        {
         "name": "V235",
         "rawType": "float64",
         "type": "float"
        },
        {
         "name": "V236",
         "rawType": "float64",
         "type": "float"
        },
        {
         "name": "V237",
         "rawType": "float64",
         "type": "float"
        },
        {
         "name": "V238",
         "rawType": "float64",
         "type": "float"
        },
        {
         "name": "V239",
         "rawType": "float64",
         "type": "float"
        },
        {
         "name": "V240",
         "rawType": "float64",
         "type": "float"
        },
        {
         "name": "V241",
         "rawType": "float64",
         "type": "float"
        },
        {
         "name": "V242",
         "rawType": "float64",
         "type": "float"
        },
        {
         "name": "V243",
         "rawType": "float64",
         "type": "float"
        },
        {
         "name": "V244",
         "rawType": "float64",
         "type": "float"
        },
        {
         "name": "V245",
         "rawType": "float64",
         "type": "float"
        },
        {
         "name": "V246",
         "rawType": "float64",
         "type": "float"
        },
        {
         "name": "V247",
         "rawType": "float64",
         "type": "float"
        },
        {
         "name": "V248",
         "rawType": "float64",
         "type": "float"
        },
        {
         "name": "V249",
         "rawType": "float64",
         "type": "float"
        },
        {
         "name": "V250",
         "rawType": "float64",
         "type": "float"
        },
        {
         "name": "V251",
         "rawType": "float64",
         "type": "float"
        },
        {
         "name": "V252",
         "rawType": "float64",
         "type": "float"
        },
        {
         "name": "V253",
         "rawType": "float64",
         "type": "float"
        },
        {
         "name": "V254",
         "rawType": "float64",
         "type": "float"
        },
        {
         "name": "V255",
         "rawType": "float64",
         "type": "float"
        },
        {
         "name": "V256",
         "rawType": "float64",
         "type": "float"
        },
        {
         "name": "V257",
         "rawType": "float64",
         "type": "float"
        },
        {
         "name": "V258",
         "rawType": "float64",
         "type": "float"
        },
        {
         "name": "V259",
         "rawType": "float64",
         "type": "float"
        },
        {
         "name": "V260",
         "rawType": "float64",
         "type": "float"
        },
        {
         "name": "V261",
         "rawType": "float64",
         "type": "float"
        },
        {
         "name": "V262",
         "rawType": "float64",
         "type": "float"
        },
        {
         "name": "V263",
         "rawType": "float64",
         "type": "float"
        },
        {
         "name": "V264",
         "rawType": "float64",
         "type": "float"
        },
        {
         "name": "V265",
         "rawType": "float64",
         "type": "float"
        },
        {
         "name": "V266",
         "rawType": "float64",
         "type": "float"
        },
        {
         "name": "V267",
         "rawType": "float64",
         "type": "float"
        },
        {
         "name": "V268",
         "rawType": "float64",
         "type": "float"
        },
        {
         "name": "V269",
         "rawType": "float64",
         "type": "float"
        },
        {
         "name": "V270",
         "rawType": "float64",
         "type": "float"
        },
        {
         "name": "V271",
         "rawType": "float64",
         "type": "float"
        },
        {
         "name": "V272",
         "rawType": "float64",
         "type": "float"
        },
        {
         "name": "V273",
         "rawType": "float64",
         "type": "float"
        },
        {
         "name": "V274",
         "rawType": "float64",
         "type": "float"
        },
        {
         "name": "V275",
         "rawType": "float64",
         "type": "float"
        },
        {
         "name": "V276",
         "rawType": "float64",
         "type": "float"
        },
        {
         "name": "V277",
         "rawType": "float64",
         "type": "float"
        },
        {
         "name": "V278",
         "rawType": "float64",
         "type": "float"
        },
        {
         "name": "V279",
         "rawType": "float64",
         "type": "float"
        },
        {
         "name": "V280",
         "rawType": "float64",
         "type": "float"
        },
        {
         "name": "V281",
         "rawType": "float64",
         "type": "float"
        },
        {
         "name": "V282",
         "rawType": "float64",
         "type": "float"
        },
        {
         "name": "V283",
         "rawType": "float64",
         "type": "float"
        },
        {
         "name": "V284",
         "rawType": "float64",
         "type": "float"
        },
        {
         "name": "V285",
         "rawType": "float64",
         "type": "float"
        },
        {
         "name": "V286",
         "rawType": "float64",
         "type": "float"
        },
        {
         "name": "V287",
         "rawType": "float64",
         "type": "float"
        },
        {
         "name": "V288",
         "rawType": "float64",
         "type": "float"
        },
        {
         "name": "V289",
         "rawType": "float64",
         "type": "float"
        },
        {
         "name": "V290",
         "rawType": "float64",
         "type": "float"
        },
        {
         "name": "V291",
         "rawType": "float64",
         "type": "float"
        },
        {
         "name": "V292",
         "rawType": "float64",
         "type": "float"
        },
        {
         "name": "V293",
         "rawType": "float64",
         "type": "float"
        },
        {
         "name": "V294",
         "rawType": "float64",
         "type": "float"
        },
        {
         "name": "V295",
         "rawType": "float64",
         "type": "float"
        },
        {
         "name": "V296",
         "rawType": "float64",
         "type": "float"
        },
        {
         "name": "V297",
         "rawType": "float64",
         "type": "float"
        },
        {
         "name": "V298",
         "rawType": "float64",
         "type": "float"
        },
        {
         "name": "V299",
         "rawType": "float64",
         "type": "float"
        },
        {
         "name": "V300",
         "rawType": "float64",
         "type": "float"
        },
        {
         "name": "V301",
         "rawType": "float64",
         "type": "float"
        },
        {
         "name": "V302",
         "rawType": "float64",
         "type": "float"
        },
        {
         "name": "V303",
         "rawType": "float64",
         "type": "float"
        },
        {
         "name": "V304",
         "rawType": "float64",
         "type": "float"
        },
        {
         "name": "V305",
         "rawType": "float64",
         "type": "float"
        },
        {
         "name": "V306",
         "rawType": "float64",
         "type": "float"
        },
        {
         "name": "V307",
         "rawType": "float64",
         "type": "float"
        },
        {
         "name": "V308",
         "rawType": "float64",
         "type": "float"
        },
        {
         "name": "V309",
         "rawType": "float64",
         "type": "float"
        },
        {
         "name": "V310",
         "rawType": "float64",
         "type": "float"
        },
        {
         "name": "V311",
         "rawType": "float64",
         "type": "float"
        },
        {
         "name": "V312",
         "rawType": "float64",
         "type": "float"
        },
        {
         "name": "V313",
         "rawType": "float64",
         "type": "float"
        },
        {
         "name": "V314",
         "rawType": "float64",
         "type": "float"
        },
        {
         "name": "V315",
         "rawType": "float64",
         "type": "float"
        },
        {
         "name": "V316",
         "rawType": "float64",
         "type": "float"
        },
        {
         "name": "V317",
         "rawType": "float64",
         "type": "float"
        },
        {
         "name": "V318",
         "rawType": "float64",
         "type": "float"
        },
        {
         "name": "V319",
         "rawType": "float64",
         "type": "float"
        },
        {
         "name": "V320",
         "rawType": "float64",
         "type": "float"
        },
        {
         "name": "V321",
         "rawType": "float64",
         "type": "float"
        }
       ],
       "ref": "1d40af2c-87f7-4bb5-bdad-5401868ee954",
       "rows": [
        [
         "0",
         "14.0",
         "69.0",
         "234.0",
         "415.0",
         "215.0",
         "1056.0",
         "29.0",
         "840.0",
         "226.0",
         "265.0",
         "179.0",
         "148.0",
         "112.0",
         "171.0",
         "229.0",
         "1001.0",
         "49.0",
         "162.0",
         "594.0",
         "88.0",
         "34.0",
         "885.0",
         "122.0",
         "102.0",
         "425.0",
         "185.0",
         "360.0",
         "83.0",
         "449.0",
         "37.0",
         "408.0",
         "346.0",
         "521.0",
         "177.0",
         "4047.0",
         "151.0",
         "218.0",
         "811.0",
         "112.0",
         "68.0",
         "4131.0",
         "784.0",
         "184.0",
         "167.0",
         "325.0",
         "278.0",
         "224.0",
         "158.0",
         "127.0",
         "512.0",
         "502.0",
         "126.0",
         "407.0",
         "293.0",
         "137.0",
         "3976.0",
         "280.0",
         "267.0",
         "681.0",
         "673.0",
         "837.0",
         "215.0",
         "192.0",
         "397.0",
         "119.0",
         "453.0",
         "289.0",
         "290.0",
         "124.0",
         "243.0",
         "132.0",
         "78.0",
         "440.0",
         "158.0",
         "380.0",
         "795.0",
         "598.0",
         "1834.0",
         "436.0",
         "405.0",
         "1089.0",
         "52.0",
         "358.0",
         "9.0",
         "30.0",
         "13.0",
         "28.0",
         "295.0",
         "658.0",
         "880.0",
         "38.0",
         "750.0",
         "1768.0",
         "747.0",
         "602.0",
         "167.0",
         "528.0",
         "333.0",
         "522.0",
         "191.0",
         "439.0",
         "27.0",
         "69.0",
         "455.0",
         "403.0",
         "385.0",
         "1420.0",
         "158.0",
         "63.0",
         "428.0",
         "119.0",
         "174.0",
         "1454.0",
         "612.0",
         "20.0",
         "51.0",
         "504.0",
         "252.0",
         "0.0",
         "7952.0",
         "1013.0",
         "78.0",
         "106.0",
         "221.0",
         "417.0",
         "103.0",
         "424.0",
         "263.0",
         "2788.0",
         "76.0",
         "105.0",
         "7367.0",
         "1457.0",
         "7097.0",
         "816.0",
         "2465.0",
         "258.0",
         "92.0",
         "694.0",
         "333.0",
         "397.0",
         "358.0",
         "181.0",
         "304.0",
         "121.0",
         "181.0",
         "9.0",
         "80.0",
         "847.0",
         "920.0",
         "3404.0",
         "1143.0",
         "692.0",
         "7006.0",
         "902.0",
         "35376.0",
         "322.0",
         "443.0",
         "1071.0",
         "1455.0",
         "582.0",
         "713.0",
         "973.0",
         "1934.0",
         "1057.0",
         "321.0",
         "1423.0",
         "14800.0",
         "1111.0",
         "1861.0",
         "351.0",
         "653.0",
         "2992.0",
         "771.0",
         "692.0",
         "4423.0",
         "389.0",
         "2624.0",
         "781.0",
         "5040.0",
         "286.0",
         "1690.0",
         "1918.0",
         "644.0",
         "1221.0",
         "589.0",
         "11003.0",
         "2236.0",
         "222.0",
         "1276.0",
         "163.0",
         "325.0",
         "178.0",
         "1634.0",
         "358.0",
         "185.0",
         "1090.0",
         "246.0",
         "689.0",
         "7162.0",
         "430.0",
         "267.0",
         "301.0",
         "455.0",
         "1474.0",
         "782.0",
         "300.0",
         "187.0",
         "177.0",
         "200.0",
         "461.0",
         "570.0",
         "534.0",
         "295.0",
         "367.0",
         "245.0",
         "450.0",
         "535.0",
         "133.0",
         "592.0",
         "335.0",
         "362.0",
         "507.0",
         "546.0",
         "138.0",
         "468.0",
         "1906.0",
         "127.0",
         "358.0",
         "332.0",
         "1090.0",
         "720.0",
         "297.0",
         "3859.0",
         "220.0",
         "170.0",
         "29272.0",
         "525.0",
         "293.0",
         "253.0",
         "772.0",
         "141.0",
         "199.0",
         "212.0",
         "351.0",
         "139.0",
         "1156.0",
         "228.0",
         "218.0",
         "197.0",
         "1439.0",
         "655.0",
         "207.0",
         "315.0",
         "3021.0",
         "1336.0",
         "344.0",
         "274.0",
         "300.0",
         "339.0",
         "136.0",
         "149.0",
         "1359.0",
         "479.0",
         "1479.0",
         "289.0",
         "719.0",
         "448.0",
         "2907.0",
         "222.0",
         "653.0",
         "981.0",
         "363.0",
         "203.0",
         "209.0",
         "213.0",
         "3199.0",
         "720.0",
         "552.0",
         "640.0",
         "1062.0",
         "2787.0",
         "511.0",
         "159.0",
         "675.0",
         "116.0",
         "76.0",
         "110.0",
         "451.0",
         "292.0",
         "4770.0",
         "123.0",
         "1623.0",
         "234.0",
         "139.0",
         "296.0",
         "2412.0",
         "317.0",
         "16.0",
         "164.0",
         "241.0",
         "575.0",
         "1824.0",
         "89.0",
         "820.0",
         "66.0",
         "847.0",
         "81.0",
         "2002.0",
         "937.0",
         "199.0",
         "676.0",
         "372.0",
         "80100.0",
         "4719.0",
         "5002.0",
         "48.0",
         "38.0",
         "1558.0",
         "182.0",
         "2162.0"
        ],
        [
         "1",
         "18.0",
         "92.0",
         "312.0",
         "556.0",
         "292.0",
         "1363.0",
         "29.0",
         "1102.0",
         "271.0",
         "340.0",
         "235.0",
         "192.0",
         "143.0",
         "213.0",
         "301.0",
         "1223.0",
         "64.0",
         "216.0",
         "758.0",
         "126.0",
         "39.0",
         "1074.0",
         "150.0",
         "127.0",
         "585.0",
         "219.0",
         "451.0",
         "108.0",
         "606.0",
         "60.0",
         "548.0",
         "470.0",
         "632.0",
         "224.0",
         "4684.0",
         "190.0",
         "260.0",
         "950.0",
         "138.0",
         "89.0",
         "5024.0",
         "992.0",
         "241.0",
         "231.0",
         "438.0",
         "360.0",
         "257.0",
         "202.0",
         "160.0",
         "635.0",
         "779.0",
         "147.0",
         "527.0",
         "373.0",
         "164.0",
         "5053.0",
         "329.0",
         "362.0",
         "900.0",
         "833.0",
         "1035.0",
         "282.0",
         "236.0",
         "512.0",
         "151.0",
         "560.0",
         "351.0",
         "394.0",
         "165.0",
         "296.0",
         "170.0",
         "98.0",
         "529.0",
         "198.0",
         "435.0",
         "964.0",
         "740.0",
         "2211.0",
         "539.0",
         "499.0",
         "1451.0",
         "44.0",
         "616.0",
         "10.0",
         "39.0",
         "17.0",
         "39.0",
         "398.0",
         "822.0",
         "943.0",
         "53.0",
         "786.0",
         "3654.0",
         "997.0",
         "744.0",
         "221.0",
         "701.0",
         "472.0",
         "680.0",
         "244.0",
         "494.0",
         "31.0",
         "96.0",
         "608.0",
         "544.0",
         "330.0",
         "440.0",
         "126.0",
         "75.0",
         "575.0",
         "145.0",
         "223.0",
         "1989.0",
         "784.0",
         "29.0",
         "68.0",
         "656.0",
         "332.0",
         "0.0",
         "10547.0",
         "1359.0",
         "103.0",
         "140.0",
         "285.0",
         "565.0",
         "136.0",
         "551.0",
         "262.0",
         "3353.0",
         "69.0",
         "108.0",
         "7221.0",
         "1443.0",
         "7474.0",
         "825.0",
         "2333.0",
         "255.0",
         "87.0",
         "700.0",
         "329.0",
         "397.0",
         "369.0",
         "192.0",
         "283.0",
         "126.0",
         "180.0",
         "10.0",
         "84.0",
         "795.0",
         "920.0",
         "3290.0",
         "945.0",
         "666.0",
         "7145.0",
         "861.0",
         "37169.0",
         "330.0",
         "398.0",
         "969.0",
         "1267.0",
         "603.0",
         "660.0",
         "919.0",
         "1721.0",
         "1057.0",
         "329.0",
         "1411.0",
         "14203.0",
         "1120.0",
         "1602.0",
         "357.0",
         "660.0",
         "2856.0",
         "763.0",
         "703.0",
         "4334.0",
         "406.0",
         "2516.0",
         "660.0",
         "5091.0",
         "277.0",
         "1705.0",
         "1756.0",
         "614.0",
         "1185.0",
         "462.0",
         "9792.0",
         "2113.0",
         "216.0",
         "1282.0",
         "165.0",
         "325.0",
         "163.0",
         "1601.0",
         "335.0",
         "203.0",
         "1075.0",
         "246.0",
         "733.0",
         "7150.0",
         "395.0",
         "287.0",
         "294.0",
         "455.0",
         "1532.0",
         "792.0",
         "303.0",
         "143.0",
         "188.0",
         "167.0",
         "449.0",
         "560.0",
         "530.0",
         "291.0",
         "357.0",
         "246.0",
         "418.0",
         "538.0",
         "131.0",
         "588.0",
         "332.0",
         "369.0",
         "511.0",
         "534.0",
         "130.0",
         "460.0",
         "1821.0",
         "124.0",
         "334.0",
         "340.0",
         "1042.0",
         "665.0",
         "293.0",
         "3958.0",
         "204.0",
         "167.0",
         "27689.0",
         "496.0",
         "266.0",
         "226.0",
         "682.0",
         "135.0",
         "189.0",
         "215.0",
         "337.0",
         "132.0",
         "1100.0",
         "226.0",
         "12.0",
         "182.0",
         "1418.0",
         "664.0",
         "212.0",
         "311.0",
         "2445.0",
         "1170.0",
         "338.0",
         "264.0",
         "280.0",
         "324.0",
         "142.0",
         "141.0",
         "1292.0",
         "487.0",
         "1308.0",
         "274.0",
         "711.0",
         "446.0",
         "2772.0",
         "199.0",
         "553.0",
         "975.0",
         "364.0",
         "189.0",
         "203.0",
         "217.0",
         "3078.0",
         "706.0",
         "547.0",
         "610.0",
         "1048.0",
         "2647.0",
         "517.0",
         "164.0",
         "667.0",
         "128.0",
         "85.0",
         "101.0",
         "606.0",
         "374.0",
         "4189.0",
         "149.0",
         "2065.0",
         "318.0",
         "125.0",
         "334.0",
         "3166.0",
         "385.0",
         "32.0",
         "123.0",
         "318.0",
         "750.0",
         "2418.0",
         "104.0",
         "1268.0",
         "87.0",
         "988.0",
         "91.0",
         "2685.0",
         "866.0",
         "265.0",
         "805.0",
         "452.0",
         "95200.0",
         "4643.0",
         "6617.0",
         "65.0",
         "47.0",
         "2177.0",
         "253.0",
         "2835.0"
        ],
        [
         "2",
         "21.0",
         "96.0",
         "312.0",
         "560.0",
         "272.0",
         "1240.0",
         "29.0",
         "1025.0",
         "270.0",
         "300.0",
         "221.0",
         "171.0",
         "132.0",
         "185.0",
         "261.0",
         "1172.0",
         "61.0",
         "197.0",
         "736.0",
         "115.0",
         "38.0",
         "936.0",
         "149.0",
         "117.0",
         "551.0",
         "193.0",
         "433.0",
         "102.0",
         "616.0",
         "53.0",
         "472.0",
         "452.0",
         "551.0",
         "213.0",
         "4297.0",
         "166.0",
         "259.0",
         "861.0",
         "129.0",
         "90.0",
         "4611.0",
         "945.0",
         "238.0",
         "205.0",
         "423.0",
         "326.0",
         "242.0",
         "195.0",
         "150.0",
         "614.0",
         "727.0",
         "133.0",
         "513.0",
         "338.0",
         "144.0",
         "4822.0",
         "390.0",
         "332.0",
         "908.0",
         "851.0",
         "924.0",
         "243.0",
         "224.0",
         "487.0",
         "138.0",
         "509.0",
         "323.0",
         "383.0",
         "158.0",
         "260.0",
         "164.0",
         "89.0",
         "498.0",
         "191.0",
         "397.0",
         "908.0",
         "642.0",
         "2254.0",
         "559.0",
         "518.0",
         "1338.0",
         "40.0",
         "598.0",
         "12.0",
         "36.0",
         "17.0",
         "37.0",
         "404.0",
         "729.0",
         "868.0",
         "48.0",
         "784.0",
         "3142.0",
         "1008.0",
         "747.0",
         "224.0",
         "704.0",
         "479.0",
         "699.0",
         "245.0",
         "461.0",
         "32.0",
         "98.0",
         "597.0",
         "528.0",
         "550.0",
         "262.0",
         "126.0",
         "56.0",
         "578.0",
         "162.0",
         "227.0",
         "1891.0",
         "802.0",
         "29.0",
         "68.0",
         "673.0",
         "337.0",
         "0.0",
         "10587.0",
         "1365.0",
         "102.0",
         "139.0",
         "276.0",
         "563.0",
         "137.0",
         "452.0",
         "261.0",
         "3853.0",
         "67.0",
         "111.0",
         "7055.0",
         "788.0",
         "7670.0",
         "345.0",
         "2421.0",
         "261.0",
         "90.0",
         "661.0",
         "299.0",
         "369.0",
         "342.0",
         "186.0",
         "269.0",
         "125.0",
         "183.0",
         "10.0",
         "82.0",
         "769.0",
         "939.0",
         "3254.0",
         "927.0",
         "707.0",
         "6939.0",
         "840.0",
         "36668.0",
         "341.0",
         "382.0",
         "937.0",
         "1172.0",
         "609.0",
         "613.0",
         "909.0",
         "1700.0",
         "1032.0",
         "324.0",
         "1394.0",
         "13952.0",
         "1056.0",
         "1488.0",
         "318.0",
         "646.0",
         "2911.0",
         "742.0",
         "707.0",
         "4417.0",
         "364.0",
         "2521.0",
         "686.0",
         "4913.0",
         "270.0",
         "1755.0",
         "1646.0",
         "600.0",
         "1219.0",
         "464.0",
         "10422.0",
         "2072.0",
         "205.0",
         "1291.0",
         "150.0",
         "334.0",
         "153.0",
         "1497.0",
         "312.0",
         "186.0",
         "1100.0",
         "231.0",
         "718.0",
         "6842.0",
         "399.0",
         "269.0",
         "287.0",
         "443.0",
         "1531.0",
         "761.0",
         "302.0",
         "141.0",
         "182.0",
         "167.0",
         "439.0",
         "556.0",
         "544.0",
         "297.0",
         "382.0",
         "234.0",
         "388.0",
         "572.0",
         "129.0",
         "601.0",
         "329.0",
         "357.0",
         "450.0",
         "520.0",
         "140.0",
         "430.0",
         "1666.0",
         "127.0",
         "322.0",
         "329.0",
         "1018.0",
         "653.0",
         "293.0",
         "3770.0",
         "201.0",
         "162.0",
         "27938.0",
         "512.0",
         "241.0",
         "211.0",
         "670.0",
         "138.0",
         "201.0",
         "202.0",
         "330.0",
         "136.0",
         "1100.0",
         "231.0",
         "12.0",
         "179.0",
         "1364.0",
         "637.0",
         "212.0",
         "328.0",
         "2267.0",
         "1134.0",
         "336.0",
         "262.0",
         "275.0",
         "322.0",
         "129.0",
         "136.0",
         "1317.0",
         "486.0",
         "1398.0",
         "271.0",
         "721.0",
         "431.0",
         "2734.0",
         "183.0",
         "546.0",
         "966.0",
         "371.0",
         "177.0",
         "191.0",
         "217.0",
         "2967.0",
         "642.0",
         "532.0",
         "613.0",
         "1014.0",
         "2535.0",
         "489.0",
         "161.0",
         "649.0",
         "148.0",
         "82.0",
         "84.0",
         "613.0",
         "369.0",
         "4041.0",
         "112.0",
         "1987.0",
         "305.0",
         "123.0",
         "238.0",
         "3194.0",
         "384.0",
         "32.0",
         "123.0",
         "294.0",
         "725.0",
         "2380.0",
         "120.0",
         "1254.0",
         "88.0",
         "942.0",
         "77.0",
         "2661.0",
         "839.0",
         "278.0",
         "817.0",
         "430.0",
         "96600.0",
         "4285.0",
         "6571.0",
         "64.0",
         "43.0",
         "2193.0",
         "218.0",
         "2764.0"
        ],
        [
         "3",
         "20.0",
         "92.0",
         "312.0",
         "443.0",
         "213.0",
         "845.0",
         "24.0",
         "833.0",
         "179.0",
         "211.0",
         "170.0",
         "149.0",
         "116.0",
         "151.0",
         "209.0",
         "813.0",
         "40.0",
         "173.0",
         "661.0",
         "93.0",
         "21.0",
         "833.0",
         "114.0",
         "86.0",
         "434.0",
         "145.0",
         "351.0",
         "78.0",
         "449.0",
         "54.0",
         "375.0",
         "410.0",
         "491.0",
         "170.0",
         "3252.0",
         "114.0",
         "180.0",
         "685.0",
         "128.0",
         "69.0",
         "3470.0",
         "764.0",
         "224.0",
         "160.0",
         "317.0",
         "268.0",
         "173.0",
         "178.0",
         "79.0",
         "544.0",
         "630.0",
         "121.0",
         "466.0",
         "314.0",
         "94.0",
         "3643.0",
         "231.0",
         "263.0",
         "669.0",
         "696.0",
         "653.0",
         "181.0",
         "182.0",
         "383.0",
         "136.0",
         "400.0",
         "199.0",
         "326.0",
         "117.0",
         "208.0",
         "142.0",
         "62.0",
         "382.0",
         "160.0",
         "280.0",
         "731.0",
         "489.0",
         "1791.0",
         "410.0",
         "464.0",
         "1048.0",
         "40.0",
         "526.0",
         "12.0",
         "44.0",
         "18.0",
         "45.0",
         "411.0",
         "697.0",
         "872.0",
         "48.0",
         "727.0",
         "949.0",
         "1002.0",
         "687.0",
         "222.0",
         "707.0",
         "601.0",
         "667.0",
         "246.0",
         "409.0",
         "29.0",
         "91.0",
         "603.0",
         "553.0",
         "385.0",
         "232.0",
         "126.0",
         "74.0",
         "578.0",
         "160.0",
         "235.0",
         "1818.0",
         "802.0",
         "30.0",
         "66.0",
         "651.0",
         "331.0",
         "0.0",
         "10524.0",
         "1348.0",
         "103.0",
         "143.0",
         "274.0",
         "564.0",
         "137.0",
         "449.0",
         "262.0",
         "3492.0",
         "69.0",
         "104.0",
         "7171.0",
         "704.0",
         "7595.0",
         "240.0",
         "2399.0",
         "267.0",
         "88.0",
         "649.0",
         "314.0",
         "364.0",
         "345.0",
         "178.0",
         "258.0",
         "131.0",
         "186.0",
         "10.0",
         "83.0",
         "781.0",
         "890.0",
         "3239.0",
         "945.0",
         "703.0",
         "7048.0",
         "845.0",
         "36293.0",
         "335.0",
         "380.0",
         "950.0",
         "1179.0",
         "592.0",
         "608.0",
         "934.0",
         "1651.0",
         "1006.0",
         "333.0",
         "1365.0",
         "14112.0",
         "1017.0",
         "1462.0",
         "340.0",
         "608.0",
         "3039.0",
         "716.0",
         "718.0",
         "4391.0",
         "353.0",
         "2456.0",
         "697.0",
         "4571.0",
         "284.0",
         "1582.0",
         "1609.0",
         "636.0",
         "1186.0",
         "486.0",
         "10529.0",
         "2128.0",
         "210.0",
         "1300.0",
         "154.0",
         "314.0",
         "157.0",
         "1487.0",
         "298.0",
         "181.0",
         "1107.0",
         "237.0",
         "741.0",
         "6990.0",
         "395.0",
         "285.0",
         "312.0",
         "437.0",
         "1470.0",
         "749.0",
         "295.0",
         "143.0",
         "180.0",
         "155.0",
         "427.0",
         "549.0",
         "552.0",
         "286.0",
         "377.0",
         "226.0",
         "404.0",
         "540.0",
         "121.0",
         "591.0",
         "364.0",
         "361.0",
         "503.0",
         "542.0",
         "132.0",
         "446.0",
         "1683.0",
         "131.0",
         "319.0",
         "339.0",
         "1045.0",
         "696.0",
         "296.0",
         "3790.0",
         "194.0",
         "163.0",
         "26686.0",
         "493.0",
         "244.0",
         "206.0",
         "668.0",
         "138.0",
         "192.0",
         "198.0",
         "330.0",
         "133.0",
         "1121.0",
         "226.0",
         "12.0",
         "183.0",
         "1385.0",
         "616.0",
         "238.0",
         "323.0",
         "2181.0",
         "1141.0",
         "330.0",
         "258.0",
         "265.0",
         "320.0",
         "133.0",
         "139.0",
         "1301.0",
         "463.0",
         "1515.0",
         "266.0",
         "729.0",
         "419.0",
         "2637.0",
         "184.0",
         "534.0",
         "930.0",
         "371.0",
         "170.0",
         "188.0",
         "209.0",
         "2907.0",
         "696.0",
         "517.0",
         "601.0",
         "987.0",
         "2350.0",
         "511.0",
         "166.0",
         "661.0",
         "155.0",
         "76.0",
         "87.0",
         "621.0",
         "369.0",
         "4031.0",
         "115.0",
         "1970.0",
         "305.0",
         "207.0",
         "211.0",
         "3075.0",
         "384.0",
         "24.0",
         "164.0",
         "279.0",
         "725.0",
         "2375.0",
         "119.0",
         "1246.0",
         "87.0",
         "867.0",
         "102.0",
         "2684.0",
         "838.0",
         "271.0",
         "801.0",
         "291.0",
         "94500.0",
         "4222.0",
         "6365.0",
         "65.0",
         "39.0",
         "1315.0",
         "195.0",
         "2735.0"
        ],
        [
         "4",
         "22.0",
         "91.0",
         "312.0",
         "346.0",
         "190.0",
         "647.0",
         "16.0",
         "733.0",
         "186.0",
         "179.0",
         "142.0",
         "170.0",
         "99.0",
         "136.0",
         "148.0",
         "688.0",
         "29.0",
         "144.0",
         "619.0",
         "86.0",
         "20.0",
         "815.0",
         "80.0",
         "73.0",
         "304.0",
         "118.0",
         "289.0",
         "75.0",
         "347.0",
         "44.0",
         "288.0",
         "377.0",
         "479.0",
         "148.0",
         "2639.0",
         "86.0",
         "141.0",
         "623.0",
         "115.0",
         "54.0",
         "2774.0",
         "626.0",
         "167.0",
         "145.0",
         "232.0",
         "220.0",
         "141.0",
         "151.0",
         "47.0",
         "487.0",
         "569.0",
         "106.0",
         "345.0",
         "289.0",
         "73.0",
         "2669.0",
         "146.0",
         "229.0",
         "528.0",
         "538.0",
         "584.0",
         "144.0",
         "155.0",
         "323.0",
         "127.0",
         "322.0",
         "166.0",
         "277.0",
         "98.0",
         "187.0",
         "122.0",
         "55.0",
         "336.0",
         "147.0",
         "233.0",
         "574.0",
         "393.0",
         "1539.0",
         "296.0",
         "407.0",
         "833.0",
         "40.0",
         "488.0",
         "12.0",
         "46.0",
         "19.0",
         "35.0",
         "409.0",
         "696.0",
         "831.0",
         "47.0",
         "709.0",
         "891.0",
         "997.0",
         "680.0",
         "223.0",
         "713.0",
         "455.0",
         "493.0",
         "242.0",
         "424.0",
         "32.0",
         "106.0",
         "598.0",
         "543.0",
         "605.0",
         "222.0",
         "126.0",
         "59.0",
         "323.0",
         "154.0",
         "226.0",
         "1701.0",
         "778.0",
         "29.0",
         "64.0",
         "639.0",
         "337.0",
         "0.0",
         "10525.0",
         "1352.0",
         "105.0",
         "144.0",
         "271.0",
         "567.0",
         "137.0",
         "444.0",
         "261.0",
         "3712.0",
         "68.0",
         "106.0",
         "7153.0",
         "678.0",
         "7426.0",
         "237.0",
         "2300.0",
         "258.0",
         "79.0",
         "652.0",
         "299.0",
         "350.0",
         "343.0",
         "184.0",
         "272.0",
         "125.0",
         "186.0",
         "11.0",
         "86.0",
         "718.0",
         "914.0",
         "3219.0",
         "984.0",
         "684.0",
         "7061.0",
         "808.0",
         "37334.0",
         "337.0",
         "385.0",
         "935.0",
         "1143.0",
         "595.0",
         "489.0",
         "951.0",
         "1466.0",
         "973.0",
         "303.0",
         "1394.0",
         "13968.0",
         "1009.0",
         "1473.0",
         "299.0",
         "615.0",
         "3394.0",
         "852.0",
         "688.0",
         "4205.0",
         "356.0",
         "2439.0",
         "673.0",
         "4812.0",
         "272.0",
         "1613.0",
         "1645.0",
         "642.0",
         "1212.0",
         "652.0",
         "10371.0",
         "2056.0",
         "230.0",
         "1286.0",
         "147.0",
         "317.0",
         "184.0",
         "1644.0",
         "302.0",
         "191.0",
         "1067.0",
         "235.0",
         "679.0",
         "6853.0",
         "414.0",
         "286.0",
         "294.0",
         "452.0",
         "1495.0",
         "758.0",
         "298.0",
         "131.0",
         "190.0",
         "162.0",
         "451.0",
         "554.0",
         "514.0",
         "283.0",
         "376.0",
         "237.0",
         "398.0",
         "552.0",
         "121.0",
         "578.0",
         "338.0",
         "348.0",
         "475.0",
         "543.0",
         "130.0",
         "442.0",
         "1746.0",
         "127.0",
         "328.0",
         "355.0",
         "985.0",
         "672.0",
         "290.0",
         "3831.0",
         "196.0",
         "170.0",
         "25519.0",
         "485.0",
         "261.0",
         "207.0",
         "660.0",
         "135.0",
         "189.0",
         "200.0",
         "340.0",
         "143.0",
         "1072.0",
         "222.0",
         "12.0",
         "189.0",
         "1396.0",
         "601.0",
         "233.0",
         "338.0",
         "2091.0",
         "1157.0",
         "335.0",
         "280.0",
         "273.0",
         "327.0",
         "130.0",
         "138.0",
         "1333.0",
         "502.0",
         "1537.0",
         "272.0",
         "721.0",
         "419.0",
         "2665.0",
         "185.0",
         "600.0",
         "942.0",
         "349.0",
         "178.0",
         "190.0",
         "215.0",
         "3163.0",
         "673.0",
         "518.0",
         "591.0",
         "953.0",
         "2357.0",
         "524.0",
         "160.0",
         "649.0",
         "121.0",
         "82.0",
         "87.0",
         "622.0",
         "370.0",
         "4056.0",
         "111.0",
         "1971.0",
         "312.0",
         "158.0",
         "212.0",
         "3059.0",
         "388.0",
         "32.0",
         "123.0",
         "259.0",
         "725.0",
         "2367.0",
         "110.0",
         "1212.0",
         "86.0",
         "819.0",
         "103.0",
         "2692.0",
         "828.0",
         "267.0",
         "807.0",
         "279.0",
         "91300.0",
         "4116.0",
         "6298.0",
         "75.0",
         "40.0",
         "1378.0",
         "191.0",
         "2721.0"
        ]
       ],
       "shape": {
        "columns": 321,
        "rows": 5
       }
      },
      "text/html": [
       "<div>\n",
       "<style scoped>\n",
       "    .dataframe tbody tr th:only-of-type {\n",
       "        vertical-align: middle;\n",
       "    }\n",
       "\n",
       "    .dataframe tbody tr th {\n",
       "        vertical-align: top;\n",
       "    }\n",
       "\n",
       "    .dataframe thead th {\n",
       "        text-align: right;\n",
       "    }\n",
       "</style>\n",
       "<table border=\"1\" class=\"dataframe\">\n",
       "  <thead>\n",
       "    <tr style=\"text-align: right;\">\n",
       "      <th></th>\n",
       "      <th>V1</th>\n",
       "      <th>V2</th>\n",
       "      <th>V3</th>\n",
       "      <th>V4</th>\n",
       "      <th>V5</th>\n",
       "      <th>V6</th>\n",
       "      <th>V7</th>\n",
       "      <th>V8</th>\n",
       "      <th>V9</th>\n",
       "      <th>V10</th>\n",
       "      <th>...</th>\n",
       "      <th>V312</th>\n",
       "      <th>V313</th>\n",
       "      <th>V314</th>\n",
       "      <th>V315</th>\n",
       "      <th>V316</th>\n",
       "      <th>V317</th>\n",
       "      <th>V318</th>\n",
       "      <th>V319</th>\n",
       "      <th>V320</th>\n",
       "      <th>V321</th>\n",
       "    </tr>\n",
       "  </thead>\n",
       "  <tbody>\n",
       "    <tr>\n",
       "      <th>0</th>\n",
       "      <td>14.0</td>\n",
       "      <td>69.0</td>\n",
       "      <td>234.0</td>\n",
       "      <td>415.0</td>\n",
       "      <td>215.0</td>\n",
       "      <td>1056.0</td>\n",
       "      <td>29.0</td>\n",
       "      <td>840.0</td>\n",
       "      <td>226.0</td>\n",
       "      <td>265.0</td>\n",
       "      <td>...</td>\n",
       "      <td>676.0</td>\n",
       "      <td>372.0</td>\n",
       "      <td>80100.0</td>\n",
       "      <td>4719.0</td>\n",
       "      <td>5002.0</td>\n",
       "      <td>48.0</td>\n",
       "      <td>38.0</td>\n",
       "      <td>1558.0</td>\n",
       "      <td>182.0</td>\n",
       "      <td>2162.0</td>\n",
       "    </tr>\n",
       "    <tr>\n",
       "      <th>1</th>\n",
       "      <td>18.0</td>\n",
       "      <td>92.0</td>\n",
       "      <td>312.0</td>\n",
       "      <td>556.0</td>\n",
       "      <td>292.0</td>\n",
       "      <td>1363.0</td>\n",
       "      <td>29.0</td>\n",
       "      <td>1102.0</td>\n",
       "      <td>271.0</td>\n",
       "      <td>340.0</td>\n",
       "      <td>...</td>\n",
       "      <td>805.0</td>\n",
       "      <td>452.0</td>\n",
       "      <td>95200.0</td>\n",
       "      <td>4643.0</td>\n",
       "      <td>6617.0</td>\n",
       "      <td>65.0</td>\n",
       "      <td>47.0</td>\n",
       "      <td>2177.0</td>\n",
       "      <td>253.0</td>\n",
       "      <td>2835.0</td>\n",
       "    </tr>\n",
       "    <tr>\n",
       "      <th>2</th>\n",
       "      <td>21.0</td>\n",
       "      <td>96.0</td>\n",
       "      <td>312.0</td>\n",
       "      <td>560.0</td>\n",
       "      <td>272.0</td>\n",
       "      <td>1240.0</td>\n",
       "      <td>29.0</td>\n",
       "      <td>1025.0</td>\n",
       "      <td>270.0</td>\n",
       "      <td>300.0</td>\n",
       "      <td>...</td>\n",
       "      <td>817.0</td>\n",
       "      <td>430.0</td>\n",
       "      <td>96600.0</td>\n",
       "      <td>4285.0</td>\n",
       "      <td>6571.0</td>\n",
       "      <td>64.0</td>\n",
       "      <td>43.0</td>\n",
       "      <td>2193.0</td>\n",
       "      <td>218.0</td>\n",
       "      <td>2764.0</td>\n",
       "    </tr>\n",
       "    <tr>\n",
       "      <th>3</th>\n",
       "      <td>20.0</td>\n",
       "      <td>92.0</td>\n",
       "      <td>312.0</td>\n",
       "      <td>443.0</td>\n",
       "      <td>213.0</td>\n",
       "      <td>845.0</td>\n",
       "      <td>24.0</td>\n",
       "      <td>833.0</td>\n",
       "      <td>179.0</td>\n",
       "      <td>211.0</td>\n",
       "      <td>...</td>\n",
       "      <td>801.0</td>\n",
       "      <td>291.0</td>\n",
       "      <td>94500.0</td>\n",
       "      <td>4222.0</td>\n",
       "      <td>6365.0</td>\n",
       "      <td>65.0</td>\n",
       "      <td>39.0</td>\n",
       "      <td>1315.0</td>\n",
       "      <td>195.0</td>\n",
       "      <td>2735.0</td>\n",
       "    </tr>\n",
       "    <tr>\n",
       "      <th>4</th>\n",
       "      <td>22.0</td>\n",
       "      <td>91.0</td>\n",
       "      <td>312.0</td>\n",
       "      <td>346.0</td>\n",
       "      <td>190.0</td>\n",
       "      <td>647.0</td>\n",
       "      <td>16.0</td>\n",
       "      <td>733.0</td>\n",
       "      <td>186.0</td>\n",
       "      <td>179.0</td>\n",
       "      <td>...</td>\n",
       "      <td>807.0</td>\n",
       "      <td>279.0</td>\n",
       "      <td>91300.0</td>\n",
       "      <td>4116.0</td>\n",
       "      <td>6298.0</td>\n",
       "      <td>75.0</td>\n",
       "      <td>40.0</td>\n",
       "      <td>1378.0</td>\n",
       "      <td>191.0</td>\n",
       "      <td>2721.0</td>\n",
       "    </tr>\n",
       "  </tbody>\n",
       "</table>\n",
       "<p>5 rows × 321 columns</p>\n",
       "</div>"
      ],
      "text/plain": [
       "     V1    V2     V3     V4     V5      V6    V7      V8     V9    V10  ...  \\\n",
       "0  14.0  69.0  234.0  415.0  215.0  1056.0  29.0   840.0  226.0  265.0  ...   \n",
       "1  18.0  92.0  312.0  556.0  292.0  1363.0  29.0  1102.0  271.0  340.0  ...   \n",
       "2  21.0  96.0  312.0  560.0  272.0  1240.0  29.0  1025.0  270.0  300.0  ...   \n",
       "3  20.0  92.0  312.0  443.0  213.0   845.0  24.0   833.0  179.0  211.0  ...   \n",
       "4  22.0  91.0  312.0  346.0  190.0   647.0  16.0   733.0  186.0  179.0  ...   \n",
       "\n",
       "    V312   V313     V314    V315    V316  V317  V318    V319   V320    V321  \n",
       "0  676.0  372.0  80100.0  4719.0  5002.0  48.0  38.0  1558.0  182.0  2162.0  \n",
       "1  805.0  452.0  95200.0  4643.0  6617.0  65.0  47.0  2177.0  253.0  2835.0  \n",
       "2  817.0  430.0  96600.0  4285.0  6571.0  64.0  43.0  2193.0  218.0  2764.0  \n",
       "3  801.0  291.0  94500.0  4222.0  6365.0  65.0  39.0  1315.0  195.0  2735.0  \n",
       "4  807.0  279.0  91300.0  4116.0  6298.0  75.0  40.0  1378.0  191.0  2721.0  \n",
       "\n",
       "[5 rows x 321 columns]"
      ]
     },
     "execution_count": 5,
     "metadata": {},
     "output_type": "execute_result"
    }
   ],
   "source": [
    "# 데이터 읽어와서 데이터프레임으로 저장\n",
    "df = pd.read_csv(\"electricity.txt\", header=None)\n",
    "\n",
    "num_cols = df.shape[1]\n",
    "df.columns = [f\"V{i+1}\" for i in range(num_cols)]\n",
    "\n",
    "df.head()"
   ]
  },
  {
   "cell_type": "code",
   "execution_count": 6,
   "metadata": {},
   "outputs": [],
   "source": [
    "# 차분을 통해 새롭게 데이터프레임 구성\n",
    "elec = df.diff().iloc[1:].reset_index(drop=True)"
   ]
  },
  {
   "cell_type": "code",
   "execution_count": 7,
   "metadata": {},
   "outputs": [
    {
     "data": {
      "application/vnd.microsoft.datawrangler.viewer.v0+json": {
       "columns": [
        {
         "name": "index",
         "rawType": "int64",
         "type": "integer"
        },
        {
         "name": "V1",
         "rawType": "float64",
         "type": "float"
        },
        {
         "name": "V2",
         "rawType": "float64",
         "type": "float"
        },
        {
         "name": "V3",
         "rawType": "float64",
         "type": "float"
        },
        {
         "name": "V4",
         "rawType": "float64",
         "type": "float"
        },
        {
         "name": "V5",
         "rawType": "float64",
         "type": "float"
        },
        {
         "name": "V6",
         "rawType": "float64",
         "type": "float"
        },
        {
         "name": "V7",
         "rawType": "float64",
         "type": "float"
        },
        {
         "name": "V8",
         "rawType": "float64",
         "type": "float"
        },
        {
         "name": "V9",
         "rawType": "float64",
         "type": "float"
        },
        {
         "name": "V10",
         "rawType": "float64",
         "type": "float"
        },
        {
         "name": "V11",
         "rawType": "float64",
         "type": "float"
        },
        {
         "name": "V12",
         "rawType": "float64",
         "type": "float"
        },
        {
         "name": "V13",
         "rawType": "float64",
         "type": "float"
        },
        {
         "name": "V14",
         "rawType": "float64",
         "type": "float"
        },
        {
         "name": "V15",
         "rawType": "float64",
         "type": "float"
        },
        {
         "name": "V16",
         "rawType": "float64",
         "type": "float"
        },
        {
         "name": "V17",
         "rawType": "float64",
         "type": "float"
        },
        {
         "name": "V18",
         "rawType": "float64",
         "type": "float"
        },
        {
         "name": "V19",
         "rawType": "float64",
         "type": "float"
        },
        {
         "name": "V20",
         "rawType": "float64",
         "type": "float"
        },
        {
         "name": "V21",
         "rawType": "float64",
         "type": "float"
        },
        {
         "name": "V22",
         "rawType": "float64",
         "type": "float"
        },
        {
         "name": "V23",
         "rawType": "float64",
         "type": "float"
        },
        {
         "name": "V24",
         "rawType": "float64",
         "type": "float"
        },
        {
         "name": "V25",
         "rawType": "float64",
         "type": "float"
        },
        {
         "name": "V26",
         "rawType": "float64",
         "type": "float"
        },
        {
         "name": "V27",
         "rawType": "float64",
         "type": "float"
        },
        {
         "name": "V28",
         "rawType": "float64",
         "type": "float"
        },
        {
         "name": "V29",
         "rawType": "float64",
         "type": "float"
        },
        {
         "name": "V30",
         "rawType": "float64",
         "type": "float"
        },
        {
         "name": "V31",
         "rawType": "float64",
         "type": "float"
        },
        {
         "name": "V32",
         "rawType": "float64",
         "type": "float"
        },
        {
         "name": "V33",
         "rawType": "float64",
         "type": "float"
        },
        {
         "name": "V34",
         "rawType": "float64",
         "type": "float"
        },
        {
         "name": "V35",
         "rawType": "float64",
         "type": "float"
        },
        {
         "name": "V36",
         "rawType": "float64",
         "type": "float"
        },
        {
         "name": "V37",
         "rawType": "float64",
         "type": "float"
        },
        {
         "name": "V38",
         "rawType": "float64",
         "type": "float"
        },
        {
         "name": "V39",
         "rawType": "float64",
         "type": "float"
        },
        {
         "name": "V40",
         "rawType": "float64",
         "type": "float"
        },
        {
         "name": "V41",
         "rawType": "float64",
         "type": "float"
        },
        {
         "name": "V42",
         "rawType": "float64",
         "type": "float"
        },
        {
         "name": "V43",
         "rawType": "float64",
         "type": "float"
        },
        {
         "name": "V44",
         "rawType": "float64",
         "type": "float"
        },
        {
         "name": "V45",
         "rawType": "float64",
         "type": "float"
        },
        {
         "name": "V46",
         "rawType": "float64",
         "type": "float"
        },
        {
         "name": "V47",
         "rawType": "float64",
         "type": "float"
        },
        {
         "name": "V48",
         "rawType": "float64",
         "type": "float"
        },
        {
         "name": "V49",
         "rawType": "float64",
         "type": "float"
        },
        {
         "name": "V50",
         "rawType": "float64",
         "type": "float"
        },
        {
         "name": "V51",
         "rawType": "float64",
         "type": "float"
        },
        {
         "name": "V52",
         "rawType": "float64",
         "type": "float"
        },
        {
         "name": "V53",
         "rawType": "float64",
         "type": "float"
        },
        {
         "name": "V54",
         "rawType": "float64",
         "type": "float"
        },
        {
         "name": "V55",
         "rawType": "float64",
         "type": "float"
        },
        {
         "name": "V56",
         "rawType": "float64",
         "type": "float"
        },
        {
         "name": "V57",
         "rawType": "float64",
         "type": "float"
        },
        {
         "name": "V58",
         "rawType": "float64",
         "type": "float"
        },
        {
         "name": "V59",
         "rawType": "float64",
         "type": "float"
        },
        {
         "name": "V60",
         "rawType": "float64",
         "type": "float"
        },
        {
         "name": "V61",
         "rawType": "float64",
         "type": "float"
        },
        {
         "name": "V62",
         "rawType": "float64",
         "type": "float"
        },
        {
         "name": "V63",
         "rawType": "float64",
         "type": "float"
        },
        {
         "name": "V64",
         "rawType": "float64",
         "type": "float"
        },
        {
         "name": "V65",
         "rawType": "float64",
         "type": "float"
        },
        {
         "name": "V66",
         "rawType": "float64",
         "type": "float"
        },
        {
         "name": "V67",
         "rawType": "float64",
         "type": "float"
        },
        {
         "name": "V68",
         "rawType": "float64",
         "type": "float"
        },
        {
         "name": "V69",
         "rawType": "float64",
         "type": "float"
        },
        {
         "name": "V70",
         "rawType": "float64",
         "type": "float"
        },
        {
         "name": "V71",
         "rawType": "float64",
         "type": "float"
        },
        {
         "name": "V72",
         "rawType": "float64",
         "type": "float"
        },
        {
         "name": "V73",
         "rawType": "float64",
         "type": "float"
        },
        {
         "name": "V74",
         "rawType": "float64",
         "type": "float"
        },
        {
         "name": "V75",
         "rawType": "float64",
         "type": "float"
        },
        {
         "name": "V76",
         "rawType": "float64",
         "type": "float"
        },
        {
         "name": "V77",
         "rawType": "float64",
         "type": "float"
        },
        {
         "name": "V78",
         "rawType": "float64",
         "type": "float"
        },
        {
         "name": "V79",
         "rawType": "float64",
         "type": "float"
        },
        {
         "name": "V80",
         "rawType": "float64",
         "type": "float"
        },
        {
         "name": "V81",
         "rawType": "float64",
         "type": "float"
        },
        {
         "name": "V82",
         "rawType": "float64",
         "type": "float"
        },
        {
         "name": "V83",
         "rawType": "float64",
         "type": "float"
        },
        {
         "name": "V84",
         "rawType": "float64",
         "type": "float"
        },
        {
         "name": "V85",
         "rawType": "float64",
         "type": "float"
        },
        {
         "name": "V86",
         "rawType": "float64",
         "type": "float"
        },
        {
         "name": "V87",
         "rawType": "float64",
         "type": "float"
        },
        {
         "name": "V88",
         "rawType": "float64",
         "type": "float"
        },
        {
         "name": "V89",
         "rawType": "float64",
         "type": "float"
        },
        {
         "name": "V90",
         "rawType": "float64",
         "type": "float"
        },
        {
         "name": "V91",
         "rawType": "float64",
         "type": "float"
        },
        {
         "name": "V92",
         "rawType": "float64",
         "type": "float"
        },
        {
         "name": "V93",
         "rawType": "float64",
         "type": "float"
        },
        {
         "name": "V94",
         "rawType": "float64",
         "type": "float"
        },
        {
         "name": "V95",
         "rawType": "float64",
         "type": "float"
        },
        {
         "name": "V96",
         "rawType": "float64",
         "type": "float"
        },
        {
         "name": "V97",
         "rawType": "float64",
         "type": "float"
        },
        {
         "name": "V98",
         "rawType": "float64",
         "type": "float"
        },
        {
         "name": "V99",
         "rawType": "float64",
         "type": "float"
        },
        {
         "name": "V100",
         "rawType": "float64",
         "type": "float"
        },
        {
         "name": "V101",
         "rawType": "float64",
         "type": "float"
        },
        {
         "name": "V102",
         "rawType": "float64",
         "type": "float"
        },
        {
         "name": "V103",
         "rawType": "float64",
         "type": "float"
        },
        {
         "name": "V104",
         "rawType": "float64",
         "type": "float"
        },
        {
         "name": "V105",
         "rawType": "float64",
         "type": "float"
        },
        {
         "name": "V106",
         "rawType": "float64",
         "type": "float"
        },
        {
         "name": "V107",
         "rawType": "float64",
         "type": "float"
        },
        {
         "name": "V108",
         "rawType": "float64",
         "type": "float"
        },
        {
         "name": "V109",
         "rawType": "float64",
         "type": "float"
        },
        {
         "name": "V110",
         "rawType": "float64",
         "type": "float"
        },
        {
         "name": "V111",
         "rawType": "float64",
         "type": "float"
        },
        {
         "name": "V112",
         "rawType": "float64",
         "type": "float"
        },
        {
         "name": "V113",
         "rawType": "float64",
         "type": "float"
        },
        {
         "name": "V114",
         "rawType": "float64",
         "type": "float"
        },
        {
         "name": "V115",
         "rawType": "float64",
         "type": "float"
        },
        {
         "name": "V116",
         "rawType": "float64",
         "type": "float"
        },
        {
         "name": "V117",
         "rawType": "float64",
         "type": "float"
        },
        {
         "name": "V118",
         "rawType": "float64",
         "type": "float"
        },
        {
         "name": "V119",
         "rawType": "float64",
         "type": "float"
        },
        {
         "name": "V120",
         "rawType": "float64",
         "type": "float"
        },
        {
         "name": "V121",
         "rawType": "float64",
         "type": "float"
        },
        {
         "name": "V122",
         "rawType": "float64",
         "type": "float"
        },
        {
         "name": "V123",
         "rawType": "float64",
         "type": "float"
        },
        {
         "name": "V124",
         "rawType": "float64",
         "type": "float"
        },
        {
         "name": "V125",
         "rawType": "float64",
         "type": "float"
        },
        {
         "name": "V126",
         "rawType": "float64",
         "type": "float"
        },
        {
         "name": "V127",
         "rawType": "float64",
         "type": "float"
        },
        {
         "name": "V128",
         "rawType": "float64",
         "type": "float"
        },
        {
         "name": "V129",
         "rawType": "float64",
         "type": "float"
        },
        {
         "name": "V130",
         "rawType": "float64",
         "type": "float"
        },
        {
         "name": "V131",
         "rawType": "float64",
         "type": "float"
        },
        {
         "name": "V132",
         "rawType": "float64",
         "type": "float"
        },
        {
         "name": "V133",
         "rawType": "float64",
         "type": "float"
        },
        {
         "name": "V134",
         "rawType": "float64",
         "type": "float"
        },
        {
         "name": "V135",
         "rawType": "float64",
         "type": "float"
        },
        {
         "name": "V136",
         "rawType": "float64",
         "type": "float"
        },
        {
         "name": "V137",
         "rawType": "float64",
         "type": "float"
        },
        {
         "name": "V138",
         "rawType": "float64",
         "type": "float"
        },
        {
         "name": "V139",
         "rawType": "float64",
         "type": "float"
        },
        {
         "name": "V140",
         "rawType": "float64",
         "type": "float"
        },
        {
         "name": "V141",
         "rawType": "float64",
         "type": "float"
        },
        {
         "name": "V142",
         "rawType": "float64",
         "type": "float"
        },
        {
         "name": "V143",
         "rawType": "float64",
         "type": "float"
        },
        {
         "name": "V144",
         "rawType": "float64",
         "type": "float"
        },
        {
         "name": "V145",
         "rawType": "float64",
         "type": "float"
        },
        {
         "name": "V146",
         "rawType": "float64",
         "type": "float"
        },
        {
         "name": "V147",
         "rawType": "float64",
         "type": "float"
        },
        {
         "name": "V148",
         "rawType": "float64",
         "type": "float"
        },
        {
         "name": "V149",
         "rawType": "float64",
         "type": "float"
        },
        {
         "name": "V150",
         "rawType": "float64",
         "type": "float"
        },
        {
         "name": "V151",
         "rawType": "float64",
         "type": "float"
        },
        {
         "name": "V152",
         "rawType": "float64",
         "type": "float"
        },
        {
         "name": "V153",
         "rawType": "float64",
         "type": "float"
        },
        {
         "name": "V154",
         "rawType": "float64",
         "type": "float"
        },
        {
         "name": "V155",
         "rawType": "float64",
         "type": "float"
        },
        {
         "name": "V156",
         "rawType": "float64",
         "type": "float"
        },
        {
         "name": "V157",
         "rawType": "float64",
         "type": "float"
        },
        {
         "name": "V158",
         "rawType": "float64",
         "type": "float"
        },
        {
         "name": "V159",
         "rawType": "float64",
         "type": "float"
        },
        {
         "name": "V160",
         "rawType": "float64",
         "type": "float"
        },
        {
         "name": "V161",
         "rawType": "float64",
         "type": "float"
        },
        {
         "name": "V162",
         "rawType": "float64",
         "type": "float"
        },
        {
         "name": "V163",
         "rawType": "float64",
         "type": "float"
        },
        {
         "name": "V164",
         "rawType": "float64",
         "type": "float"
        },
        {
         "name": "V165",
         "rawType": "float64",
         "type": "float"
        },
        {
         "name": "V166",
         "rawType": "float64",
         "type": "float"
        },
        {
         "name": "V167",
         "rawType": "float64",
         "type": "float"
        },
        {
         "name": "V168",
         "rawType": "float64",
         "type": "float"
        },
        {
         "name": "V169",
         "rawType": "float64",
         "type": "float"
        },
        {
         "name": "V170",
         "rawType": "float64",
         "type": "float"
        },
        {
         "name": "V171",
         "rawType": "float64",
         "type": "float"
        },
        {
         "name": "V172",
         "rawType": "float64",
         "type": "float"
        },
        {
         "name": "V173",
         "rawType": "float64",
         "type": "float"
        },
        {
         "name": "V174",
         "rawType": "float64",
         "type": "float"
        },
        {
         "name": "V175",
         "rawType": "float64",
         "type": "float"
        },
        {
         "name": "V176",
         "rawType": "float64",
         "type": "float"
        },
        {
         "name": "V177",
         "rawType": "float64",
         "type": "float"
        },
        {
         "name": "V178",
         "rawType": "float64",
         "type": "float"
        },
        {
         "name": "V179",
         "rawType": "float64",
         "type": "float"
        },
        {
         "name": "V180",
         "rawType": "float64",
         "type": "float"
        },
        {
         "name": "V181",
         "rawType": "float64",
         "type": "float"
        },
        {
         "name": "V182",
         "rawType": "float64",
         "type": "float"
        },
        {
         "name": "V183",
         "rawType": "float64",
         "type": "float"
        },
        {
         "name": "V184",
         "rawType": "float64",
         "type": "float"
        },
        {
         "name": "V185",
         "rawType": "float64",
         "type": "float"
        },
        {
         "name": "V186",
         "rawType": "float64",
         "type": "float"
        },
        {
         "name": "V187",
         "rawType": "float64",
         "type": "float"
        },
        {
         "name": "V188",
         "rawType": "float64",
         "type": "float"
        },
        {
         "name": "V189",
         "rawType": "float64",
         "type": "float"
        },
        {
         "name": "V190",
         "rawType": "float64",
         "type": "float"
        },
        {
         "name": "V191",
         "rawType": "float64",
         "type": "float"
        },
        {
         "name": "V192",
         "rawType": "float64",
         "type": "float"
        },
        {
         "name": "V193",
         "rawType": "float64",
         "type": "float"
        },
        {
         "name": "V194",
         "rawType": "float64",
         "type": "float"
        },
        {
         "name": "V195",
         "rawType": "float64",
         "type": "float"
        },
        {
         "name": "V196",
         "rawType": "float64",
         "type": "float"
        },
        {
         "name": "V197",
         "rawType": "float64",
         "type": "float"
        },
        {
         "name": "V198",
         "rawType": "float64",
         "type": "float"
        },
        {
         "name": "V199",
         "rawType": "float64",
         "type": "float"
        },
        {
         "name": "V200",
         "rawType": "float64",
         "type": "float"
        },
        {
         "name": "V201",
         "rawType": "float64",
         "type": "float"
        },
        {
         "name": "V202",
         "rawType": "float64",
         "type": "float"
        },
        {
         "name": "V203",
         "rawType": "float64",
         "type": "float"
        },
        {
         "name": "V204",
         "rawType": "float64",
         "type": "float"
        },
        {
         "name": "V205",
         "rawType": "float64",
         "type": "float"
        },
        {
         "name": "V206",
         "rawType": "float64",
         "type": "float"
        },
        {
         "name": "V207",
         "rawType": "float64",
         "type": "float"
        },
        {
         "name": "V208",
         "rawType": "float64",
         "type": "float"
        },
        {
         "name": "V209",
         "rawType": "float64",
         "type": "float"
        },
        {
         "name": "V210",
         "rawType": "float64",
         "type": "float"
        },
        {
         "name": "V211",
         "rawType": "float64",
         "type": "float"
        },
        {
         "name": "V212",
         "rawType": "float64",
         "type": "float"
        },
        {
         "name": "V213",
         "rawType": "float64",
         "type": "float"
        },
        {
         "name": "V214",
         "rawType": "float64",
         "type": "float"
        },
        {
         "name": "V215",
         "rawType": "float64",
         "type": "float"
        },
        {
         "name": "V216",
         "rawType": "float64",
         "type": "float"
        },
        {
         "name": "V217",
         "rawType": "float64",
         "type": "float"
        },
        {
         "name": "V218",
         "rawType": "float64",
         "type": "float"
        },
        {
         "name": "V219",
         "rawType": "float64",
         "type": "float"
        },
        {
         "name": "V220",
         "rawType": "float64",
         "type": "float"
        },
        {
         "name": "V221",
         "rawType": "float64",
         "type": "float"
        },
        {
         "name": "V222",
         "rawType": "float64",
         "type": "float"
        },
        {
         "name": "V223",
         "rawType": "float64",
         "type": "float"
        },
        {
         "name": "V224",
         "rawType": "float64",
         "type": "float"
        },
        {
         "name": "V225",
         "rawType": "float64",
         "type": "float"
        },
        {
         "name": "V226",
         "rawType": "float64",
         "type": "float"
        },
        {
         "name": "V227",
         "rawType": "float64",
         "type": "float"
        },
        {
         "name": "V228",
         "rawType": "float64",
         "type": "float"
        },
        {
         "name": "V229",
         "rawType": "float64",
         "type": "float"
        },
        {
         "name": "V230",
         "rawType": "float64",
         "type": "float"
        },
        {
         "name": "V231",
         "rawType": "float64",
         "type": "float"
        },
        {
         "name": "V232",
         "rawType": "float64",
         "type": "float"
        },
        {
         "name": "V233",
         "rawType": "float64",
         "type": "float"
        },
        {
         "name": "V234",
         "rawType": "float64",
         "type": "float"
        },
        {
         "name": "V235",
         "rawType": "float64",
         "type": "float"
        },
        {
         "name": "V236",
         "rawType": "float64",
         "type": "float"
        },
        {
         "name": "V237",
         "rawType": "float64",
         "type": "float"
        },
        {
         "name": "V238",
         "rawType": "float64",
         "type": "float"
        },
        {
         "name": "V239",
         "rawType": "float64",
         "type": "float"
        },
        {
         "name": "V240",
         "rawType": "float64",
         "type": "float"
        },
        {
         "name": "V241",
         "rawType": "float64",
         "type": "float"
        },
        {
         "name": "V242",
         "rawType": "float64",
         "type": "float"
        },
        {
         "name": "V243",
         "rawType": "float64",
         "type": "float"
        },
        {
         "name": "V244",
         "rawType": "float64",
         "type": "float"
        },
        {
         "name": "V245",
         "rawType": "float64",
         "type": "float"
        },
        {
         "name": "V246",
         "rawType": "float64",
         "type": "float"
        },
        {
         "name": "V247",
         "rawType": "float64",
         "type": "float"
        },
        {
         "name": "V248",
         "rawType": "float64",
         "type": "float"
        },
        {
         "name": "V249",
         "rawType": "float64",
         "type": "float"
        },
        {
         "name": "V250",
         "rawType": "float64",
         "type": "float"
        },
        {
         "name": "V251",
         "rawType": "float64",
         "type": "float"
        },
        {
         "name": "V252",
         "rawType": "float64",
         "type": "float"
        },
        {
         "name": "V253",
         "rawType": "float64",
         "type": "float"
        },
        {
         "name": "V254",
         "rawType": "float64",
         "type": "float"
        },
        {
         "name": "V255",
         "rawType": "float64",
         "type": "float"
        },
        {
         "name": "V256",
         "rawType": "float64",
         "type": "float"
        },
        {
         "name": "V257",
         "rawType": "float64",
         "type": "float"
        },
        {
         "name": "V258",
         "rawType": "float64",
         "type": "float"
        },
        {
         "name": "V259",
         "rawType": "float64",
         "type": "float"
        },
        {
         "name": "V260",
         "rawType": "float64",
         "type": "float"
        },
        {
         "name": "V261",
         "rawType": "float64",
         "type": "float"
        },
        {
         "name": "V262",
         "rawType": "float64",
         "type": "float"
        },
        {
         "name": "V263",
         "rawType": "float64",
         "type": "float"
        },
        {
         "name": "V264",
         "rawType": "float64",
         "type": "float"
        },
        {
         "name": "V265",
         "rawType": "float64",
         "type": "float"
        },
        {
         "name": "V266",
         "rawType": "float64",
         "type": "float"
        },
        {
         "name": "V267",
         "rawType": "float64",
         "type": "float"
        },
        {
         "name": "V268",
         "rawType": "float64",
         "type": "float"
        },
        {
         "name": "V269",
         "rawType": "float64",
         "type": "float"
        },
        {
         "name": "V270",
         "rawType": "float64",
         "type": "float"
        },
        {
         "name": "V271",
         "rawType": "float64",
         "type": "float"
        },
        {
         "name": "V272",
         "rawType": "float64",
         "type": "float"
        },
        {
         "name": "V273",
         "rawType": "float64",
         "type": "float"
        },
        {
         "name": "V274",
         "rawType": "float64",
         "type": "float"
        },
        {
         "name": "V275",
         "rawType": "float64",
         "type": "float"
        },
        {
         "name": "V276",
         "rawType": "float64",
         "type": "float"
        },
        {
         "name": "V277",
         "rawType": "float64",
         "type": "float"
        },
        {
         "name": "V278",
         "rawType": "float64",
         "type": "float"
        },
        {
         "name": "V279",
         "rawType": "float64",
         "type": "float"
        },
        {
         "name": "V280",
         "rawType": "float64",
         "type": "float"
        },
        {
         "name": "V281",
         "rawType": "float64",
         "type": "float"
        },
        {
         "name": "V282",
         "rawType": "float64",
         "type": "float"
        },
        {
         "name": "V283",
         "rawType": "float64",
         "type": "float"
        },
        {
         "name": "V284",
         "rawType": "float64",
         "type": "float"
        },
        {
         "name": "V285",
         "rawType": "float64",
         "type": "float"
        },
        {
         "name": "V286",
         "rawType": "float64",
         "type": "float"
        },
        {
         "name": "V287",
         "rawType": "float64",
         "type": "float"
        },
        {
         "name": "V288",
         "rawType": "float64",
         "type": "float"
        },
        {
         "name": "V289",
         "rawType": "float64",
         "type": "float"
        },
        {
         "name": "V290",
         "rawType": "float64",
         "type": "float"
        },
        {
         "name": "V291",
         "rawType": "float64",
         "type": "float"
        },
        {
         "name": "V292",
         "rawType": "float64",
         "type": "float"
        },
        {
         "name": "V293",
         "rawType": "float64",
         "type": "float"
        },
        {
         "name": "V294",
         "rawType": "float64",
         "type": "float"
        },
        {
         "name": "V295",
         "rawType": "float64",
         "type": "float"
        },
        {
         "name": "V296",
         "rawType": "float64",
         "type": "float"
        },
        {
         "name": "V297",
         "rawType": "float64",
         "type": "float"
        },
        {
         "name": "V298",
         "rawType": "float64",
         "type": "float"
        },
        {
         "name": "V299",
         "rawType": "float64",
         "type": "float"
        },
        {
         "name": "V300",
         "rawType": "float64",
         "type": "float"
        },
        {
         "name": "V301",
         "rawType": "float64",
         "type": "float"
        },
        {
         "name": "V302",
         "rawType": "float64",
         "type": "float"
        },
        {
         "name": "V303",
         "rawType": "float64",
         "type": "float"
        },
        {
         "name": "V304",
         "rawType": "float64",
         "type": "float"
        },
        {
         "name": "V305",
         "rawType": "float64",
         "type": "float"
        },
        {
         "name": "V306",
         "rawType": "float64",
         "type": "float"
        },
        {
         "name": "V307",
         "rawType": "float64",
         "type": "float"
        },
        {
         "name": "V308",
         "rawType": "float64",
         "type": "float"
        },
        {
         "name": "V309",
         "rawType": "float64",
         "type": "float"
        },
        {
         "name": "V310",
         "rawType": "float64",
         "type": "float"
        },
        {
         "name": "V311",
         "rawType": "float64",
         "type": "float"
        },
        {
         "name": "V312",
         "rawType": "float64",
         "type": "float"
        },
        {
         "name": "V313",
         "rawType": "float64",
         "type": "float"
        },
        {
         "name": "V314",
         "rawType": "float64",
         "type": "float"
        },
        {
         "name": "V315",
         "rawType": "float64",
         "type": "float"
        },
        {
         "name": "V316",
         "rawType": "float64",
         "type": "float"
        },
        {
         "name": "V317",
         "rawType": "float64",
         "type": "float"
        },
        {
         "name": "V318",
         "rawType": "float64",
         "type": "float"
        },
        {
         "name": "V319",
         "rawType": "float64",
         "type": "float"
        },
        {
         "name": "V320",
         "rawType": "float64",
         "type": "float"
        },
        {
         "name": "V321",
         "rawType": "float64",
         "type": "float"
        }
       ],
       "ref": "8dc42307-0b34-4363-943f-bd74c445050c",
       "rows": [
        [
         "0",
         "4.0",
         "23.0",
         "78.0",
         "141.0",
         "77.0",
         "307.0",
         "0.0",
         "262.0",
         "45.0",
         "75.0",
         "56.0",
         "44.0",
         "31.0",
         "42.0",
         "72.0",
         "222.0",
         "15.0",
         "54.0",
         "164.0",
         "38.0",
         "5.0",
         "189.0",
         "28.0",
         "25.0",
         "160.0",
         "34.0",
         "91.0",
         "25.0",
         "157.0",
         "23.0",
         "140.0",
         "124.0",
         "111.0",
         "47.0",
         "637.0",
         "39.0",
         "42.0",
         "139.0",
         "26.0",
         "21.0",
         "893.0",
         "208.0",
         "57.0",
         "64.0",
         "113.0",
         "82.0",
         "33.0",
         "44.0",
         "33.0",
         "123.0",
         "277.0",
         "21.0",
         "120.0",
         "80.0",
         "27.0",
         "1077.0",
         "49.0",
         "95.0",
         "219.0",
         "160.0",
         "198.0",
         "67.0",
         "44.0",
         "115.0",
         "32.0",
         "107.0",
         "62.0",
         "104.0",
         "41.0",
         "53.0",
         "38.0",
         "20.0",
         "89.0",
         "40.0",
         "55.0",
         "169.0",
         "142.0",
         "377.0",
         "103.0",
         "94.0",
         "362.0",
         "-8.0",
         "258.0",
         "1.0",
         "9.0",
         "4.0",
         "11.0",
         "103.0",
         "164.0",
         "63.0",
         "15.0",
         "36.0",
         "1886.0",
         "250.0",
         "142.0",
         "54.0",
         "173.0",
         "139.0",
         "158.0",
         "53.0",
         "55.0",
         "4.0",
         "27.0",
         "153.0",
         "141.0",
         "-55.0",
         "-980.0",
         "-32.0",
         "12.0",
         "147.0",
         "26.0",
         "49.0",
         "535.0",
         "172.0",
         "9.0",
         "17.0",
         "152.0",
         "80.0",
         "0.0",
         "2595.0",
         "346.0",
         "25.0",
         "34.0",
         "64.0",
         "148.0",
         "33.0",
         "127.0",
         "-1.0",
         "565.0",
         "-7.0",
         "3.0",
         "-146.0",
         "-14.0",
         "377.0",
         "9.0",
         "-132.0",
         "-3.0",
         "-5.0",
         "6.0",
         "-4.0",
         "0.0",
         "11.0",
         "11.0",
         "-21.0",
         "5.0",
         "-1.0",
         "1.0",
         "4.0",
         "-52.0",
         "0.0",
         "-114.0",
         "-198.0",
         "-26.0",
         "139.0",
         "-41.0",
         "1793.0",
         "8.0",
         "-45.0",
         "-102.0",
         "-188.0",
         "21.0",
         "-53.0",
         "-54.0",
         "-213.0",
         "0.0",
         "8.0",
         "-12.0",
         "-597.0",
         "9.0",
         "-259.0",
         "6.0",
         "7.0",
         "-136.0",
         "-8.0",
         "11.0",
         "-89.0",
         "17.0",
         "-108.0",
         "-121.0",
         "51.0",
         "-9.0",
         "15.0",
         "-162.0",
         "-30.0",
         "-36.0",
         "-127.0",
         "-1211.0",
         "-123.0",
         "-6.0",
         "6.0",
         "2.0",
         "0.0",
         "-15.0",
         "-33.0",
         "-23.0",
         "18.0",
         "-15.0",
         "0.0",
         "44.0",
         "-12.0",
         "-35.0",
         "20.0",
         "-7.0",
         "0.0",
         "58.0",
         "10.0",
         "3.0",
         "-44.0",
         "11.0",
         "-33.0",
         "-12.0",
         "-10.0",
         "-4.0",
         "-4.0",
         "-10.0",
         "1.0",
         "-32.0",
         "3.0",
         "-2.0",
         "-4.0",
         "-3.0",
         "7.0",
         "4.0",
         "-12.0",
         "-8.0",
         "-8.0",
         "-85.0",
         "-3.0",
         "-24.0",
         "8.0",
         "-48.0",
         "-55.0",
         "-4.0",
         "99.0",
         "-16.0",
         "-3.0",
         "-1583.0",
         "-29.0",
         "-27.0",
         "-27.0",
         "-90.0",
         "-6.0",
         "-10.0",
         "3.0",
         "-14.0",
         "-7.0",
         "-56.0",
         "-2.0",
         "-206.0",
         "-15.0",
         "-21.0",
         "9.0",
         "5.0",
         "-4.0",
         "-576.0",
         "-166.0",
         "-6.0",
         "-10.0",
         "-20.0",
         "-15.0",
         "6.0",
         "-8.0",
         "-67.0",
         "8.0",
         "-171.0",
         "-15.0",
         "-8.0",
         "-2.0",
         "-135.0",
         "-23.0",
         "-100.0",
         "-6.0",
         "1.0",
         "-14.0",
         "-6.0",
         "4.0",
         "-121.0",
         "-14.0",
         "-5.0",
         "-30.0",
         "-14.0",
         "-140.0",
         "6.0",
         "5.0",
         "-8.0",
         "12.0",
         "9.0",
         "-9.0",
         "155.0",
         "82.0",
         "-581.0",
         "26.0",
         "442.0",
         "84.0",
         "-14.0",
         "38.0",
         "754.0",
         "68.0",
         "16.0",
         "-41.0",
         "77.0",
         "175.0",
         "594.0",
         "15.0",
         "448.0",
         "21.0",
         "141.0",
         "10.0",
         "683.0",
         "-71.0",
         "66.0",
         "129.0",
         "80.0",
         "15100.0",
         "-76.0",
         "1615.0",
         "17.0",
         "9.0",
         "619.0",
         "71.0",
         "673.0"
        ],
        [
         "1",
         "3.0",
         "4.0",
         "0.0",
         "4.0",
         "-20.0",
         "-123.0",
         "0.0",
         "-77.0",
         "-1.0",
         "-40.0",
         "-14.0",
         "-21.0",
         "-11.0",
         "-28.0",
         "-40.0",
         "-51.0",
         "-3.0",
         "-19.0",
         "-22.0",
         "-11.0",
         "-1.0",
         "-138.0",
         "-1.0",
         "-10.0",
         "-34.0",
         "-26.0",
         "-18.0",
         "-6.0",
         "10.0",
         "-7.0",
         "-76.0",
         "-18.0",
         "-81.0",
         "-11.0",
         "-387.0",
         "-24.0",
         "-1.0",
         "-89.0",
         "-9.0",
         "1.0",
         "-413.0",
         "-47.0",
         "-3.0",
         "-26.0",
         "-15.0",
         "-34.0",
         "-15.0",
         "-7.0",
         "-10.0",
         "-21.0",
         "-52.0",
         "-14.0",
         "-14.0",
         "-35.0",
         "-20.0",
         "-231.0",
         "61.0",
         "-30.0",
         "8.0",
         "18.0",
         "-111.0",
         "-39.0",
         "-12.0",
         "-25.0",
         "-13.0",
         "-51.0",
         "-28.0",
         "-11.0",
         "-7.0",
         "-36.0",
         "-6.0",
         "-9.0",
         "-31.0",
         "-7.0",
         "-38.0",
         "-56.0",
         "-98.0",
         "43.0",
         "20.0",
         "19.0",
         "-113.0",
         "-4.0",
         "-18.0",
         "2.0",
         "-3.0",
         "0.0",
         "-2.0",
         "6.0",
         "-93.0",
         "-75.0",
         "-5.0",
         "-2.0",
         "-512.0",
         "11.0",
         "3.0",
         "3.0",
         "3.0",
         "7.0",
         "19.0",
         "1.0",
         "-33.0",
         "1.0",
         "2.0",
         "-11.0",
         "-16.0",
         "220.0",
         "-178.0",
         "0.0",
         "-19.0",
         "3.0",
         "17.0",
         "4.0",
         "-98.0",
         "18.0",
         "0.0",
         "0.0",
         "17.0",
         "5.0",
         "0.0",
         "40.0",
         "6.0",
         "-1.0",
         "-1.0",
         "-9.0",
         "-2.0",
         "1.0",
         "-99.0",
         "-1.0",
         "500.0",
         "-2.0",
         "3.0",
         "-166.0",
         "-655.0",
         "196.0",
         "-480.0",
         "88.0",
         "6.0",
         "3.0",
         "-39.0",
         "-30.0",
         "-28.0",
         "-27.0",
         "-6.0",
         "-14.0",
         "-1.0",
         "3.0",
         "0.0",
         "-2.0",
         "-26.0",
         "19.0",
         "-36.0",
         "-18.0",
         "41.0",
         "-206.0",
         "-21.0",
         "-501.0",
         "11.0",
         "-16.0",
         "-32.0",
         "-95.0",
         "6.0",
         "-47.0",
         "-10.0",
         "-21.0",
         "-25.0",
         "-5.0",
         "-17.0",
         "-251.0",
         "-64.0",
         "-114.0",
         "-39.0",
         "-14.0",
         "55.0",
         "-21.0",
         "4.0",
         "83.0",
         "-42.0",
         "5.0",
         "26.0",
         "-178.0",
         "-7.0",
         "50.0",
         "-110.0",
         "-14.0",
         "34.0",
         "2.0",
         "630.0",
         "-41.0",
         "-11.0",
         "9.0",
         "-15.0",
         "9.0",
         "-10.0",
         "-104.0",
         "-23.0",
         "-17.0",
         "25.0",
         "-15.0",
         "-15.0",
         "-308.0",
         "4.0",
         "-18.0",
         "-7.0",
         "-12.0",
         "-1.0",
         "-31.0",
         "-1.0",
         "-2.0",
         "-6.0",
         "0.0",
         "-10.0",
         "-4.0",
         "14.0",
         "6.0",
         "25.0",
         "-12.0",
         "-30.0",
         "34.0",
         "-2.0",
         "13.0",
         "-3.0",
         "-12.0",
         "-61.0",
         "-14.0",
         "10.0",
         "-30.0",
         "-155.0",
         "3.0",
         "-12.0",
         "-11.0",
         "-24.0",
         "-12.0",
         "0.0",
         "-188.0",
         "-3.0",
         "-5.0",
         "249.0",
         "16.0",
         "-25.0",
         "-15.0",
         "-12.0",
         "3.0",
         "12.0",
         "-13.0",
         "-7.0",
         "4.0",
         "0.0",
         "5.0",
         "0.0",
         "-3.0",
         "-54.0",
         "-27.0",
         "0.0",
         "17.0",
         "-178.0",
         "-36.0",
         "-2.0",
         "-2.0",
         "-5.0",
         "-2.0",
         "-13.0",
         "-5.0",
         "25.0",
         "-1.0",
         "90.0",
         "-3.0",
         "10.0",
         "-15.0",
         "-38.0",
         "-16.0",
         "-7.0",
         "-9.0",
         "7.0",
         "-12.0",
         "-12.0",
         "0.0",
         "-111.0",
         "-64.0",
         "-15.0",
         "3.0",
         "-34.0",
         "-112.0",
         "-28.0",
         "-3.0",
         "-18.0",
         "20.0",
         "-3.0",
         "-17.0",
         "7.0",
         "-5.0",
         "-148.0",
         "-37.0",
         "-78.0",
         "-13.0",
         "-2.0",
         "-96.0",
         "28.0",
         "-1.0",
         "0.0",
         "0.0",
         "-24.0",
         "-25.0",
         "-38.0",
         "16.0",
         "-14.0",
         "1.0",
         "-46.0",
         "-14.0",
         "-24.0",
         "-27.0",
         "13.0",
         "12.0",
         "-22.0",
         "1400.0",
         "-358.0",
         "-46.0",
         "-1.0",
         "-4.0",
         "16.0",
         "-35.0",
         "-71.0"
        ],
        [
         "2",
         "-1.0",
         "-4.0",
         "0.0",
         "-117.0",
         "-59.0",
         "-395.0",
         "-5.0",
         "-192.0",
         "-91.0",
         "-89.0",
         "-51.0",
         "-22.0",
         "-16.0",
         "-34.0",
         "-52.0",
         "-359.0",
         "-21.0",
         "-24.0",
         "-75.0",
         "-22.0",
         "-17.0",
         "-103.0",
         "-35.0",
         "-31.0",
         "-117.0",
         "-48.0",
         "-82.0",
         "-24.0",
         "-167.0",
         "1.0",
         "-97.0",
         "-42.0",
         "-60.0",
         "-43.0",
         "-1045.0",
         "-52.0",
         "-79.0",
         "-176.0",
         "-1.0",
         "-21.0",
         "-1141.0",
         "-181.0",
         "-14.0",
         "-45.0",
         "-106.0",
         "-58.0",
         "-69.0",
         "-17.0",
         "-71.0",
         "-70.0",
         "-97.0",
         "-12.0",
         "-47.0",
         "-24.0",
         "-50.0",
         "-1179.0",
         "-159.0",
         "-69.0",
         "-239.0",
         "-155.0",
         "-271.0",
         "-62.0",
         "-42.0",
         "-104.0",
         "-2.0",
         "-109.0",
         "-124.0",
         "-57.0",
         "-41.0",
         "-52.0",
         "-22.0",
         "-27.0",
         "-116.0",
         "-31.0",
         "-117.0",
         "-177.0",
         "-153.0",
         "-463.0",
         "-149.0",
         "-54.0",
         "-290.0",
         "0.0",
         "-72.0",
         "0.0",
         "8.0",
         "1.0",
         "8.0",
         "7.0",
         "-32.0",
         "4.0",
         "0.0",
         "-57.0",
         "-2193.0",
         "-6.0",
         "-60.0",
         "-2.0",
         "3.0",
         "122.0",
         "-32.0",
         "1.0",
         "-52.0",
         "-3.0",
         "-7.0",
         "6.0",
         "25.0",
         "-165.0",
         "-30.0",
         "0.0",
         "18.0",
         "0.0",
         "-2.0",
         "8.0",
         "-73.0",
         "0.0",
         "1.0",
         "-2.0",
         "-22.0",
         "-6.0",
         "0.0",
         "-63.0",
         "-17.0",
         "1.0",
         "4.0",
         "-2.0",
         "1.0",
         "0.0",
         "-3.0",
         "1.0",
         "-361.0",
         "2.0",
         "-7.0",
         "116.0",
         "-84.0",
         "-75.0",
         "-105.0",
         "-22.0",
         "6.0",
         "-2.0",
         "-12.0",
         "15.0",
         "-5.0",
         "3.0",
         "-8.0",
         "-11.0",
         "6.0",
         "3.0",
         "0.0",
         "1.0",
         "12.0",
         "-49.0",
         "-15.0",
         "18.0",
         "-4.0",
         "109.0",
         "5.0",
         "-375.0",
         "-6.0",
         "-2.0",
         "13.0",
         "7.0",
         "-17.0",
         "-5.0",
         "25.0",
         "-49.0",
         "-26.0",
         "9.0",
         "-29.0",
         "160.0",
         "-39.0",
         "-26.0",
         "22.0",
         "-38.0",
         "128.0",
         "-26.0",
         "11.0",
         "-26.0",
         "-11.0",
         "-65.0",
         "11.0",
         "-342.0",
         "14.0",
         "-173.0",
         "-37.0",
         "36.0",
         "-33.0",
         "22.0",
         "107.0",
         "56.0",
         "5.0",
         "9.0",
         "4.0",
         "-20.0",
         "4.0",
         "-10.0",
         "-14.0",
         "-5.0",
         "7.0",
         "6.0",
         "23.0",
         "148.0",
         "-4.0",
         "16.0",
         "25.0",
         "-6.0",
         "-61.0",
         "-12.0",
         "-7.0",
         "2.0",
         "-2.0",
         "-12.0",
         "-12.0",
         "-7.0",
         "8.0",
         "-11.0",
         "-5.0",
         "-8.0",
         "16.0",
         "-32.0",
         "-8.0",
         "-10.0",
         "35.0",
         "4.0",
         "53.0",
         "22.0",
         "-8.0",
         "16.0",
         "17.0",
         "4.0",
         "-3.0",
         "10.0",
         "27.0",
         "43.0",
         "3.0",
         "20.0",
         "-7.0",
         "1.0",
         "-1252.0",
         "-19.0",
         "3.0",
         "-5.0",
         "-2.0",
         "0.0",
         "-9.0",
         "-4.0",
         "0.0",
         "-3.0",
         "21.0",
         "-5.0",
         "0.0",
         "4.0",
         "21.0",
         "-21.0",
         "26.0",
         "-5.0",
         "-86.0",
         "7.0",
         "-6.0",
         "-4.0",
         "-10.0",
         "-2.0",
         "4.0",
         "3.0",
         "-16.0",
         "-23.0",
         "117.0",
         "-5.0",
         "8.0",
         "-12.0",
         "-97.0",
         "1.0",
         "-12.0",
         "-36.0",
         "0.0",
         "-7.0",
         "-3.0",
         "-8.0",
         "-60.0",
         "54.0",
         "-15.0",
         "-12.0",
         "-27.0",
         "-185.0",
         "22.0",
         "5.0",
         "12.0",
         "7.0",
         "-6.0",
         "3.0",
         "8.0",
         "0.0",
         "-10.0",
         "3.0",
         "-17.0",
         "0.0",
         "84.0",
         "-27.0",
         "-119.0",
         "0.0",
         "-8.0",
         "41.0",
         "-15.0",
         "0.0",
         "-5.0",
         "-1.0",
         "-8.0",
         "-1.0",
         "-75.0",
         "25.0",
         "23.0",
         "-1.0",
         "-7.0",
         "-16.0",
         "-139.0",
         "-2100.0",
         "-63.0",
         "-206.0",
         "1.0",
         "-4.0",
         "-878.0",
         "-23.0",
         "-29.0"
        ],
        [
         "3",
         "2.0",
         "-1.0",
         "0.0",
         "-97.0",
         "-23.0",
         "-198.0",
         "-8.0",
         "-100.0",
         "7.0",
         "-32.0",
         "-28.0",
         "21.0",
         "-17.0",
         "-15.0",
         "-61.0",
         "-125.0",
         "-11.0",
         "-29.0",
         "-42.0",
         "-7.0",
         "-1.0",
         "-18.0",
         "-34.0",
         "-13.0",
         "-130.0",
         "-27.0",
         "-62.0",
         "-3.0",
         "-102.0",
         "-10.0",
         "-87.0",
         "-33.0",
         "-12.0",
         "-22.0",
         "-613.0",
         "-28.0",
         "-39.0",
         "-62.0",
         "-13.0",
         "-15.0",
         "-696.0",
         "-138.0",
         "-57.0",
         "-15.0",
         "-85.0",
         "-48.0",
         "-32.0",
         "-27.0",
         "-32.0",
         "-57.0",
         "-61.0",
         "-15.0",
         "-121.0",
         "-25.0",
         "-21.0",
         "-974.0",
         "-85.0",
         "-34.0",
         "-141.0",
         "-158.0",
         "-69.0",
         "-37.0",
         "-27.0",
         "-60.0",
         "-9.0",
         "-78.0",
         "-33.0",
         "-49.0",
         "-19.0",
         "-21.0",
         "-20.0",
         "-7.0",
         "-46.0",
         "-13.0",
         "-47.0",
         "-157.0",
         "-96.0",
         "-252.0",
         "-114.0",
         "-57.0",
         "-215.0",
         "0.0",
         "-38.0",
         "0.0",
         "2.0",
         "1.0",
         "-10.0",
         "-2.0",
         "-1.0",
         "-41.0",
         "-1.0",
         "-18.0",
         "-58.0",
         "-5.0",
         "-7.0",
         "1.0",
         "6.0",
         "-146.0",
         "-174.0",
         "-4.0",
         "15.0",
         "3.0",
         "15.0",
         "-5.0",
         "-10.0",
         "220.0",
         "-10.0",
         "0.0",
         "-15.0",
         "-255.0",
         "-6.0",
         "-9.0",
         "-117.0",
         "-24.0",
         "-1.0",
         "-2.0",
         "-12.0",
         "6.0",
         "0.0",
         "1.0",
         "4.0",
         "2.0",
         "1.0",
         "-3.0",
         "3.0",
         "0.0",
         "-5.0",
         "-1.0",
         "220.0",
         "-1.0",
         "2.0",
         "-18.0",
         "-26.0",
         "-169.0",
         "-3.0",
         "-99.0",
         "-9.0",
         "-9.0",
         "3.0",
         "-15.0",
         "-14.0",
         "-2.0",
         "6.0",
         "14.0",
         "-6.0",
         "0.0",
         "1.0",
         "3.0",
         "-63.0",
         "24.0",
         "-20.0",
         "39.0",
         "-19.0",
         "13.0",
         "-37.0",
         "1041.0",
         "2.0",
         "5.0",
         "-15.0",
         "-36.0",
         "3.0",
         "-119.0",
         "17.0",
         "-185.0",
         "-33.0",
         "-30.0",
         "29.0",
         "-144.0",
         "-8.0",
         "11.0",
         "-41.0",
         "7.0",
         "355.0",
         "136.0",
         "-30.0",
         "-186.0",
         "3.0",
         "-17.0",
         "-24.0",
         "241.0",
         "-12.0",
         "31.0",
         "36.0",
         "6.0",
         "26.0",
         "166.0",
         "-158.0",
         "-72.0",
         "20.0",
         "-14.0",
         "-7.0",
         "3.0",
         "27.0",
         "157.0",
         "4.0",
         "10.0",
         "-40.0",
         "-2.0",
         "-62.0",
         "-137.0",
         "19.0",
         "1.0",
         "-18.0",
         "15.0",
         "25.0",
         "9.0",
         "3.0",
         "-12.0",
         "10.0",
         "7.0",
         "24.0",
         "5.0",
         "-38.0",
         "-3.0",
         "-1.0",
         "11.0",
         "-6.0",
         "12.0",
         "0.0",
         "-13.0",
         "-26.0",
         "-13.0",
         "-28.0",
         "1.0",
         "-2.0",
         "-4.0",
         "63.0",
         "-4.0",
         "9.0",
         "16.0",
         "-60.0",
         "-24.0",
         "-6.0",
         "41.0",
         "2.0",
         "7.0",
         "-1167.0",
         "-8.0",
         "17.0",
         "1.0",
         "-8.0",
         "-3.0",
         "-3.0",
         "2.0",
         "10.0",
         "10.0",
         "-49.0",
         "-4.0",
         "0.0",
         "6.0",
         "11.0",
         "-15.0",
         "-5.0",
         "15.0",
         "-90.0",
         "16.0",
         "5.0",
         "22.0",
         "8.0",
         "7.0",
         "-3.0",
         "-1.0",
         "32.0",
         "39.0",
         "22.0",
         "6.0",
         "-8.0",
         "0.0",
         "28.0",
         "1.0",
         "66.0",
         "12.0",
         "-22.0",
         "8.0",
         "2.0",
         "6.0",
         "256.0",
         "-23.0",
         "1.0",
         "-10.0",
         "-34.0",
         "7.0",
         "13.0",
         "-6.0",
         "-12.0",
         "-34.0",
         "6.0",
         "0.0",
         "1.0",
         "1.0",
         "25.0",
         "-4.0",
         "1.0",
         "7.0",
         "-49.0",
         "1.0",
         "-16.0",
         "4.0",
         "8.0",
         "-41.0",
         "-20.0",
         "0.0",
         "-8.0",
         "-9.0",
         "-34.0",
         "-1.0",
         "-48.0",
         "1.0",
         "8.0",
         "-10.0",
         "-4.0",
         "6.0",
         "-12.0",
         "-3200.0",
         "-106.0",
         "-67.0",
         "10.0",
         "1.0",
         "63.0",
         "-4.0",
         "-14.0"
        ],
        [
         "4",
         "-2.0",
         "1.0",
         "-125.0",
         "-6.0",
         "-12.0",
         "-6.0",
         "2.0",
         "-7.0",
         "-2.0",
         "-2.0",
         "-2.0",
         "20.0",
         "6.0",
         "-4.0",
         "3.0",
         "-15.0",
         "-3.0",
         "-2.0",
         "-28.0",
         "-6.0",
         "0.0",
         "-24.0",
         "-2.0",
         "-4.0",
         "-39.0",
         "3.0",
         "-6.0",
         "-11.0",
         "-20.0",
         "0.0",
         "-6.0",
         "-27.0",
         "-12.0",
         "-7.0",
         "90.0",
         "-1.0",
         "7.0",
         "-133.0",
         "-6.0",
         "9.0",
         "-76.0",
         "21.0",
         "-16.0",
         "-4.0",
         "3.0",
         "7.0",
         "7.0",
         "-14.0",
         "-1.0",
         "-30.0",
         "-24.0",
         "1.0",
         "-28.0",
         "-16.0",
         "2.0",
         "206.0",
         "11.0",
         "-19.0",
         "29.0",
         "-81.0",
         "8.0",
         "-5.0",
         "-7.0",
         "-13.0",
         "-11.0",
         "-17.0",
         "5.0",
         "-33.0",
         "16.0",
         "-8.0",
         "-14.0",
         "-5.0",
         "5.0",
         "-16.0",
         "-14.0",
         "-15.0",
         "-29.0",
         "-222.0",
         "2.0",
         "4.0",
         "-40.0",
         "-2.0",
         "-85.0",
         "0.0",
         "-8.0",
         "0.0",
         "3.0",
         "-9.0",
         "-8.0",
         "25.0",
         "0.0",
         "6.0",
         "1.0",
         "-9.0",
         "-5.0",
         "-2.0",
         "7.0",
         "-66.0",
         "-171.0",
         "5.0",
         "19.0",
         "1.0",
         "-5.0",
         "-2.0",
         "27.0",
         "-165.0",
         "0.0",
         "6.0",
         "3.0",
         "-99.0",
         "1.0",
         "-3.0",
         "61.0",
         "-30.0",
         "0.0",
         "0.0",
         "-28.0",
         "-3.0",
         "0.0",
         "13.0",
         "-15.0",
         "-1.0",
         "-4.0",
         "2.0",
         "-17.0",
         "0.0",
         "13.0",
         "1.0",
         "-508.0",
         "9.0",
         "-3.0",
         "-83.0",
         "-25.0",
         "-37.0",
         "11.0",
         "-44.0",
         "-5.0",
         "16.0",
         "-12.0",
         "27.0",
         "-39.0",
         "0.0",
         "-5.0",
         "-7.0",
         "-2.0",
         "-8.0",
         "0.0",
         "6.0",
         "63.0",
         "-7.0",
         "-144.0",
         "-68.0",
         "-35.0",
         "-110.0",
         "15.0",
         "-333.0",
         "-6.0",
         "-5.0",
         "7.0",
         "-6.0",
         "-1.0",
         "-69.0",
         "9.0",
         "-311.0",
         "62.0",
         "-10.0",
         "-49.0",
         "-84.0",
         "-69.0",
         "1.0",
         "-12.0",
         "0.0",
         "23.0",
         "10.0",
         "21.0",
         "94.0",
         "10.0",
         "-149.0",
         "81.0",
         "-114.0",
         "8.0",
         "-45.0",
         "23.0",
         "-28.0",
         "-77.0",
         "-90.0",
         "-369.0",
         "27.0",
         "16.0",
         "23.0",
         "6.0",
         "-13.0",
         "-16.0",
         "744.0",
         "0.0",
         "-9.0",
         "28.0",
         "42.0",
         "19.0",
         "51.0",
         "-1.0",
         "4.0",
         "4.0",
         "-18.0",
         "116.0",
         "-12.0",
         "22.0",
         "7.0",
         "13.0",
         "-10.0",
         "-7.0",
         "12.0",
         "20.0",
         "-10.0",
         "32.0",
         "-2.0",
         "6.0",
         "-16.0",
         "21.0",
         "50.0",
         "25.0",
         "12.0",
         "78.0",
         "-24.0",
         "8.0",
         "18.0",
         "6.0",
         "0.0",
         "25.0",
         "-22.0",
         "54.0",
         "4.0",
         "-6.0",
         "49.0",
         "-3.0",
         "-12.0",
         "-166.0",
         "21.0",
         "25.0",
         "-1.0",
         "4.0",
         "5.0",
         "21.0",
         "5.0",
         "-12.0",
         "10.0",
         "94.0",
         "2.0",
         "0.0",
         "4.0",
         "-5.0",
         "45.0",
         "-14.0",
         "15.0",
         "165.0",
         "91.0",
         "4.0",
         "-8.0",
         "0.0",
         "72.0",
         "3.0",
         "50.0",
         "15.0",
         "-2.0",
         "-31.0",
         "53.0",
         "-46.0",
         "-3.0",
         "56.0",
         "-6.0",
         "20.0",
         "9.0",
         "11.0",
         "-6.0",
         "9.0",
         "9.0",
         "-134.0",
         "4.0",
         "1.0",
         "9.0",
         "44.0",
         "23.0",
         "-24.0",
         "-7.0",
         "-12.0",
         "2.0",
         "20.0",
         "0.0",
         "4.0",
         "-1.0",
         "-51.0",
         "2.0",
         "2.0",
         "114.0",
         "-10.0",
         "0.0",
         "10.0",
         "12.0",
         "0.0",
         "41.0",
         "5.0",
         "0.0",
         "-13.0",
         "8.0",
         "-170.0",
         "0.0",
         "12.0",
         "-1.0",
         "-76.0",
         "37.0",
         "2.0",
         "-5.0",
         "110.0",
         "-4300.0",
         "143.0",
         "-750.0",
         "-11.0",
         "-1.0",
         "-128.0",
         "-6.0",
         "21.0"
        ]
       ],
       "shape": {
        "columns": 321,
        "rows": 5
       }
      },
      "text/html": [
       "<div>\n",
       "<style scoped>\n",
       "    .dataframe tbody tr th:only-of-type {\n",
       "        vertical-align: middle;\n",
       "    }\n",
       "\n",
       "    .dataframe tbody tr th {\n",
       "        vertical-align: top;\n",
       "    }\n",
       "\n",
       "    .dataframe thead th {\n",
       "        text-align: right;\n",
       "    }\n",
       "</style>\n",
       "<table border=\"1\" class=\"dataframe\">\n",
       "  <thead>\n",
       "    <tr style=\"text-align: right;\">\n",
       "      <th></th>\n",
       "      <th>V1</th>\n",
       "      <th>V2</th>\n",
       "      <th>V3</th>\n",
       "      <th>V4</th>\n",
       "      <th>V5</th>\n",
       "      <th>V6</th>\n",
       "      <th>V7</th>\n",
       "      <th>V8</th>\n",
       "      <th>V9</th>\n",
       "      <th>V10</th>\n",
       "      <th>...</th>\n",
       "      <th>V312</th>\n",
       "      <th>V313</th>\n",
       "      <th>V314</th>\n",
       "      <th>V315</th>\n",
       "      <th>V316</th>\n",
       "      <th>V317</th>\n",
       "      <th>V318</th>\n",
       "      <th>V319</th>\n",
       "      <th>V320</th>\n",
       "      <th>V321</th>\n",
       "    </tr>\n",
       "  </thead>\n",
       "  <tbody>\n",
       "    <tr>\n",
       "      <th>0</th>\n",
       "      <td>4.0</td>\n",
       "      <td>23.0</td>\n",
       "      <td>78.0</td>\n",
       "      <td>141.0</td>\n",
       "      <td>77.0</td>\n",
       "      <td>307.0</td>\n",
       "      <td>0.0</td>\n",
       "      <td>262.0</td>\n",
       "      <td>45.0</td>\n",
       "      <td>75.0</td>\n",
       "      <td>...</td>\n",
       "      <td>129.0</td>\n",
       "      <td>80.0</td>\n",
       "      <td>15100.0</td>\n",
       "      <td>-76.0</td>\n",
       "      <td>1615.0</td>\n",
       "      <td>17.0</td>\n",
       "      <td>9.0</td>\n",
       "      <td>619.0</td>\n",
       "      <td>71.0</td>\n",
       "      <td>673.0</td>\n",
       "    </tr>\n",
       "    <tr>\n",
       "      <th>1</th>\n",
       "      <td>3.0</td>\n",
       "      <td>4.0</td>\n",
       "      <td>0.0</td>\n",
       "      <td>4.0</td>\n",
       "      <td>-20.0</td>\n",
       "      <td>-123.0</td>\n",
       "      <td>0.0</td>\n",
       "      <td>-77.0</td>\n",
       "      <td>-1.0</td>\n",
       "      <td>-40.0</td>\n",
       "      <td>...</td>\n",
       "      <td>12.0</td>\n",
       "      <td>-22.0</td>\n",
       "      <td>1400.0</td>\n",
       "      <td>-358.0</td>\n",
       "      <td>-46.0</td>\n",
       "      <td>-1.0</td>\n",
       "      <td>-4.0</td>\n",
       "      <td>16.0</td>\n",
       "      <td>-35.0</td>\n",
       "      <td>-71.0</td>\n",
       "    </tr>\n",
       "    <tr>\n",
       "      <th>2</th>\n",
       "      <td>-1.0</td>\n",
       "      <td>-4.0</td>\n",
       "      <td>0.0</td>\n",
       "      <td>-117.0</td>\n",
       "      <td>-59.0</td>\n",
       "      <td>-395.0</td>\n",
       "      <td>-5.0</td>\n",
       "      <td>-192.0</td>\n",
       "      <td>-91.0</td>\n",
       "      <td>-89.0</td>\n",
       "      <td>...</td>\n",
       "      <td>-16.0</td>\n",
       "      <td>-139.0</td>\n",
       "      <td>-2100.0</td>\n",
       "      <td>-63.0</td>\n",
       "      <td>-206.0</td>\n",
       "      <td>1.0</td>\n",
       "      <td>-4.0</td>\n",
       "      <td>-878.0</td>\n",
       "      <td>-23.0</td>\n",
       "      <td>-29.0</td>\n",
       "    </tr>\n",
       "    <tr>\n",
       "      <th>3</th>\n",
       "      <td>2.0</td>\n",
       "      <td>-1.0</td>\n",
       "      <td>0.0</td>\n",
       "      <td>-97.0</td>\n",
       "      <td>-23.0</td>\n",
       "      <td>-198.0</td>\n",
       "      <td>-8.0</td>\n",
       "      <td>-100.0</td>\n",
       "      <td>7.0</td>\n",
       "      <td>-32.0</td>\n",
       "      <td>...</td>\n",
       "      <td>6.0</td>\n",
       "      <td>-12.0</td>\n",
       "      <td>-3200.0</td>\n",
       "      <td>-106.0</td>\n",
       "      <td>-67.0</td>\n",
       "      <td>10.0</td>\n",
       "      <td>1.0</td>\n",
       "      <td>63.0</td>\n",
       "      <td>-4.0</td>\n",
       "      <td>-14.0</td>\n",
       "    </tr>\n",
       "    <tr>\n",
       "      <th>4</th>\n",
       "      <td>-2.0</td>\n",
       "      <td>1.0</td>\n",
       "      <td>-125.0</td>\n",
       "      <td>-6.0</td>\n",
       "      <td>-12.0</td>\n",
       "      <td>-6.0</td>\n",
       "      <td>2.0</td>\n",
       "      <td>-7.0</td>\n",
       "      <td>-2.0</td>\n",
       "      <td>-2.0</td>\n",
       "      <td>...</td>\n",
       "      <td>-5.0</td>\n",
       "      <td>110.0</td>\n",
       "      <td>-4300.0</td>\n",
       "      <td>143.0</td>\n",
       "      <td>-750.0</td>\n",
       "      <td>-11.0</td>\n",
       "      <td>-1.0</td>\n",
       "      <td>-128.0</td>\n",
       "      <td>-6.0</td>\n",
       "      <td>21.0</td>\n",
       "    </tr>\n",
       "  </tbody>\n",
       "</table>\n",
       "<p>5 rows × 321 columns</p>\n",
       "</div>"
      ],
      "text/plain": [
       "    V1    V2     V3     V4    V5     V6   V7     V8    V9   V10  ...   V312  \\\n",
       "0  4.0  23.0   78.0  141.0  77.0  307.0  0.0  262.0  45.0  75.0  ...  129.0   \n",
       "1  3.0   4.0    0.0    4.0 -20.0 -123.0  0.0  -77.0  -1.0 -40.0  ...   12.0   \n",
       "2 -1.0  -4.0    0.0 -117.0 -59.0 -395.0 -5.0 -192.0 -91.0 -89.0  ...  -16.0   \n",
       "3  2.0  -1.0    0.0  -97.0 -23.0 -198.0 -8.0 -100.0   7.0 -32.0  ...    6.0   \n",
       "4 -2.0   1.0 -125.0   -6.0 -12.0   -6.0  2.0   -7.0  -2.0  -2.0  ...   -5.0   \n",
       "\n",
       "    V313     V314   V315    V316  V317  V318   V319  V320   V321  \n",
       "0   80.0  15100.0  -76.0  1615.0  17.0   9.0  619.0  71.0  673.0  \n",
       "1  -22.0   1400.0 -358.0   -46.0  -1.0  -4.0   16.0 -35.0  -71.0  \n",
       "2 -139.0  -2100.0  -63.0  -206.0   1.0  -4.0 -878.0 -23.0  -29.0  \n",
       "3  -12.0  -3200.0 -106.0   -67.0  10.0   1.0   63.0  -4.0  -14.0  \n",
       "4  110.0  -4300.0  143.0  -750.0 -11.0  -1.0 -128.0  -6.0   21.0  \n",
       "\n",
       "[5 rows x 321 columns]"
      ]
     },
     "execution_count": 7,
     "metadata": {},
     "output_type": "execute_result"
    }
   ],
   "source": [
    "elec.head()"
   ]
  },
  {
   "cell_type": "code",
   "execution_count": 8,
   "metadata": {},
   "outputs": [
    {
     "data": {
      "image/png": "[encoded data removed]",
      "text/plain": [
       "<Figure size 600x300 with 1 Axes>"
      ]
     },
     "metadata": {},
     "output_type": "display_data"
    }
   ],
   "source": [
    "# 전력 사용량의 변화를 시각적으로 확인해봅시다 !\n",
    "# 데이터는 차분(diff)되어 있어서, 실제 전력 사용량이 아닌 변화량을 가리킵니다.\n",
    "plt.plot(elec['V1'])\n",
    "plt.title(\"전력 사용량 변화 (차분 시계열)\")\n",
    "plt.xlabel(\"시간\")\n",
    "plt.ylabel(\"변화량\")\n",
    "plt.show()"
   ]
  },
  {
   "cell_type": "code",
   "execution_count": 9,
   "metadata": {},
   "outputs": [
    {
     "data": {
      "image/png": "[encoded data removed]",
      "text/plain": [
       "<Figure size 600x300 with 1 Axes>"
      ]
     },
     "metadata": {},
     "output_type": "display_data"
    }
   ],
   "source": [
    "plt.plot(elec.V4[:196], color='r')\n",
    "plt.plot(elec.V14[:196], color='g')\n",
    "plt.plot(elec.V114[:196], color='b')\n",
    "plt.show()"
   ]
  },
  {
   "cell_type": "markdown",
   "metadata": {},
   "source": [
    "## Dataset 클래스 정의"
   ]
  },
  {
   "cell_type": "code",
   "execution_count": 10,
   "metadata": {},
   "outputs": [],
   "source": [
    "# PyTorch에서는 Dataset 클래스를 만들어 학습 데이터를 관리합니다.\n",
    "# 시계열 데이터를 일정 길이(WIN)만큼 슬라이딩 윈도우 방식으로 잘라서\n",
    "# 입력(X)과 예측 대상(Y)을 만듭니다.\n",
    "\n",
    "from torch.utils.data import Dataset\n",
    "import torch\n",
    "\n",
    "# 딥러닝 세션 복습 ! ***에는 뭐가 들어가야 할까요?\n",
    "class ElectricityDataset(Dataset):\n",
    "    def __init__(self, data, win, horizon):\n",
    "        \"\"\"\n",
    "        Args:\n",
    "            series (np.array): 시계열 데이터.\n",
    "            win (int): 입력 시계열 길이 (예: 24)\n",
    "            horizon (int): 예측 시계열 길이 (예: 3)\n",
    "        \"\"\"\n",
    "        super(ElectricityDataset, self).__init__()\n",
    "        self.series = data\n",
    "        self.win = win\n",
    "        self.horizon = horizon\n",
    "\n",
    "        # 총 데이터 길이(T)\n",
    "        self.T = data.shape[0]\n",
    "        # slide 가능한 샘플 개수\n",
    "        self.n_samples = self.T - self.win - self.horizon + 1\n",
    "\n",
    "    def __len__(self):\n",
    "        return self.n_samples\n",
    "\n",
    "    def __getitem__(self, idx):\n",
    "        start = idx\n",
    "        end_x = idx + self.win\n",
    "        end_y = idx + self.win + self.horizon\n",
    "\n",
    "        X = self.series[start : end_x]\n",
    "        y = self.series[end_x : end_y, 0]\n",
    "\n",
    "        X = torch.tensor(X, dtype=torch.float32)\n",
    "        y = torch.tensor(y, dtype=torch.float32)\n",
    "        return X, y"
   ]
  },
  {
   "cell_type": "markdown",
   "metadata": {},
   "source": [
    "## 데이터셋 나누기"
   ]
  },
  {
   "cell_type": "code",
   "execution_count": 12,
   "metadata": {},
   "outputs": [],
   "source": [
    "from torch.utils.data import Dataset, DataLoader\n",
    "\n",
    "# 다차원 입력도 가능하지만 이번에는 단일 변수만 사용하겠습니다 !\n",
    "# 전력 사용량 데이터의 첫 번째 열(V1)을 선택해주세요.\n",
    "data = elec[['V1']].values\n",
    "\n",
    "n_total = len(data)\n",
    "n_train = int(n_total * DATA_SEGMENTS['tr'])\n",
    "n_val = int(n_total * DATA_SEGMENTS['va'])\n",
    "\n",
    "train_series = data[:n_train]\n",
    "val_series = data[n_train: n_train + n_val]\n",
    "test_series = data[n_train + n_val:]\n",
    "\n",
    "# 데이터셋 생성\n",
    "train_dataset = ElectricityDataset(train_series, WIN, H)\n",
    "val_dataset = ElectricityDataset(val_series, WIN, H)\n",
    "test_dataset = ElectricityDataset(test_series, WIN, H)\n",
    "\n",
    "# 데이터를 공급할 DataLoader (배치 단위로)\n",
    "train_loader = DataLoader(train_dataset, batch_size=BATCH_N, shuffle=True)\n",
    "val_loader = DataLoader(val_dataset, batch_size=BATCH_N)\n",
    "test_loader = DataLoader(test_dataset, batch_size=BATCH_N)"
   ]
  },
  {
   "cell_type": "markdown",
   "metadata": {},
   "source": [
    "데이터셋을 배치로 나눠 모델에 바로 쓸 수 있도록 준비를 마쳤습니다."
   ]
  },
  {
   "cell_type": "markdown",
   "metadata": {},
   "source": [
    "## 모델 정의"
   ]
  },
  {
   "cell_type": "markdown",
   "metadata": {},
   "source": [
    "- **입력**: 과거 `WIN` 시간 동안의 시계열 데이터  \n",
    "- **출력**: 미래 `H`시간의 시계열 예측값\n",
    "- **구조**:\n",
    "  - LSTM 계층: 시계열의 패턴을 기억하고 추론\n",
    "  - FC 계층: 마지막 hidden state를 기반으로 다수 시점 예측\n",
    "- **Dropout**: 학습 중 과적합 방지용\n",
    "\n",
    "이 모델은 입력 시계열의 패턴을 LSTM으로 학습하고,\n",
    "마지막 시점의 정보를 활용해 미래의 흐름을 예측합니다."
   ]
  },
  {
   "cell_type": "code",
   "execution_count": 13,
   "metadata": {},
   "outputs": [],
   "source": [
    "# 시계열 입력을 받아, RNN으로 내부 상태를 업데이트하고,\n",
    "# 마지막 hidden state를 기반으로 미래 H시간의 값을 예측합니다.\n",
    "\n",
    "class RNNForecastModel(nn.Module):\n",
    "    def __init__(self, input_size, hidden_size, output_horizon, dropout=0.2):\n",
    "        super(RNNForecastModel, self).__init__()\n",
    "        self.hidden_size = hidden_size\n",
    "        self.output_horizon = output_horizon\n",
    "\n",
    "        # LSTM 레이어 적용\n",
    "        self.rnn = nn.LSTM(input_size=input_size,\n",
    "                           hidden_size=hidden_size,\n",
    "                           batch_first=True,\n",
    "                           dropout=dropout)\n",
    "\n",
    "        # RNN 출력에서 H개의 시점 예측\n",
    "        self.fc = nn.Sequential(\n",
    "            nn.Linear(hidden_size, hidden_size // 2),\n",
    "            nn.ReLU(),\n",
    "            nn.Dropout(dropout),\n",
    "            nn.Linear(hidden_size // 2, output_horizon)\n",
    "        )\n",
    "\n",
    "    def forward(self, x):\n",
    "        out, _ = self.rnn(x)\n",
    "\n",
    "        # 마지막 시점의 hidden state만 사용\n",
    "        last_hidden = out[:, -1, :]\n",
    "\n",
    "        # 미래 horizon 값 예측\n",
    "        y_pred = self.fc(last_hidden)\n",
    "        return y_pred"
   ]
  },
  {
   "cell_type": "code",
   "execution_count": 14,
   "metadata": {},
   "outputs": [],
   "source": [
    "# 학습에 사용할 모델을 생성합니다.\n",
    "device = torch.device(\"cuda\" if torch.cuda.is_available() else \"cpu\")\n",
    "\n",
    "model = RNNForecastModel(input_size=data.shape[1],\n",
    "                         hidden_size=RNN_UNITS,\n",
    "                         output_horizon=H,\n",
    "                         dropout=DROP).to(device)"
   ]
  },
  {
   "cell_type": "code",
   "execution_count": 15,
   "metadata": {},
   "outputs": [],
   "source": [
    "# 손실함수: 평균 제곱 오차 (MSE)\n",
    "criterion = nn.MSELoss()\n",
    "\n",
    "# 옵티마이저: Adam\n",
    "optimizer = torch.optim.Adam(model.parameters(), lr=LR)"
   ]
  },
  {
   "cell_type": "markdown",
   "metadata": {},
   "source": [
    "## 학습"
   ]
  },
  {
   "cell_type": "markdown",
   "metadata": {},
   "source": [
    "### 모델 학습 과정 요약\n",
    "\n",
    "- **Train** 단계:\n",
    "  - 모델이 입력 데이터를 통해 예측값 생성\n",
    "  - 손실함수로 실제값과 차이를 계산\n",
    "  - 이 차이를 줄이기 위해 모델의 가중치를 업데이트\n",
    "\n",
    "- **Validation** 단계:\n",
    "  - 모델이 학습 데이터 외의 데이터에서도 잘 작동하는지 확인\n",
    "  - 성능이 개선되지 않으면 학습을 조기 종료"
   ]
  },
  {
   "cell_type": "code",
   "execution_count": 16,
   "metadata": {},
   "outputs": [],
   "source": [
    "def evaluate(model, data_loader):\n",
    "    \"\"\" 검증 또는 테스트 시 성능 평가 \"\"\"\n",
    "    model.eval() # 모델을 평가 모드로 설정 (eval)\n",
    "    total_loss = 0\n",
    "    with torch.no_grad():\n",
    "        for X_batch, Y_batch in data_loader:\n",
    "            X_batch, Y_batch = X_batch.to(device), Y_batch.to(device)\n",
    "            pred = model(X_batch)\n",
    "            loss = criterion(pred, Y_batch)\n",
    "            total_loss += loss.item() * X_batch.size(0)\n",
    "    return total_loss / len(data_loader.dataset)"
   ]
  },
  {
   "cell_type": "code",
   "execution_count": 17,
   "metadata": {},
   "outputs": [
    {
     "name": "stdout",
     "output_type": "stream",
     "text": [
      "Epoch 1/30 - Train Loss: 188.156954, Val Loss: 102.092686\n",
      "Epoch 2/30 - Train Loss: 187.807891, Val Loss: 101.884254\n",
      "Epoch 3/30 - Train Loss: 187.466310, Val Loss: 101.659061\n",
      "Epoch 4/30 - Train Loss: 187.037013, Val Loss: 101.393471\n",
      "Epoch 5/30 - Train Loss: 186.532259, Val Loss: 101.063502\n",
      "Epoch 6/30 - Train Loss: 185.865732, Val Loss: 100.655654\n",
      "Epoch 7/30 - Train Loss: 184.976833, Val Loss: 100.092844\n",
      "Epoch 8/30 - Train Loss: 183.855421, Val Loss: 99.280234\n",
      "Epoch 9/30 - Train Loss: 182.217047, Val Loss: 98.432439\n",
      "Epoch 10/30 - Train Loss: 180.404590, Val Loss: 97.444652\n",
      "Epoch 11/30 - Train Loss: 178.249904, Val Loss: 96.459328\n",
      "Epoch 12/30 - Train Loss: 176.103420, Val Loss: 95.041256\n",
      "Epoch 13/30 - Train Loss: 173.851454, Val Loss: 93.826264\n",
      "Epoch 14/30 - Train Loss: 171.798136, Val Loss: 92.985364\n",
      "Epoch 15/30 - Train Loss: 169.768355, Val Loss: 92.462679\n",
      "Epoch 16/30 - Train Loss: 168.345236, Val Loss: 91.315756\n",
      "Epoch 17/30 - Train Loss: 166.847148, Val Loss: 90.641094\n",
      "Epoch 18/30 - Train Loss: 165.220404, Val Loss: 90.031986\n",
      "Epoch 19/30 - Train Loss: 163.724239, Val Loss: 89.387721\n",
      "Epoch 20/30 - Train Loss: 162.261881, Val Loss: 88.804774\n",
      "Epoch 21/30 - Train Loss: 161.045172, Val Loss: 88.521474\n",
      "Epoch 22/30 - Train Loss: 159.902954, Val Loss: 88.211810\n",
      "Epoch 23/30 - Train Loss: 159.023009, Val Loss: 87.445061\n",
      "Epoch 24/30 - Train Loss: 157.717489, Val Loss: 87.118580\n",
      "Epoch 25/30 - Train Loss: 156.758847, Val Loss: 86.684983\n",
      "Epoch 26/30 - Train Loss: 156.046573, Val Loss: 86.307466\n",
      "Epoch 27/30 - Train Loss: 155.187620, Val Loss: 86.030221\n",
      "Epoch 28/30 - Train Loss: 154.098192, Val Loss: 85.898069\n",
      "Epoch 29/30 - Train Loss: 153.373798, Val Loss: 85.896035\n",
      "Epoch 30/30 - Train Loss: 152.825764, Val Loss: 85.313635\n"
     ]
    }
   ],
   "source": [
    "# 학습 루프 시작\n",
    "best_val_loss = float('inf')\n",
    "epochs_no_improve = 0\n",
    "\n",
    "for epoch in range(N_EPOCHS):\n",
    "    model.train() # 모델을 학습 모드로 설정 (train)\n",
    "    running_loss = 0.0\n",
    "\n",
    "    for X_batch, Y_batch in train_loader:\n",
    "        X_batch, Y_batch = X_batch.to(device), Y_batch.to(device)\n",
    "\n",
    "        # 순전파\n",
    "        pred = model(X_batch)\n",
    "        loss = criterion(pred, Y_batch)\n",
    "\n",
    "        # 역전파 + 최적화\n",
    "        optimizer.zero_grad()\n",
    "        loss.backward()\n",
    "        optimizer.step()\n",
    "\n",
    "        running_loss += loss.item() * X_batch.size(0)\n",
    "\n",
    "    # 평균 학습 손실\n",
    "    train_loss = running_loss / len(train_loader.dataset)\n",
    "    \n",
    "    # 검증 손실\n",
    "    val_loss = evaluate(model, val_loader)\n",
    "\n",
    "    print(f\"Epoch {epoch+1}/{N_EPOCHS} - Train Loss: {train_loss:.6f}, Val Loss: {val_loss:.6f}\")\n",
    "\n",
    "    # 조기 종료 조건 확인\n",
    "    if best_val_loss - val_loss < COR_THRESHOLD:\n",
    "        epochs_no_improve += 1\n",
    "        if epochs_no_improve >= THRESHOLD_EPOCHS:\n",
    "            print(f\"Early stopping triggered at epoch {epoch+1}\")\n",
    "            break\n",
    "    else:\n",
    "        best_val_loss = val_loss\n",
    "        epochs_no_improve = 0"
   ]
  },
  {
   "cell_type": "markdown",
   "metadata": {},
   "source": [
    "## 예측 및 성능 평가"
   ]
  },
  {
   "cell_type": "code",
   "execution_count": 18,
   "metadata": {},
   "outputs": [],
   "source": [
    "# 전체 테스트셋에 대해 예측값과 실제값을 저장\n",
    "model.eval() # 모델을 평가 모드로 설정\n",
    "\n",
    "y_preds = []\n",
    "y_trues = []\n",
    "\n",
    "with torch.no_grad():\n",
    "    for X_batch, Y_batch in test_loader:\n",
    "        X_batch = X_batch.to(device)\n",
    "        Y_batch = Y_batch.to(device)\n",
    "\n",
    "        pred = model(X_batch)\n",
    "\n",
    "        y_preds.append(pred.cpu().numpy()) # y_preds에 값 추가 (append)\n",
    "        y_trues.append(Y_batch.cpu().numpy()) # y_trues에 값 추가\n",
    "\n",
    "# 리스트를 numpy 배열로 결합\n",
    "y_preds = np.concatenate(y_preds, axis=0)\n",
    "y_trues = np.concatenate(y_trues, axis=0)"
   ]
  },
  {
   "cell_type": "code",
   "execution_count": 19,
   "metadata": {},
   "outputs": [],
   "source": [
    "# 전체 시계열 기준으로 flatten (H=3인 경우 각 샘플당 3개의 예측)\n",
    "y_preds_flat = y_preds.flatten()\n",
    "y_trues_flat = y_trues.flatten()"
   ]
  },
  {
   "cell_type": "code",
   "execution_count": 20,
   "metadata": {},
   "outputs": [
    {
     "name": "stdout",
     "output_type": "stream",
     "text": [
      "Pearson Correlation:  0.4077\n",
      "Spearman Correlation: 0.2931\n"
     ]
    }
   ],
   "source": [
    "# 피어슨 상관계수\n",
    "pearson_corr, _ = pearsonr(y_trues_flat, y_preds_flat)\n",
    "\n",
    "# 스피어만 상관계수\n",
    "spearman_corr, _ = spearmanr(y_trues_flat, y_preds_flat)\n",
    "\n",
    "print(f\"Pearson Correlation:  {pearson_corr:.4f}\")\n",
    "print(f\"Spearman Correlation: {spearman_corr:.4f}\")"
   ]
  },
  {
   "cell_type": "code",
   "execution_count": 21,
   "metadata": {},
   "outputs": [],
   "source": [
    "from sklearn.metrics import mean_squared_error, mean_absolute_error, r2_score\n",
    "\n",
    "def compute_metrics(y_true, y_pred):\n",
    "    mse = mean_squared_error(y_true, y_pred)\n",
    "    rmse = mse**0.5\n",
    "    mae = mean_absolute_error(y_true, y_pred)\n",
    "    r2 = r2_score(y_true, y_pred)\n",
    "\n",
    "    return {\n",
    "        \"MSE\": mse,\n",
    "        \"RMSE\": rmse,\n",
    "        \"MAE\": mae,\n",
    "        \"R2 Score\": r2\n",
    "    }"
   ]
  },
  {
   "cell_type": "code",
   "execution_count": 22,
   "metadata": {},
   "outputs": [
    {
     "data": {
      "text/plain": [
       "{'MSE': 80.43930053710938,\n",
       " 'RMSE': 8.968795935749089,\n",
       " 'MAE': 4.292659282684326,\n",
       " 'R2 Score': 0.16206151247024536}"
      ]
     },
     "execution_count": 22,
     "metadata": {},
     "output_type": "execute_result"
    }
   ],
   "source": [
    "compute_metrics(y_trues_flat, y_preds_flat)"
   ]
  },
  {
   "cell_type": "code",
   "execution_count": 23,
   "metadata": {},
   "outputs": [
    {
     "data": {
      "image/png": "[encoded data removed]",
      "text/plain": [
       "<Figure size 1200x600 with 1 Axes>"
      ]
     },
     "metadata": {},
     "output_type": "display_data"
    }
   ],
   "source": [
    "# y_trues와 y_preds를 시각적으로 비교\n",
    "plt.figure(figsize=(12, 6))\n",
    "plt.plot(y_trues_flat, label='실제값', color='blue', alpha=0.6)\n",
    "plt.plot(y_preds_flat, label='예측값', color='red', alpha=0.6)\n",
    "plt.title('실제값과 예측값 비교')\n",
    "plt.xlabel('샘플 인덱스')\n",
    "plt.ylabel('전력 사용량 변화량')\n",
    "plt.legend()\n",
    "plt.show()"
   ]
  },
  {
   "cell_type": "markdown",
   "metadata": {},
   "source": [
    "직접 학습을 시켰기 때문에 모델 성능은 좋지 않지만(🥲), 이런 프로세스로 딥러닝 모델을 시계열 예측에 적용할 수 있다는 것을 확인해 볼 수 있겠습니다 😊\n",
    "\n",
    "마지막 과제까지 너무 수고하셨습니다 !!"
   ]
  }
 ],
 "metadata": {
  "kernelspec": {
   "display_name": "Python 3",
   "language": "python",
   "name": "python3"
  },
  "language_info": {
   "codemirror_mode": {
    "name": "ipython",
    "version": 3
   },
   "file_extension": ".py",
   "mimetype": "text/x-python",
   "name": "python",
   "nbconvert_exporter": "python",
   "pygments_lexer": "ipython3",
   "version": "3.9.6"
  }
 },
 "nbformat": 4,
 "nbformat_minor": 2
}
