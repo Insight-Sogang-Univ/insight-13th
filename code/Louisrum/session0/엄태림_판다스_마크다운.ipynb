{
 "cells": [
  {
   "cell_type": "markdown",
   "id": "531d3f76-12b5-4e67-a7be-d1ac76b65a82",
   "metadata": {},
   "source": [
    "Pandas는 데이터 분석에 특화된 라이브러리로\n",
    "\n",
    "Numpy를 데이터프레임로 만들어 사용하는 확장판"
   ]
  },
  {
   "cell_type": "markdown",
   "id": "b01f5397-1790-4314-be0c-e19d741f2d30",
   "metadata": {},
   "source": [
    "데이터프레임의 구성\n",
    "\n",
    "기본 구조: 열과 행의 구조를 가짐, 열(인덱스)는 데이터의 순서, 행(칼럼)은 데이터의 카테고리를 의미\n",
    "\n",
    "Series : value 와 index로 구성된 1차원 자료구조, 일종의 1차원 배열로서, 값을 구성하는 데이터타입이 모두 같아야함\n",
    "\n",
    "DataFrame : 행과 열로 이뤄진 2차원 배열구조, 길이가 같은 시리즈의 집합체, 칼럼단위로는 데이터 타입이 동일해야(하나의 칼럼이 하나의 시리즈라고 볼 수 있기 때문)하나, 칼럼 간에는 달라도 무방"
   ]
  },
  {
   "cell_type": "markdown",
   "id": "fc027c7a-ff29-42bd-b6d2-8e7745b75212",
   "metadata": {},
   "source": [
    "데이터 추출\n",
    "\n",
    "인덱싱 : 입력 조건이 단순 지목\n",
    "슬라이싱 : 범위가 조건\n",
    "\n",
    "행단위 데이터 추출 : loc, iloc\n",
    "loc : 기본적으로 행단위 추출, 인자로 행과 열의 이름이 들어와야(끝 인덱스를 포함해 반환)\n",
    "iloc : 인자로 정수형 인덱스 번호가 와야함(끝 인덱스 포함 안함)\n",
    "\n",
    "열단위 추출 : 컬럼명으로 직접 인덱싱하기\n",
    "\n",
    "불리언 인덱싱 : 특정 조건에 맞는 데이터 추출"
   ]
  },
  {
   "cell_type": "markdown",
   "id": "12034b60-0200-4dbf-b4ae-1b31295d3758",
   "metadata": {},
   "source": [
    "데이터 조작\n",
    "\n",
    "특정 데이터 셋을 열로 추가/삭제 가능\n",
    "\n",
    "데이터 정렬 : 인덱스 또는 특정 열의 값을 기준으로 정렬 가능\n",
    "\n",
    "데이터 변환 : 자료형을 변환하거나 값을 변환 가능\n",
    "\n",
    "데이터프레임 병합 : \n",
    "    concat(단순접착, 행 또는 열 방향으로 이어붙이기 가능, 동일 구조 합칠 때 사용)\n",
    "    merge(공통항목 기준 병합, 공통항목 있어야 합치기 가능, 형태가 달라도 겹치는거 있으면 가능, \n",
    "            on 인자를 통해 기준열 지정 가능, how 인자에 따라 결합 방식도 결정 가능)"
   ]
  },
  {
   "cell_type": "code",
   "execution_count": null,
   "id": "02f743ac-d3c4-4551-9d70-212e115a7f00",
   "metadata": {},
   "outputs": [],
   "source": []
  }
 ],
 "metadata": {
  "kernelspec": {
   "display_name": "Python [conda env:base] *",
   "language": "python",
   "name": "conda-base-py"
  },
  "language_info": {
   "codemirror_mode": {
    "name": "ipython",
    "version": 3
   },
   "file_extension": ".py",
   "mimetype": "text/x-python",
   "name": "python",
   "nbconvert_exporter": "python",
   "pygments_lexer": "ipython3",
   "version": "3.12.9"
  }
 },
 "nbformat": 4,
 "nbformat_minor": 5
}
