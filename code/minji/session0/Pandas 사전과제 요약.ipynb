{
 "cells": [
  {
   "cell_type": "markdown",
   "id": "7ac3f11a-7f4c-449f-8a84-8290abf1233a",
   "metadata": {},
   "source": [
    "# 1. 판다스란?\n",
    "\n",
    "### 1-1) 판다스(Pandas)란?\n",
    "\n",
    "- Pandas는 **데이터 분석을 위한 파이썬 라이브러리**입니다.\n",
    "- 데이터프레임을 기본 구조로 사용하며, 행과 열로 데이터를 쉽게 다룰 수 있습니다.\n",
    "- **넘파이(Numpy)**의 확장판으로, 수치 계산 + 구조화된 데이터 처리 기능을 제공합니다.\n",
    "\n",
    "### 1-2) 판다스 실행 방법\n",
    "\n",
    "- 판다스는 **import**로 불러옵니다."
   ]
  },
  {
   "cell_type": "code",
   "execution_count": 3,
   "id": "309ab236-e8ad-472b-81f9-32554c04842f",
   "metadata": {},
   "outputs": [
    {
     "ename": "IndentationError",
     "evalue": "unexpected indent (4185779595.py, line 2)",
     "output_type": "error",
     "traceback": [
      "\u001b[1;36m  Cell \u001b[1;32mIn[3], line 2\u001b[1;36m\u001b[0m\n\u001b[1;33m    df = pd.read_csv('파일 경로')\u001b[0m\n\u001b[1;37m    ^\u001b[0m\n\u001b[1;31mIndentationError\u001b[0m\u001b[1;31m:\u001b[0m unexpected indent\n"
     ]
    }
   ],
   "source": [
    "import pandas as pd\n",
    "    df = pd.read_csv('파일 경로')\n",
    "# 다른 파일 형식도 불러올 수 있습니다: `read_excel()`, `read_json()`, `read_html()` 등."
   ]
  },
  {
   "cell_type": "markdown",
   "id": "bbee8168-4769-4876-a0c8-d2e531a0c854",
   "metadata": {},
   "source": [
    "# 2. 데이터프레임의 구성\n",
    "\n",
    "### 2-1) Index와 Column\n",
    "- 데이터프레임은 **‘행(Index)’과 ‘열(Column)’**로 구성됩니다.\n",
    "- 행은 데이터의 순서, 열은 데이터의 카테고리를 나타냅니다.\n",
    "\n",
    "### 2-2) Series\n",
    "- 시리즈는 **1차원 자료구조**로, **‘값’**과 **‘인덱스’**로 구성됩니다.\n",
    "- `pd.Series()`로 시리즈를 만들 수 있습니다."
   ]
  },
  {
   "cell_type": "code",
   "execution_count": null,
   "id": "f9324a47-0d86-42ec-ac78-618c7128679f",
   "metadata": {},
   "outputs": [],
   "source": [
    " series = ['LG', '애플', '애플', '삼성', 'ASUS', '삼성']\n",
    "    sr = pd.Series(series)\n",
    "index = [1,2,3,4,5,6]\n",
    "sr = pd.Series(series, index = index)"
   ]
  },
  {
   "cell_type": "markdown",
   "id": "c83eaced-50a9-4677-aceb-929504ef26df",
   "metadata": {},
   "source": [
    "### 2-3) DataFrame\n",
    "- 데이터프레임은 **2차원 배열**로, 여러 시리즈의 집합입니다.\n",
    "- 시리즈, 즉 컬럼 단위로는 값들의 데이터 타입이 동일해야 하지만, 컬럼 간의 데이터타입은 달라도 무방합니다."
   ]
  },
  {
   "cell_type": "markdown",
   "id": "ef63da8a-7751-4e06-a30f-511284cd3ffa",
   "metadata": {},
   "source": [
    "### 2-3) DataFrame\n",
    "- 데이터프레임은 **2차원 배열**로, 여러 시리즈의 집합입니다."
   ]
  },
  {
   "cell_type": "code",
   "execution_count": null,
   "id": "1d47df56-0173-4eb0-90f5-51b2dadc8cd2",
   "metadata": {},
   "outputs": [],
   "source": [
    "data = {'브랜드': ['LG', '애플'], '화면 크기': [14.0, 14.2]}\n",
    "    df = pd.DataFrame(data)"
   ]
  },
  {
   "cell_type": "code",
   "execution_count": 25,
   "id": "5cf38e82-0c92-4d95-819c-5570e459b605",
   "metadata": {},
   "outputs": [],
   "source": [
    "import pandas as pd\n",
    "data = {\n",
    "    '노트북 브랜드' : ['LG', '애플', '애플', '삼성', 'ASUS', '삼성'],\n",
    "    '노트북 화면 크기(인치)' : [14.0, 14.2, 15.3, 13.3, 14.0, 15.6],\n",
    "    '노트북 무게(kg)' : [0.99, 1.63, 1.51, 0.87, 1.28, 1.80],\n",
    "    '사용자 이름' : ['연동운', '문유정', '이다빈', '최재완', '조영진', '김진형'],\n",
    "}\n",
    "df = pd.DataFrame(data)"
   ]
  },
  {
   "cell_type": "markdown",
   "id": "707725c1-55c0-46e9-b4c0-05773ba52178",
   "metadata": {},
   "source": [
    "### 2-4) 데이터 확인하기\n",
    "- 데이터의 일부를 확인하거나 통계 정보를 확인할 수 있습니다.\n",
    "    - `df.head()` : 앞 5개 행 확인\n",
    "    - `df.tail()` : 뒤 5개 행 확인\n",
    "    - `df.shape` : (행, 열) 크기 확인\n",
    "    - `df.dtypes` : 데이터 타입 확인\n",
    "    - `df.describe()` : 통계 정보 확인\n",
    "    - `df.isnull()` : 결측치 확인\n",
    "    - `df.count()` : 데이터 개수 확인\n",
    "    - `df.value_counts()` : 빈도수 확인"
   ]
  },
  {
   "cell_type": "markdown",
   "id": "786fe0c7-c2ed-4549-a5b4-d0e1cfbc6115",
   "metadata": {},
   "source": [
    "# 3. 데이터 추출\n",
    "\n",
    "<aside>\n",
    "💡 데이터 추출은 왜 해야 하나요?\n",
    "\n",
    "⇒ 우리가 실제로 분석하게 될 데이터는 양이 매우 방대합니다. 효율적인 분석을 위해서는 내가 관심 있는 부분만 따로 뽑아내어 가공하는 스킬이 중요하고, 이는 실제로 실무에서 데이터 분석가들에게 가장 많이 요구하는 작업이기도 합니다.\n",
    "</aside>\n",
    "\n",
    "### 3-1) 인덱싱(Indexing) & 슬라이싱(Slicing)\n",
    "\n",
    "**인덱싱 & 슬라이싱**은 인덱스와 컬럼을 사용해 데이터를 추출하는 방법입니다.\n",
    "\n",
    "- **인덱싱**: 단순히 특정 값을 지목할 때 사용\n",
    "- **슬라이싱**: 범위를 지정해 데이터를 추출할 때 사용\n",
    "\n",
    "```python\n",
    "# 범위 슬라이싱\n",
    "data[:1]  # 0번째 데이터 반환\n",
    "data[1:3] # 1~2번째 데이터 반환\n",
    "data[2:]  # 2번째~끝까지 데이터 반환"
   ]
  },
  {
   "cell_type": "markdown",
   "id": "518397c1-6329-40c7-a0b8-9374be888826",
   "metadata": {},
   "source": [
    "### 3-2) 행단위 데이터 추출 : `loc`과 `iloc`\n",
    "\n",
    "#### loc\n",
    "- `df.loc[행 이름]`: **행 단위** 추출\n",
    "- `df.loc[행 이름, 열 이름]`: **값 단위** 추출\n",
    "- `df.loc[:, 열 이름]`: **열 단위** 추출\n",
    "\n",
    "#### iloc\n",
    "- `iloc`은 **정수형 인덱스**를 사용\n",
    "- `df.iloc[행 순서, 열 순서]`: **행과 열의 순서 번호**로 데이터 추출\n",
    "\n",
    "### 3-3) 열단위 데이터 추출 : 컬럼명\n",
    "\n",
    "- `df[열 이름]`: **하나의 열** 추출\n",
    "- `df[[열 이름1, 열 이름2]]`: **여러 열** 추출\n",
    "- `df[열 이름][행 이름]`: 열과 행 결합 추출\n",
    "\n",
    "### 3-4) 불리언 인덱싱\n",
    "\n",
    "- **불리언 인덱싱**: 조건에 맞는 **True 값**만 추출\n",
    "- `df[조건문]`: 조건에 맞는 데이터 추출\n",
    "- `df.loc[조건문, 열 이름]`: 조건과 열을 결합하여 추출\n",
    "\n",
    "### 3-5) 인덱스 설정\n",
    "\n",
    "- `df.set_index(열 이름)`: **열을 인덱스로 설정**\n",
    "- `df.reset_index()`: 인덱스를 리셋하고 **기존 인덱스를 열로 추가**\n",
    "- `df.reindex(인덱스 배열)`: **인덱스 재배열**\n",
    "\n",
    "```python\n",
    "# 인덱스 재배열 예시\n",
    "df.reindex([2, 0, 1])"
   ]
  },
  {
   "cell_type": "markdown",
   "id": "831cdeb6-d276-4d0a-96fd-837ac196cdc8",
   "metadata": {},
   "source": [
    "### 4-1) 데이터 추가, 삭제\n",
    "\n",
    "- **열 추가**: `df['새로운 열 이름'] = 리스트`\n",
    "  \n",
    "- **열 삭제**: `df.drop(labels, axis)`\n",
    "  - `axis = 0`: 행 삭제\n",
    "  - `axis = 1`: 열 삭제\n",
    "  \n",
    "- **참고**: \n",
    "  - **inplace = True**: 원본 데이터 수정\n",
    "  - **axis**: \n",
    "    - `axis=0`: 행 단위 연산\n",
    "    - `axis=1`: 열 단위 연산\n",
    "\n",
    "### 4-2) 데이터 정렬\n",
    "\n",
    "- **인덱스 기준 정렬**: `df.sort_index()`\n",
    "- **열 기준 정렬**: `df.sort_values(\"열 이름\")`\n",
    "\n",
    "### 4-3) 데이터 변환\n",
    "\n",
    "- **자료형 변환**: `df[열 이름] = df[열 이름].astype(바꿀 자료형)`\n",
    "- **값 변환**: `df.replace(바꾸고 싶은 값, 바꿀 값)`\n",
    "\n",
    "### 4-4) 데이터프레임 병합\n",
    "\n",
    "- **concat**: 행 또는 열 방향으로 단순 결합\n",
    "  - `df = pd.concat([df1, df2], axis=0)` : 행 방향\n",
    "  - `df = pd.concat([df1, df2], axis=1)` : 열 방향\n",
    "\n",
    "- **merge**: 공통 항목(열)을 기준으로 병합\n",
    "  - `df = pd.merge(df1, df2, how='inner', on='공통열')`: 교집합\n",
    "  - `df = pd.merge(df1, df2, how='outer', on='공통열')`: 합집합"
   ]
  }
 ],
 "metadata": {
  "kernelspec": {
   "display_name": "Python [conda env:base] *",
   "language": "python",
   "name": "conda-base-py"
  },
  "language_info": {
   "codemirror_mode": {
    "name": "ipython",
    "version": 3
   },
   "file_extension": ".py",
   "mimetype": "text/x-python",
   "name": "python",
   "nbconvert_exporter": "python",
   "pygments_lexer": "ipython3",
   "version": "3.12.7"
  }
 },
 "nbformat": 4,
 "nbformat_minor": 5
}
