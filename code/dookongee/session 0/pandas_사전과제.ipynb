{
 "cells": [
  {
   "cell_type": "markdown",
   "id": "275b8685-8611-4444-9ae8-5ed1d0aa9d18",
   "metadata": {},
   "source": [
    "예습한 내용 작성~~~"
   ]
  },
  {
   "cell_type": "code",
   "execution_count": null,
   "id": "f27e2d8f-5fc6-46c0-85a7-9d27ea0fb593",
   "metadata": {},
   "outputs": [],
   "source": []
  },
  {
   "cell_type": "code",
   "execution_count": null,
   "id": "8b51c53e-f0d8-4933-8fb9-27e8f104dc71",
   "metadata": {},
   "outputs": [],
   "source": []
  }
 ],
 "metadata": {
  "kernelspec": {
   "display_name": "Python 3 (ipykernel)",
   "language": "python",
   "name": "python3"
  },
  "language_info": {
   "codemirror_mode": {
    "name": "ipython",
    "version": 3
   },
   "file_extension": ".py",
   "mimetype": "text/x-python",
   "name": "python",
   "nbconvert_exporter": "python",
   "pygments_lexer": "ipython3",
   "version": "3.11.5"
  }
 },
 "nbformat": 4,
 "nbformat_minor": 5
}
